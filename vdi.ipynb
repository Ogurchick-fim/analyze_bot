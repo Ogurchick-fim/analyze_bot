{
 "cells": [
  {
   "cell_type": "code",
   "execution_count": 2,
   "metadata": {},
   "outputs": [],
   "source": [
    "import matplotlib.pyplot as plt\n",
    "import numpy as np\n",
    "import pandas as pd\n",
    "import seaborn as sns\n",
    "import plotly.express as px\n",
    "import plotly.graph_objects as go\n"
   ]
  },
  {
   "cell_type": "code",
   "execution_count": 3,
   "metadata": {},
   "outputs": [],
   "source": [
    "x = np.arange(0,5,0.1)\n",
    "def f (x):\n",
    "    return x**2\n",
    "\n"
   ]
  },
  {
   "cell_type": "code",
   "execution_count": 4,
   "metadata": {},
   "outputs": [
    {
     "data": {
      "application/vnd.plotly.v1+json": {
       "config": {
        "plotlyServerURL": "https://plot.ly"
       },
       "data": [
        {
         "hovertemplate": "x=%{x}<br>y=%{y}<extra></extra>",
         "legendgroup": "",
         "marker": {
          "color": "#636efa",
          "symbol": "circle"
         },
         "mode": "markers",
         "name": "",
         "orientation": "v",
         "showlegend": false,
         "type": "scatter",
         "x": {
          "bdata": "AAAAAAAAAACamZmZmZm5P5qZmZmZmck/NDMzMzMz0z+amZmZmZnZPwAAAAAAAOA/NDMzMzMz4z9nZmZmZmbmP5qZmZmZmek/zczMzMzM7D8AAAAAAADwP5qZmZmZmfE/NDMzMzMz8z/NzMzMzMz0P2dmZmZmZvY/AAAAAAAA+D+amZmZmZn5PzQzMzMzM/s/zczMzMzM/D9nZmZmZmb+PwAAAAAAAABAzczMzMzMAECamZmZmZkBQGdmZmZmZgJANDMzMzMzA0AAAAAAAAAEQM3MzMzMzARAmpmZmZmZBUBnZmZmZmYGQDQzMzMzMwdAAAAAAAAACEDNzMzMzMwIQJqZmZmZmQlAZ2ZmZmZmCkA0MzMzMzMLQAAAAAAAAAxAzczMzMzMDECamZmZmZkNQGdmZmZmZg5ANDMzMzMzD0AAAAAAAAAQQGdmZmZmZhBAzczMzMzMEEAzMzMzMzMRQJqZmZmZmRFAAAAAAAAAEkBnZmZmZmYSQM3MzMzMzBJANDMzMzMzE0CamZmZmZkTQA==",
          "dtype": "f8"
         },
         "xaxis": "x",
         "y": {
          "bdata": "AAAAAAAAAAB8FK5H4XqEP3wUrkfheqQ/DNejcD0Ktz98FK5H4XrEPwAAAAAAANA/DNejcD0K1z9ej8L1KFzfP3wUrkfheuQ/7FG4HoXr6T8AAAAAAADwP12PwvUoXPM/DNejcD0K9z8L16NwPQr7P16PwvUoXP8/AAAAAAAAAkB8FK5H4XoEQCCF61G4HgdA7FG4HoXrCUDiehSuR+EMQAAAAAAAABBApHA9CtejEUBdj8L1KFwTQCpcj8L1KBVADNejcD0KF0AAAAAAAAAZQAvXo3A9ChtAKlyPwvUoHUBej8L1KFwfQFO4HoXr0SBAAAAAAAAAIkC5HoXrUTgjQHwUrkfheiRASeF6FK7HJUAghetRuB4nQAAAAAAAgChA7FG4HoXrKUDiehSuR2ErQOJ6FK5H4SxA7VG4HoVrLkAAAAAAAAAwQJHC9ShczzBApHA9CtejMUA9CtejcH0yQF2PwvUoXDNAAAAAAABANEAqXI/C9Sg1QNijcD0KFzZADNejcD0KN0DE9ShcjwI4QA==",
          "dtype": "f8"
         },
         "yaxis": "y"
        }
       ],
       "layout": {
        "legend": {
         "tracegroupgap": 0
        },
        "margin": {
         "t": 60
        },
        "template": {
         "data": {
          "bar": [
           {
            "error_x": {
             "color": "#2a3f5f"
            },
            "error_y": {
             "color": "#2a3f5f"
            },
            "marker": {
             "line": {
              "color": "#E5ECF6",
              "width": 0.5
             },
             "pattern": {
              "fillmode": "overlay",
              "size": 10,
              "solidity": 0.2
             }
            },
            "type": "bar"
           }
          ],
          "barpolar": [
           {
            "marker": {
             "line": {
              "color": "#E5ECF6",
              "width": 0.5
             },
             "pattern": {
              "fillmode": "overlay",
              "size": 10,
              "solidity": 0.2
             }
            },
            "type": "barpolar"
           }
          ],
          "carpet": [
           {
            "aaxis": {
             "endlinecolor": "#2a3f5f",
             "gridcolor": "white",
             "linecolor": "white",
             "minorgridcolor": "white",
             "startlinecolor": "#2a3f5f"
            },
            "baxis": {
             "endlinecolor": "#2a3f5f",
             "gridcolor": "white",
             "linecolor": "white",
             "minorgridcolor": "white",
             "startlinecolor": "#2a3f5f"
            },
            "type": "carpet"
           }
          ],
          "choropleth": [
           {
            "colorbar": {
             "outlinewidth": 0,
             "ticks": ""
            },
            "type": "choropleth"
           }
          ],
          "contour": [
           {
            "colorbar": {
             "outlinewidth": 0,
             "ticks": ""
            },
            "colorscale": [
             [
              0,
              "#0d0887"
             ],
             [
              0.1111111111111111,
              "#46039f"
             ],
             [
              0.2222222222222222,
              "#7201a8"
             ],
             [
              0.3333333333333333,
              "#9c179e"
             ],
             [
              0.4444444444444444,
              "#bd3786"
             ],
             [
              0.5555555555555556,
              "#d8576b"
             ],
             [
              0.6666666666666666,
              "#ed7953"
             ],
             [
              0.7777777777777778,
              "#fb9f3a"
             ],
             [
              0.8888888888888888,
              "#fdca26"
             ],
             [
              1,
              "#f0f921"
             ]
            ],
            "type": "contour"
           }
          ],
          "contourcarpet": [
           {
            "colorbar": {
             "outlinewidth": 0,
             "ticks": ""
            },
            "type": "contourcarpet"
           }
          ],
          "heatmap": [
           {
            "colorbar": {
             "outlinewidth": 0,
             "ticks": ""
            },
            "colorscale": [
             [
              0,
              "#0d0887"
             ],
             [
              0.1111111111111111,
              "#46039f"
             ],
             [
              0.2222222222222222,
              "#7201a8"
             ],
             [
              0.3333333333333333,
              "#9c179e"
             ],
             [
              0.4444444444444444,
              "#bd3786"
             ],
             [
              0.5555555555555556,
              "#d8576b"
             ],
             [
              0.6666666666666666,
              "#ed7953"
             ],
             [
              0.7777777777777778,
              "#fb9f3a"
             ],
             [
              0.8888888888888888,
              "#fdca26"
             ],
             [
              1,
              "#f0f921"
             ]
            ],
            "type": "heatmap"
           }
          ],
          "histogram": [
           {
            "marker": {
             "pattern": {
              "fillmode": "overlay",
              "size": 10,
              "solidity": 0.2
             }
            },
            "type": "histogram"
           }
          ],
          "histogram2d": [
           {
            "colorbar": {
             "outlinewidth": 0,
             "ticks": ""
            },
            "colorscale": [
             [
              0,
              "#0d0887"
             ],
             [
              0.1111111111111111,
              "#46039f"
             ],
             [
              0.2222222222222222,
              "#7201a8"
             ],
             [
              0.3333333333333333,
              "#9c179e"
             ],
             [
              0.4444444444444444,
              "#bd3786"
             ],
             [
              0.5555555555555556,
              "#d8576b"
             ],
             [
              0.6666666666666666,
              "#ed7953"
             ],
             [
              0.7777777777777778,
              "#fb9f3a"
             ],
             [
              0.8888888888888888,
              "#fdca26"
             ],
             [
              1,
              "#f0f921"
             ]
            ],
            "type": "histogram2d"
           }
          ],
          "histogram2dcontour": [
           {
            "colorbar": {
             "outlinewidth": 0,
             "ticks": ""
            },
            "colorscale": [
             [
              0,
              "#0d0887"
             ],
             [
              0.1111111111111111,
              "#46039f"
             ],
             [
              0.2222222222222222,
              "#7201a8"
             ],
             [
              0.3333333333333333,
              "#9c179e"
             ],
             [
              0.4444444444444444,
              "#bd3786"
             ],
             [
              0.5555555555555556,
              "#d8576b"
             ],
             [
              0.6666666666666666,
              "#ed7953"
             ],
             [
              0.7777777777777778,
              "#fb9f3a"
             ],
             [
              0.8888888888888888,
              "#fdca26"
             ],
             [
              1,
              "#f0f921"
             ]
            ],
            "type": "histogram2dcontour"
           }
          ],
          "mesh3d": [
           {
            "colorbar": {
             "outlinewidth": 0,
             "ticks": ""
            },
            "type": "mesh3d"
           }
          ],
          "parcoords": [
           {
            "line": {
             "colorbar": {
              "outlinewidth": 0,
              "ticks": ""
             }
            },
            "type": "parcoords"
           }
          ],
          "pie": [
           {
            "automargin": true,
            "type": "pie"
           }
          ],
          "scatter": [
           {
            "fillpattern": {
             "fillmode": "overlay",
             "size": 10,
             "solidity": 0.2
            },
            "type": "scatter"
           }
          ],
          "scatter3d": [
           {
            "line": {
             "colorbar": {
              "outlinewidth": 0,
              "ticks": ""
             }
            },
            "marker": {
             "colorbar": {
              "outlinewidth": 0,
              "ticks": ""
             }
            },
            "type": "scatter3d"
           }
          ],
          "scattercarpet": [
           {
            "marker": {
             "colorbar": {
              "outlinewidth": 0,
              "ticks": ""
             }
            },
            "type": "scattercarpet"
           }
          ],
          "scattergeo": [
           {
            "marker": {
             "colorbar": {
              "outlinewidth": 0,
              "ticks": ""
             }
            },
            "type": "scattergeo"
           }
          ],
          "scattergl": [
           {
            "marker": {
             "colorbar": {
              "outlinewidth": 0,
              "ticks": ""
             }
            },
            "type": "scattergl"
           }
          ],
          "scattermap": [
           {
            "marker": {
             "colorbar": {
              "outlinewidth": 0,
              "ticks": ""
             }
            },
            "type": "scattermap"
           }
          ],
          "scattermapbox": [
           {
            "marker": {
             "colorbar": {
              "outlinewidth": 0,
              "ticks": ""
             }
            },
            "type": "scattermapbox"
           }
          ],
          "scatterpolar": [
           {
            "marker": {
             "colorbar": {
              "outlinewidth": 0,
              "ticks": ""
             }
            },
            "type": "scatterpolar"
           }
          ],
          "scatterpolargl": [
           {
            "marker": {
             "colorbar": {
              "outlinewidth": 0,
              "ticks": ""
             }
            },
            "type": "scatterpolargl"
           }
          ],
          "scatterternary": [
           {
            "marker": {
             "colorbar": {
              "outlinewidth": 0,
              "ticks": ""
             }
            },
            "type": "scatterternary"
           }
          ],
          "surface": [
           {
            "colorbar": {
             "outlinewidth": 0,
             "ticks": ""
            },
            "colorscale": [
             [
              0,
              "#0d0887"
             ],
             [
              0.1111111111111111,
              "#46039f"
             ],
             [
              0.2222222222222222,
              "#7201a8"
             ],
             [
              0.3333333333333333,
              "#9c179e"
             ],
             [
              0.4444444444444444,
              "#bd3786"
             ],
             [
              0.5555555555555556,
              "#d8576b"
             ],
             [
              0.6666666666666666,
              "#ed7953"
             ],
             [
              0.7777777777777778,
              "#fb9f3a"
             ],
             [
              0.8888888888888888,
              "#fdca26"
             ],
             [
              1,
              "#f0f921"
             ]
            ],
            "type": "surface"
           }
          ],
          "table": [
           {
            "cells": {
             "fill": {
              "color": "#EBF0F8"
             },
             "line": {
              "color": "white"
             }
            },
            "header": {
             "fill": {
              "color": "#C8D4E3"
             },
             "line": {
              "color": "white"
             }
            },
            "type": "table"
           }
          ]
         },
         "layout": {
          "annotationdefaults": {
           "arrowcolor": "#2a3f5f",
           "arrowhead": 0,
           "arrowwidth": 1
          },
          "autotypenumbers": "strict",
          "coloraxis": {
           "colorbar": {
            "outlinewidth": 0,
            "ticks": ""
           }
          },
          "colorscale": {
           "diverging": [
            [
             0,
             "#8e0152"
            ],
            [
             0.1,
             "#c51b7d"
            ],
            [
             0.2,
             "#de77ae"
            ],
            [
             0.3,
             "#f1b6da"
            ],
            [
             0.4,
             "#fde0ef"
            ],
            [
             0.5,
             "#f7f7f7"
            ],
            [
             0.6,
             "#e6f5d0"
            ],
            [
             0.7,
             "#b8e186"
            ],
            [
             0.8,
             "#7fbc41"
            ],
            [
             0.9,
             "#4d9221"
            ],
            [
             1,
             "#276419"
            ]
           ],
           "sequential": [
            [
             0,
             "#0d0887"
            ],
            [
             0.1111111111111111,
             "#46039f"
            ],
            [
             0.2222222222222222,
             "#7201a8"
            ],
            [
             0.3333333333333333,
             "#9c179e"
            ],
            [
             0.4444444444444444,
             "#bd3786"
            ],
            [
             0.5555555555555556,
             "#d8576b"
            ],
            [
             0.6666666666666666,
             "#ed7953"
            ],
            [
             0.7777777777777778,
             "#fb9f3a"
            ],
            [
             0.8888888888888888,
             "#fdca26"
            ],
            [
             1,
             "#f0f921"
            ]
           ],
           "sequentialminus": [
            [
             0,
             "#0d0887"
            ],
            [
             0.1111111111111111,
             "#46039f"
            ],
            [
             0.2222222222222222,
             "#7201a8"
            ],
            [
             0.3333333333333333,
             "#9c179e"
            ],
            [
             0.4444444444444444,
             "#bd3786"
            ],
            [
             0.5555555555555556,
             "#d8576b"
            ],
            [
             0.6666666666666666,
             "#ed7953"
            ],
            [
             0.7777777777777778,
             "#fb9f3a"
            ],
            [
             0.8888888888888888,
             "#fdca26"
            ],
            [
             1,
             "#f0f921"
            ]
           ]
          },
          "colorway": [
           "#636efa",
           "#EF553B",
           "#00cc96",
           "#ab63fa",
           "#FFA15A",
           "#19d3f3",
           "#FF6692",
           "#B6E880",
           "#FF97FF",
           "#FECB52"
          ],
          "font": {
           "color": "#2a3f5f"
          },
          "geo": {
           "bgcolor": "white",
           "lakecolor": "white",
           "landcolor": "#E5ECF6",
           "showlakes": true,
           "showland": true,
           "subunitcolor": "white"
          },
          "hoverlabel": {
           "align": "left"
          },
          "hovermode": "closest",
          "mapbox": {
           "style": "light"
          },
          "paper_bgcolor": "white",
          "plot_bgcolor": "#E5ECF6",
          "polar": {
           "angularaxis": {
            "gridcolor": "white",
            "linecolor": "white",
            "ticks": ""
           },
           "bgcolor": "#E5ECF6",
           "radialaxis": {
            "gridcolor": "white",
            "linecolor": "white",
            "ticks": ""
           }
          },
          "scene": {
           "xaxis": {
            "backgroundcolor": "#E5ECF6",
            "gridcolor": "white",
            "gridwidth": 2,
            "linecolor": "white",
            "showbackground": true,
            "ticks": "",
            "zerolinecolor": "white"
           },
           "yaxis": {
            "backgroundcolor": "#E5ECF6",
            "gridcolor": "white",
            "gridwidth": 2,
            "linecolor": "white",
            "showbackground": true,
            "ticks": "",
            "zerolinecolor": "white"
           },
           "zaxis": {
            "backgroundcolor": "#E5ECF6",
            "gridcolor": "white",
            "gridwidth": 2,
            "linecolor": "white",
            "showbackground": true,
            "ticks": "",
            "zerolinecolor": "white"
           }
          },
          "shapedefaults": {
           "line": {
            "color": "#2a3f5f"
           }
          },
          "ternary": {
           "aaxis": {
            "gridcolor": "white",
            "linecolor": "white",
            "ticks": ""
           },
           "baxis": {
            "gridcolor": "white",
            "linecolor": "white",
            "ticks": ""
           },
           "bgcolor": "#E5ECF6",
           "caxis": {
            "gridcolor": "white",
            "linecolor": "white",
            "ticks": ""
           }
          },
          "title": {
           "x": 0.05
          },
          "xaxis": {
           "automargin": true,
           "gridcolor": "white",
           "linecolor": "white",
           "ticks": "",
           "title": {
            "standoff": 15
           },
           "zerolinecolor": "white",
           "zerolinewidth": 2
          },
          "yaxis": {
           "automargin": true,
           "gridcolor": "white",
           "linecolor": "white",
           "ticks": "",
           "title": {
            "standoff": 15
           },
           "zerolinecolor": "white",
           "zerolinewidth": 2
          }
         }
        },
        "xaxis": {
         "anchor": "y",
         "domain": [
          0,
          1
         ],
         "title": {
          "text": "x"
         }
        },
        "yaxis": {
         "anchor": "x",
         "domain": [
          0,
          1
         ],
         "title": {
          "text": "y"
         }
        }
       }
      }
     },
     "metadata": {},
     "output_type": "display_data"
    }
   ],
   "source": [
    "px.scatter(x=x, y=f(x))"
   ]
  },
  {
   "cell_type": "code",
   "execution_count": 30,
   "metadata": {},
   "outputs": [
    {
     "data": {
      "application/vnd.plotly.v1+json": {
       "config": {
        "plotlyServerURL": "https://plot.ly"
       },
       "data": [
        {
         "mode": "lines+markers",
         "type": "scatter",
         "x": [
          0
         ],
         "y": [
          0
         ]
        }
       ],
       "frames": [
        {
         "data": [
          {
           "marker": {
            "angleref": "previous",
            "color": [
             "#0000FF",
             "#0D00F2",
             "#1900E6",
             "#2600D9",
             "#3200CC",
             "#3F00BF",
             "#4C00B3",
             "#5800A6",
             "#650099",
             "#72008C",
             "#7F0080",
             "#8B0073",
             "#990066",
             "#A60059",
             "#B3004C",
             "#BF0040",
             "#CC0032",
             "#D90026",
             "#E60019",
             "#F2000D",
             "#FF0000",
             "#FF0D00",
             "#FF1900",
             "#FF2600",
             "#FF3200",
             "#FF3F00",
             "#FF4C00",
             "#FF5800",
             "#FF6500",
             "#FF7200",
             "#FF7F00",
             "#FF8B00",
             "#FF9900",
             "#FFA600",
             "#FFB300",
             "#FFBF00",
             "#FFCC00",
             "#FFD900",
             "#FFE600",
             "#FFF200",
             "#FFFF00"
            ],
            "size": 15,
            "symbol": "arrow"
           },
           "mode": "lines+markers",
           "type": "scatter",
           "x": {
            "bdata": "AAAAAAAAAAA=",
            "dtype": "f8"
           },
           "y": {
            "bdata": "AAAAAAAAAAA=",
            "dtype": "f8"
           }
          }
         ]
        },
        {
         "data": [
          {
           "marker": {
            "angleref": "previous",
            "color": [
             "#0000FF",
             "#0D00F2",
             "#1900E6",
             "#2600D9",
             "#3200CC",
             "#3F00BF",
             "#4C00B3",
             "#5800A6",
             "#650099",
             "#72008C",
             "#7F0080",
             "#8B0073",
             "#990066",
             "#A60059",
             "#B3004C",
             "#BF0040",
             "#CC0032",
             "#D90026",
             "#E60019",
             "#F2000D",
             "#FF0000",
             "#FF0D00",
             "#FF1900",
             "#FF2600",
             "#FF3200",
             "#FF3F00",
             "#FF4C00",
             "#FF5800",
             "#FF6500",
             "#FF7200",
             "#FF7F00",
             "#FF8B00",
             "#FF9900",
             "#FFA600",
             "#FFB300",
             "#FFBF00",
             "#FFCC00",
             "#FFD900",
             "#FFE600",
             "#FFF200",
             "#FFFF00"
            ],
            "size": 15,
            "symbol": "arrow"
           },
           "mode": "lines+markers",
           "type": "scatter",
           "x": {
            "bdata": "AAAAAAAAAACamZmZmZm5Pw==",
            "dtype": "f8"
           },
           "y": {
            "bdata": "AAAAAAAAAAB8FK5H4XqEPw==",
            "dtype": "f8"
           }
          }
         ]
        },
        {
         "data": [
          {
           "marker": {
            "angleref": "previous",
            "color": [
             "#0000FF",
             "#0D00F2",
             "#1900E6",
             "#2600D9",
             "#3200CC",
             "#3F00BF",
             "#4C00B3",
             "#5800A6",
             "#650099",
             "#72008C",
             "#7F0080",
             "#8B0073",
             "#990066",
             "#A60059",
             "#B3004C",
             "#BF0040",
             "#CC0032",
             "#D90026",
             "#E60019",
             "#F2000D",
             "#FF0000",
             "#FF0D00",
             "#FF1900",
             "#FF2600",
             "#FF3200",
             "#FF3F00",
             "#FF4C00",
             "#FF5800",
             "#FF6500",
             "#FF7200",
             "#FF7F00",
             "#FF8B00",
             "#FF9900",
             "#FFA600",
             "#FFB300",
             "#FFBF00",
             "#FFCC00",
             "#FFD900",
             "#FFE600",
             "#FFF200",
             "#FFFF00"
            ],
            "size": 15,
            "symbol": "arrow"
           },
           "mode": "lines+markers",
           "type": "scatter",
           "x": {
            "bdata": "AAAAAAAAAACamZmZmZm5P5qZmZmZmck/",
            "dtype": "f8"
           },
           "y": {
            "bdata": "AAAAAAAAAAB8FK5H4XqEP3wUrkfheqQ/",
            "dtype": "f8"
           }
          }
         ]
        },
        {
         "data": [
          {
           "marker": {
            "angleref": "previous",
            "color": [
             "#0000FF",
             "#0D00F2",
             "#1900E6",
             "#2600D9",
             "#3200CC",
             "#3F00BF",
             "#4C00B3",
             "#5800A6",
             "#650099",
             "#72008C",
             "#7F0080",
             "#8B0073",
             "#990066",
             "#A60059",
             "#B3004C",
             "#BF0040",
             "#CC0032",
             "#D90026",
             "#E60019",
             "#F2000D",
             "#FF0000",
             "#FF0D00",
             "#FF1900",
             "#FF2600",
             "#FF3200",
             "#FF3F00",
             "#FF4C00",
             "#FF5800",
             "#FF6500",
             "#FF7200",
             "#FF7F00",
             "#FF8B00",
             "#FF9900",
             "#FFA600",
             "#FFB300",
             "#FFBF00",
             "#FFCC00",
             "#FFD900",
             "#FFE600",
             "#FFF200",
             "#FFFF00"
            ],
            "size": 15,
            "symbol": "arrow"
           },
           "mode": "lines+markers",
           "type": "scatter",
           "x": {
            "bdata": "AAAAAAAAAACamZmZmZm5P5qZmZmZmck/NDMzMzMz0z8=",
            "dtype": "f8"
           },
           "y": {
            "bdata": "AAAAAAAAAAB8FK5H4XqEP3wUrkfheqQ/DNejcD0Ktz8=",
            "dtype": "f8"
           }
          }
         ]
        },
        {
         "data": [
          {
           "marker": {
            "angleref": "previous",
            "color": [
             "#0000FF",
             "#0D00F2",
             "#1900E6",
             "#2600D9",
             "#3200CC",
             "#3F00BF",
             "#4C00B3",
             "#5800A6",
             "#650099",
             "#72008C",
             "#7F0080",
             "#8B0073",
             "#990066",
             "#A60059",
             "#B3004C",
             "#BF0040",
             "#CC0032",
             "#D90026",
             "#E60019",
             "#F2000D",
             "#FF0000",
             "#FF0D00",
             "#FF1900",
             "#FF2600",
             "#FF3200",
             "#FF3F00",
             "#FF4C00",
             "#FF5800",
             "#FF6500",
             "#FF7200",
             "#FF7F00",
             "#FF8B00",
             "#FF9900",
             "#FFA600",
             "#FFB300",
             "#FFBF00",
             "#FFCC00",
             "#FFD900",
             "#FFE600",
             "#FFF200",
             "#FFFF00"
            ],
            "size": 15,
            "symbol": "arrow"
           },
           "mode": "lines+markers",
           "type": "scatter",
           "x": {
            "bdata": "AAAAAAAAAACamZmZmZm5P5qZmZmZmck/NDMzMzMz0z+amZmZmZnZPw==",
            "dtype": "f8"
           },
           "y": {
            "bdata": "AAAAAAAAAAB8FK5H4XqEP3wUrkfheqQ/DNejcD0Ktz98FK5H4XrEPw==",
            "dtype": "f8"
           }
          }
         ]
        },
        {
         "data": [
          {
           "marker": {
            "angleref": "previous",
            "color": [
             "#0000FF",
             "#0D00F2",
             "#1900E6",
             "#2600D9",
             "#3200CC",
             "#3F00BF",
             "#4C00B3",
             "#5800A6",
             "#650099",
             "#72008C",
             "#7F0080",
             "#8B0073",
             "#990066",
             "#A60059",
             "#B3004C",
             "#BF0040",
             "#CC0032",
             "#D90026",
             "#E60019",
             "#F2000D",
             "#FF0000",
             "#FF0D00",
             "#FF1900",
             "#FF2600",
             "#FF3200",
             "#FF3F00",
             "#FF4C00",
             "#FF5800",
             "#FF6500",
             "#FF7200",
             "#FF7F00",
             "#FF8B00",
             "#FF9900",
             "#FFA600",
             "#FFB300",
             "#FFBF00",
             "#FFCC00",
             "#FFD900",
             "#FFE600",
             "#FFF200",
             "#FFFF00"
            ],
            "size": 15,
            "symbol": "arrow"
           },
           "mode": "lines+markers",
           "type": "scatter",
           "x": {
            "bdata": "AAAAAAAAAACamZmZmZm5P5qZmZmZmck/NDMzMzMz0z+amZmZmZnZPwAAAAAAAOA/",
            "dtype": "f8"
           },
           "y": {
            "bdata": "AAAAAAAAAAB8FK5H4XqEP3wUrkfheqQ/DNejcD0Ktz98FK5H4XrEPwAAAAAAANA/",
            "dtype": "f8"
           }
          }
         ]
        },
        {
         "data": [
          {
           "marker": {
            "angleref": "previous",
            "color": [
             "#0000FF",
             "#0D00F2",
             "#1900E6",
             "#2600D9",
             "#3200CC",
             "#3F00BF",
             "#4C00B3",
             "#5800A6",
             "#650099",
             "#72008C",
             "#7F0080",
             "#8B0073",
             "#990066",
             "#A60059",
             "#B3004C",
             "#BF0040",
             "#CC0032",
             "#D90026",
             "#E60019",
             "#F2000D",
             "#FF0000",
             "#FF0D00",
             "#FF1900",
             "#FF2600",
             "#FF3200",
             "#FF3F00",
             "#FF4C00",
             "#FF5800",
             "#FF6500",
             "#FF7200",
             "#FF7F00",
             "#FF8B00",
             "#FF9900",
             "#FFA600",
             "#FFB300",
             "#FFBF00",
             "#FFCC00",
             "#FFD900",
             "#FFE600",
             "#FFF200",
             "#FFFF00"
            ],
            "size": 15,
            "symbol": "arrow"
           },
           "mode": "lines+markers",
           "type": "scatter",
           "x": {
            "bdata": "AAAAAAAAAACamZmZmZm5P5qZmZmZmck/NDMzMzMz0z+amZmZmZnZPwAAAAAAAOA/NDMzMzMz4z8=",
            "dtype": "f8"
           },
           "y": {
            "bdata": "AAAAAAAAAAB8FK5H4XqEP3wUrkfheqQ/DNejcD0Ktz98FK5H4XrEPwAAAAAAANA/DNejcD0K1z8=",
            "dtype": "f8"
           }
          }
         ]
        },
        {
         "data": [
          {
           "marker": {
            "angleref": "previous",
            "color": [
             "#0000FF",
             "#0D00F2",
             "#1900E6",
             "#2600D9",
             "#3200CC",
             "#3F00BF",
             "#4C00B3",
             "#5800A6",
             "#650099",
             "#72008C",
             "#7F0080",
             "#8B0073",
             "#990066",
             "#A60059",
             "#B3004C",
             "#BF0040",
             "#CC0032",
             "#D90026",
             "#E60019",
             "#F2000D",
             "#FF0000",
             "#FF0D00",
             "#FF1900",
             "#FF2600",
             "#FF3200",
             "#FF3F00",
             "#FF4C00",
             "#FF5800",
             "#FF6500",
             "#FF7200",
             "#FF7F00",
             "#FF8B00",
             "#FF9900",
             "#FFA600",
             "#FFB300",
             "#FFBF00",
             "#FFCC00",
             "#FFD900",
             "#FFE600",
             "#FFF200",
             "#FFFF00"
            ],
            "size": 15,
            "symbol": "arrow"
           },
           "mode": "lines+markers",
           "type": "scatter",
           "x": {
            "bdata": "AAAAAAAAAACamZmZmZm5P5qZmZmZmck/NDMzMzMz0z+amZmZmZnZPwAAAAAAAOA/NDMzMzMz4z9nZmZmZmbmPw==",
            "dtype": "f8"
           },
           "y": {
            "bdata": "AAAAAAAAAAB8FK5H4XqEP3wUrkfheqQ/DNejcD0Ktz98FK5H4XrEPwAAAAAAANA/DNejcD0K1z9ej8L1KFzfPw==",
            "dtype": "f8"
           }
          }
         ]
        },
        {
         "data": [
          {
           "marker": {
            "angleref": "previous",
            "color": [
             "#0000FF",
             "#0D00F2",
             "#1900E6",
             "#2600D9",
             "#3200CC",
             "#3F00BF",
             "#4C00B3",
             "#5800A6",
             "#650099",
             "#72008C",
             "#7F0080",
             "#8B0073",
             "#990066",
             "#A60059",
             "#B3004C",
             "#BF0040",
             "#CC0032",
             "#D90026",
             "#E60019",
             "#F2000D",
             "#FF0000",
             "#FF0D00",
             "#FF1900",
             "#FF2600",
             "#FF3200",
             "#FF3F00",
             "#FF4C00",
             "#FF5800",
             "#FF6500",
             "#FF7200",
             "#FF7F00",
             "#FF8B00",
             "#FF9900",
             "#FFA600",
             "#FFB300",
             "#FFBF00",
             "#FFCC00",
             "#FFD900",
             "#FFE600",
             "#FFF200",
             "#FFFF00"
            ],
            "size": 15,
            "symbol": "arrow"
           },
           "mode": "lines+markers",
           "type": "scatter",
           "x": {
            "bdata": "AAAAAAAAAACamZmZmZm5P5qZmZmZmck/NDMzMzMz0z+amZmZmZnZPwAAAAAAAOA/NDMzMzMz4z9nZmZmZmbmP5qZmZmZmek/",
            "dtype": "f8"
           },
           "y": {
            "bdata": "AAAAAAAAAAB8FK5H4XqEP3wUrkfheqQ/DNejcD0Ktz98FK5H4XrEPwAAAAAAANA/DNejcD0K1z9ej8L1KFzfP3wUrkfheuQ/",
            "dtype": "f8"
           }
          }
         ]
        },
        {
         "data": [
          {
           "marker": {
            "angleref": "previous",
            "color": [
             "#0000FF",
             "#0D00F2",
             "#1900E6",
             "#2600D9",
             "#3200CC",
             "#3F00BF",
             "#4C00B3",
             "#5800A6",
             "#650099",
             "#72008C",
             "#7F0080",
             "#8B0073",
             "#990066",
             "#A60059",
             "#B3004C",
             "#BF0040",
             "#CC0032",
             "#D90026",
             "#E60019",
             "#F2000D",
             "#FF0000",
             "#FF0D00",
             "#FF1900",
             "#FF2600",
             "#FF3200",
             "#FF3F00",
             "#FF4C00",
             "#FF5800",
             "#FF6500",
             "#FF7200",
             "#FF7F00",
             "#FF8B00",
             "#FF9900",
             "#FFA600",
             "#FFB300",
             "#FFBF00",
             "#FFCC00",
             "#FFD900",
             "#FFE600",
             "#FFF200",
             "#FFFF00"
            ],
            "size": 15,
            "symbol": "arrow"
           },
           "mode": "lines+markers",
           "type": "scatter",
           "x": {
            "bdata": "AAAAAAAAAACamZmZmZm5P5qZmZmZmck/NDMzMzMz0z+amZmZmZnZPwAAAAAAAOA/NDMzMzMz4z9nZmZmZmbmP5qZmZmZmek/zczMzMzM7D8=",
            "dtype": "f8"
           },
           "y": {
            "bdata": "AAAAAAAAAAB8FK5H4XqEP3wUrkfheqQ/DNejcD0Ktz98FK5H4XrEPwAAAAAAANA/DNejcD0K1z9ej8L1KFzfP3wUrkfheuQ/7FG4HoXr6T8=",
            "dtype": "f8"
           }
          }
         ]
        },
        {
         "data": [
          {
           "marker": {
            "angleref": "previous",
            "color": [
             "#0000FF",
             "#0D00F2",
             "#1900E6",
             "#2600D9",
             "#3200CC",
             "#3F00BF",
             "#4C00B3",
             "#5800A6",
             "#650099",
             "#72008C",
             "#7F0080",
             "#8B0073",
             "#990066",
             "#A60059",
             "#B3004C",
             "#BF0040",
             "#CC0032",
             "#D90026",
             "#E60019",
             "#F2000D",
             "#FF0000",
             "#FF0D00",
             "#FF1900",
             "#FF2600",
             "#FF3200",
             "#FF3F00",
             "#FF4C00",
             "#FF5800",
             "#FF6500",
             "#FF7200",
             "#FF7F00",
             "#FF8B00",
             "#FF9900",
             "#FFA600",
             "#FFB300",
             "#FFBF00",
             "#FFCC00",
             "#FFD900",
             "#FFE600",
             "#FFF200",
             "#FFFF00"
            ],
            "size": 15,
            "symbol": "arrow"
           },
           "mode": "lines+markers",
           "type": "scatter",
           "x": {
            "bdata": "AAAAAAAAAACamZmZmZm5P5qZmZmZmck/NDMzMzMz0z+amZmZmZnZPwAAAAAAAOA/NDMzMzMz4z9nZmZmZmbmP5qZmZmZmek/zczMzMzM7D8AAAAAAADwPw==",
            "dtype": "f8"
           },
           "y": {
            "bdata": "AAAAAAAAAAB8FK5H4XqEP3wUrkfheqQ/DNejcD0Ktz98FK5H4XrEPwAAAAAAANA/DNejcD0K1z9ej8L1KFzfP3wUrkfheuQ/7FG4HoXr6T8AAAAAAADwPw==",
            "dtype": "f8"
           }
          }
         ]
        },
        {
         "data": [
          {
           "marker": {
            "angleref": "previous",
            "color": [
             "#0000FF",
             "#0D00F2",
             "#1900E6",
             "#2600D9",
             "#3200CC",
             "#3F00BF",
             "#4C00B3",
             "#5800A6",
             "#650099",
             "#72008C",
             "#7F0080",
             "#8B0073",
             "#990066",
             "#A60059",
             "#B3004C",
             "#BF0040",
             "#CC0032",
             "#D90026",
             "#E60019",
             "#F2000D",
             "#FF0000",
             "#FF0D00",
             "#FF1900",
             "#FF2600",
             "#FF3200",
             "#FF3F00",
             "#FF4C00",
             "#FF5800",
             "#FF6500",
             "#FF7200",
             "#FF7F00",
             "#FF8B00",
             "#FF9900",
             "#FFA600",
             "#FFB300",
             "#FFBF00",
             "#FFCC00",
             "#FFD900",
             "#FFE600",
             "#FFF200",
             "#FFFF00"
            ],
            "size": 15,
            "symbol": "arrow"
           },
           "mode": "lines+markers",
           "type": "scatter",
           "x": {
            "bdata": "AAAAAAAAAACamZmZmZm5P5qZmZmZmck/NDMzMzMz0z+amZmZmZnZPwAAAAAAAOA/NDMzMzMz4z9nZmZmZmbmP5qZmZmZmek/zczMzMzM7D8AAAAAAADwP5qZmZmZmfE/",
            "dtype": "f8"
           },
           "y": {
            "bdata": "AAAAAAAAAAB8FK5H4XqEP3wUrkfheqQ/DNejcD0Ktz98FK5H4XrEPwAAAAAAANA/DNejcD0K1z9ej8L1KFzfP3wUrkfheuQ/7FG4HoXr6T8AAAAAAADwP12PwvUoXPM/",
            "dtype": "f8"
           }
          }
         ]
        },
        {
         "data": [
          {
           "marker": {
            "angleref": "previous",
            "color": [
             "#0000FF",
             "#0D00F2",
             "#1900E6",
             "#2600D9",
             "#3200CC",
             "#3F00BF",
             "#4C00B3",
             "#5800A6",
             "#650099",
             "#72008C",
             "#7F0080",
             "#8B0073",
             "#990066",
             "#A60059",
             "#B3004C",
             "#BF0040",
             "#CC0032",
             "#D90026",
             "#E60019",
             "#F2000D",
             "#FF0000",
             "#FF0D00",
             "#FF1900",
             "#FF2600",
             "#FF3200",
             "#FF3F00",
             "#FF4C00",
             "#FF5800",
             "#FF6500",
             "#FF7200",
             "#FF7F00",
             "#FF8B00",
             "#FF9900",
             "#FFA600",
             "#FFB300",
             "#FFBF00",
             "#FFCC00",
             "#FFD900",
             "#FFE600",
             "#FFF200",
             "#FFFF00"
            ],
            "size": 15,
            "symbol": "arrow"
           },
           "mode": "lines+markers",
           "type": "scatter",
           "x": {
            "bdata": "AAAAAAAAAACamZmZmZm5P5qZmZmZmck/NDMzMzMz0z+amZmZmZnZPwAAAAAAAOA/NDMzMzMz4z9nZmZmZmbmP5qZmZmZmek/zczMzMzM7D8AAAAAAADwP5qZmZmZmfE/NDMzMzMz8z8=",
            "dtype": "f8"
           },
           "y": {
            "bdata": "AAAAAAAAAAB8FK5H4XqEP3wUrkfheqQ/DNejcD0Ktz98FK5H4XrEPwAAAAAAANA/DNejcD0K1z9ej8L1KFzfP3wUrkfheuQ/7FG4HoXr6T8AAAAAAADwP12PwvUoXPM/DNejcD0K9z8=",
            "dtype": "f8"
           }
          }
         ]
        },
        {
         "data": [
          {
           "marker": {
            "angleref": "previous",
            "color": [
             "#0000FF",
             "#0D00F2",
             "#1900E6",
             "#2600D9",
             "#3200CC",
             "#3F00BF",
             "#4C00B3",
             "#5800A6",
             "#650099",
             "#72008C",
             "#7F0080",
             "#8B0073",
             "#990066",
             "#A60059",
             "#B3004C",
             "#BF0040",
             "#CC0032",
             "#D90026",
             "#E60019",
             "#F2000D",
             "#FF0000",
             "#FF0D00",
             "#FF1900",
             "#FF2600",
             "#FF3200",
             "#FF3F00",
             "#FF4C00",
             "#FF5800",
             "#FF6500",
             "#FF7200",
             "#FF7F00",
             "#FF8B00",
             "#FF9900",
             "#FFA600",
             "#FFB300",
             "#FFBF00",
             "#FFCC00",
             "#FFD900",
             "#FFE600",
             "#FFF200",
             "#FFFF00"
            ],
            "size": 15,
            "symbol": "arrow"
           },
           "mode": "lines+markers",
           "type": "scatter",
           "x": {
            "bdata": "AAAAAAAAAACamZmZmZm5P5qZmZmZmck/NDMzMzMz0z+amZmZmZnZPwAAAAAAAOA/NDMzMzMz4z9nZmZmZmbmP5qZmZmZmek/zczMzMzM7D8AAAAAAADwP5qZmZmZmfE/NDMzMzMz8z/NzMzMzMz0Pw==",
            "dtype": "f8"
           },
           "y": {
            "bdata": "AAAAAAAAAAB8FK5H4XqEP3wUrkfheqQ/DNejcD0Ktz98FK5H4XrEPwAAAAAAANA/DNejcD0K1z9ej8L1KFzfP3wUrkfheuQ/7FG4HoXr6T8AAAAAAADwP12PwvUoXPM/DNejcD0K9z8L16NwPQr7Pw==",
            "dtype": "f8"
           }
          }
         ]
        },
        {
         "data": [
          {
           "marker": {
            "angleref": "previous",
            "color": [
             "#0000FF",
             "#0D00F2",
             "#1900E6",
             "#2600D9",
             "#3200CC",
             "#3F00BF",
             "#4C00B3",
             "#5800A6",
             "#650099",
             "#72008C",
             "#7F0080",
             "#8B0073",
             "#990066",
             "#A60059",
             "#B3004C",
             "#BF0040",
             "#CC0032",
             "#D90026",
             "#E60019",
             "#F2000D",
             "#FF0000",
             "#FF0D00",
             "#FF1900",
             "#FF2600",
             "#FF3200",
             "#FF3F00",
             "#FF4C00",
             "#FF5800",
             "#FF6500",
             "#FF7200",
             "#FF7F00",
             "#FF8B00",
             "#FF9900",
             "#FFA600",
             "#FFB300",
             "#FFBF00",
             "#FFCC00",
             "#FFD900",
             "#FFE600",
             "#FFF200",
             "#FFFF00"
            ],
            "size": 15,
            "symbol": "arrow"
           },
           "mode": "lines+markers",
           "type": "scatter",
           "x": {
            "bdata": "AAAAAAAAAACamZmZmZm5P5qZmZmZmck/NDMzMzMz0z+amZmZmZnZPwAAAAAAAOA/NDMzMzMz4z9nZmZmZmbmP5qZmZmZmek/zczMzMzM7D8AAAAAAADwP5qZmZmZmfE/NDMzMzMz8z/NzMzMzMz0P2dmZmZmZvY/",
            "dtype": "f8"
           },
           "y": {
            "bdata": "AAAAAAAAAAB8FK5H4XqEP3wUrkfheqQ/DNejcD0Ktz98FK5H4XrEPwAAAAAAANA/DNejcD0K1z9ej8L1KFzfP3wUrkfheuQ/7FG4HoXr6T8AAAAAAADwP12PwvUoXPM/DNejcD0K9z8L16NwPQr7P16PwvUoXP8/",
            "dtype": "f8"
           }
          }
         ]
        },
        {
         "data": [
          {
           "marker": {
            "angleref": "previous",
            "color": [
             "#0000FF",
             "#0D00F2",
             "#1900E6",
             "#2600D9",
             "#3200CC",
             "#3F00BF",
             "#4C00B3",
             "#5800A6",
             "#650099",
             "#72008C",
             "#7F0080",
             "#8B0073",
             "#990066",
             "#A60059",
             "#B3004C",
             "#BF0040",
             "#CC0032",
             "#D90026",
             "#E60019",
             "#F2000D",
             "#FF0000",
             "#FF0D00",
             "#FF1900",
             "#FF2600",
             "#FF3200",
             "#FF3F00",
             "#FF4C00",
             "#FF5800",
             "#FF6500",
             "#FF7200",
             "#FF7F00",
             "#FF8B00",
             "#FF9900",
             "#FFA600",
             "#FFB300",
             "#FFBF00",
             "#FFCC00",
             "#FFD900",
             "#FFE600",
             "#FFF200",
             "#FFFF00"
            ],
            "size": 15,
            "symbol": "arrow"
           },
           "mode": "lines+markers",
           "type": "scatter",
           "x": {
            "bdata": "AAAAAAAAAACamZmZmZm5P5qZmZmZmck/NDMzMzMz0z+amZmZmZnZPwAAAAAAAOA/NDMzMzMz4z9nZmZmZmbmP5qZmZmZmek/zczMzMzM7D8AAAAAAADwP5qZmZmZmfE/NDMzMzMz8z/NzMzMzMz0P2dmZmZmZvY/AAAAAAAA+D8=",
            "dtype": "f8"
           },
           "y": {
            "bdata": "AAAAAAAAAAB8FK5H4XqEP3wUrkfheqQ/DNejcD0Ktz98FK5H4XrEPwAAAAAAANA/DNejcD0K1z9ej8L1KFzfP3wUrkfheuQ/7FG4HoXr6T8AAAAAAADwP12PwvUoXPM/DNejcD0K9z8L16NwPQr7P16PwvUoXP8/AAAAAAAAAkA=",
            "dtype": "f8"
           }
          }
         ]
        },
        {
         "data": [
          {
           "marker": {
            "angleref": "previous",
            "color": [
             "#0000FF",
             "#0D00F2",
             "#1900E6",
             "#2600D9",
             "#3200CC",
             "#3F00BF",
             "#4C00B3",
             "#5800A6",
             "#650099",
             "#72008C",
             "#7F0080",
             "#8B0073",
             "#990066",
             "#A60059",
             "#B3004C",
             "#BF0040",
             "#CC0032",
             "#D90026",
             "#E60019",
             "#F2000D",
             "#FF0000",
             "#FF0D00",
             "#FF1900",
             "#FF2600",
             "#FF3200",
             "#FF3F00",
             "#FF4C00",
             "#FF5800",
             "#FF6500",
             "#FF7200",
             "#FF7F00",
             "#FF8B00",
             "#FF9900",
             "#FFA600",
             "#FFB300",
             "#FFBF00",
             "#FFCC00",
             "#FFD900",
             "#FFE600",
             "#FFF200",
             "#FFFF00"
            ],
            "size": 15,
            "symbol": "arrow"
           },
           "mode": "lines+markers",
           "type": "scatter",
           "x": {
            "bdata": "AAAAAAAAAACamZmZmZm5P5qZmZmZmck/NDMzMzMz0z+amZmZmZnZPwAAAAAAAOA/NDMzMzMz4z9nZmZmZmbmP5qZmZmZmek/zczMzMzM7D8AAAAAAADwP5qZmZmZmfE/NDMzMzMz8z/NzMzMzMz0P2dmZmZmZvY/AAAAAAAA+D+amZmZmZn5Pw==",
            "dtype": "f8"
           },
           "y": {
            "bdata": "AAAAAAAAAAB8FK5H4XqEP3wUrkfheqQ/DNejcD0Ktz98FK5H4XrEPwAAAAAAANA/DNejcD0K1z9ej8L1KFzfP3wUrkfheuQ/7FG4HoXr6T8AAAAAAADwP12PwvUoXPM/DNejcD0K9z8L16NwPQr7P16PwvUoXP8/AAAAAAAAAkB8FK5H4XoEQA==",
            "dtype": "f8"
           }
          }
         ]
        },
        {
         "data": [
          {
           "marker": {
            "angleref": "previous",
            "color": [
             "#0000FF",
             "#0D00F2",
             "#1900E6",
             "#2600D9",
             "#3200CC",
             "#3F00BF",
             "#4C00B3",
             "#5800A6",
             "#650099",
             "#72008C",
             "#7F0080",
             "#8B0073",
             "#990066",
             "#A60059",
             "#B3004C",
             "#BF0040",
             "#CC0032",
             "#D90026",
             "#E60019",
             "#F2000D",
             "#FF0000",
             "#FF0D00",
             "#FF1900",
             "#FF2600",
             "#FF3200",
             "#FF3F00",
             "#FF4C00",
             "#FF5800",
             "#FF6500",
             "#FF7200",
             "#FF7F00",
             "#FF8B00",
             "#FF9900",
             "#FFA600",
             "#FFB300",
             "#FFBF00",
             "#FFCC00",
             "#FFD900",
             "#FFE600",
             "#FFF200",
             "#FFFF00"
            ],
            "size": 15,
            "symbol": "arrow"
           },
           "mode": "lines+markers",
           "type": "scatter",
           "x": {
            "bdata": "AAAAAAAAAACamZmZmZm5P5qZmZmZmck/NDMzMzMz0z+amZmZmZnZPwAAAAAAAOA/NDMzMzMz4z9nZmZmZmbmP5qZmZmZmek/zczMzMzM7D8AAAAAAADwP5qZmZmZmfE/NDMzMzMz8z/NzMzMzMz0P2dmZmZmZvY/AAAAAAAA+D+amZmZmZn5PzQzMzMzM/s/",
            "dtype": "f8"
           },
           "y": {
            "bdata": "AAAAAAAAAAB8FK5H4XqEP3wUrkfheqQ/DNejcD0Ktz98FK5H4XrEPwAAAAAAANA/DNejcD0K1z9ej8L1KFzfP3wUrkfheuQ/7FG4HoXr6T8AAAAAAADwP12PwvUoXPM/DNejcD0K9z8L16NwPQr7P16PwvUoXP8/AAAAAAAAAkB8FK5H4XoEQCCF61G4HgdA",
            "dtype": "f8"
           }
          }
         ]
        },
        {
         "data": [
          {
           "marker": {
            "angleref": "previous",
            "color": [
             "#0000FF",
             "#0D00F2",
             "#1900E6",
             "#2600D9",
             "#3200CC",
             "#3F00BF",
             "#4C00B3",
             "#5800A6",
             "#650099",
             "#72008C",
             "#7F0080",
             "#8B0073",
             "#990066",
             "#A60059",
             "#B3004C",
             "#BF0040",
             "#CC0032",
             "#D90026",
             "#E60019",
             "#F2000D",
             "#FF0000",
             "#FF0D00",
             "#FF1900",
             "#FF2600",
             "#FF3200",
             "#FF3F00",
             "#FF4C00",
             "#FF5800",
             "#FF6500",
             "#FF7200",
             "#FF7F00",
             "#FF8B00",
             "#FF9900",
             "#FFA600",
             "#FFB300",
             "#FFBF00",
             "#FFCC00",
             "#FFD900",
             "#FFE600",
             "#FFF200",
             "#FFFF00"
            ],
            "size": 15,
            "symbol": "arrow"
           },
           "mode": "lines+markers",
           "type": "scatter",
           "x": {
            "bdata": "AAAAAAAAAACamZmZmZm5P5qZmZmZmck/NDMzMzMz0z+amZmZmZnZPwAAAAAAAOA/NDMzMzMz4z9nZmZmZmbmP5qZmZmZmek/zczMzMzM7D8AAAAAAADwP5qZmZmZmfE/NDMzMzMz8z/NzMzMzMz0P2dmZmZmZvY/AAAAAAAA+D+amZmZmZn5PzQzMzMzM/s/zczMzMzM/D8=",
            "dtype": "f8"
           },
           "y": {
            "bdata": "AAAAAAAAAAB8FK5H4XqEP3wUrkfheqQ/DNejcD0Ktz98FK5H4XrEPwAAAAAAANA/DNejcD0K1z9ej8L1KFzfP3wUrkfheuQ/7FG4HoXr6T8AAAAAAADwP12PwvUoXPM/DNejcD0K9z8L16NwPQr7P16PwvUoXP8/AAAAAAAAAkB8FK5H4XoEQCCF61G4HgdA7FG4HoXrCUA=",
            "dtype": "f8"
           }
          }
         ]
        },
        {
         "data": [
          {
           "marker": {
            "angleref": "previous",
            "color": [
             "#0000FF",
             "#0D00F2",
             "#1900E6",
             "#2600D9",
             "#3200CC",
             "#3F00BF",
             "#4C00B3",
             "#5800A6",
             "#650099",
             "#72008C",
             "#7F0080",
             "#8B0073",
             "#990066",
             "#A60059",
             "#B3004C",
             "#BF0040",
             "#CC0032",
             "#D90026",
             "#E60019",
             "#F2000D",
             "#FF0000",
             "#FF0D00",
             "#FF1900",
             "#FF2600",
             "#FF3200",
             "#FF3F00",
             "#FF4C00",
             "#FF5800",
             "#FF6500",
             "#FF7200",
             "#FF7F00",
             "#FF8B00",
             "#FF9900",
             "#FFA600",
             "#FFB300",
             "#FFBF00",
             "#FFCC00",
             "#FFD900",
             "#FFE600",
             "#FFF200",
             "#FFFF00"
            ],
            "size": 15,
            "symbol": "arrow"
           },
           "mode": "lines+markers",
           "type": "scatter",
           "x": {
            "bdata": "AAAAAAAAAACamZmZmZm5P5qZmZmZmck/NDMzMzMz0z+amZmZmZnZPwAAAAAAAOA/NDMzMzMz4z9nZmZmZmbmP5qZmZmZmek/zczMzMzM7D8AAAAAAADwP5qZmZmZmfE/NDMzMzMz8z/NzMzMzMz0P2dmZmZmZvY/AAAAAAAA+D+amZmZmZn5PzQzMzMzM/s/zczMzMzM/D9nZmZmZmb+Pw==",
            "dtype": "f8"
           },
           "y": {
            "bdata": "AAAAAAAAAAB8FK5H4XqEP3wUrkfheqQ/DNejcD0Ktz98FK5H4XrEPwAAAAAAANA/DNejcD0K1z9ej8L1KFzfP3wUrkfheuQ/7FG4HoXr6T8AAAAAAADwP12PwvUoXPM/DNejcD0K9z8L16NwPQr7P16PwvUoXP8/AAAAAAAAAkB8FK5H4XoEQCCF61G4HgdA7FG4HoXrCUDiehSuR+EMQA==",
            "dtype": "f8"
           }
          }
         ]
        },
        {
         "data": [
          {
           "marker": {
            "angleref": "previous",
            "color": [
             "#0000FF",
             "#0D00F2",
             "#1900E6",
             "#2600D9",
             "#3200CC",
             "#3F00BF",
             "#4C00B3",
             "#5800A6",
             "#650099",
             "#72008C",
             "#7F0080",
             "#8B0073",
             "#990066",
             "#A60059",
             "#B3004C",
             "#BF0040",
             "#CC0032",
             "#D90026",
             "#E60019",
             "#F2000D",
             "#FF0000",
             "#FF0D00",
             "#FF1900",
             "#FF2600",
             "#FF3200",
             "#FF3F00",
             "#FF4C00",
             "#FF5800",
             "#FF6500",
             "#FF7200",
             "#FF7F00",
             "#FF8B00",
             "#FF9900",
             "#FFA600",
             "#FFB300",
             "#FFBF00",
             "#FFCC00",
             "#FFD900",
             "#FFE600",
             "#FFF200",
             "#FFFF00"
            ],
            "size": 15,
            "symbol": "arrow"
           },
           "mode": "lines+markers",
           "type": "scatter",
           "x": {
            "bdata": "AAAAAAAAAACamZmZmZm5P5qZmZmZmck/NDMzMzMz0z+amZmZmZnZPwAAAAAAAOA/NDMzMzMz4z9nZmZmZmbmP5qZmZmZmek/zczMzMzM7D8AAAAAAADwP5qZmZmZmfE/NDMzMzMz8z/NzMzMzMz0P2dmZmZmZvY/AAAAAAAA+D+amZmZmZn5PzQzMzMzM/s/zczMzMzM/D9nZmZmZmb+PwAAAAAAAABA",
            "dtype": "f8"
           },
           "y": {
            "bdata": "AAAAAAAAAAB8FK5H4XqEP3wUrkfheqQ/DNejcD0Ktz98FK5H4XrEPwAAAAAAANA/DNejcD0K1z9ej8L1KFzfP3wUrkfheuQ/7FG4HoXr6T8AAAAAAADwP12PwvUoXPM/DNejcD0K9z8L16NwPQr7P16PwvUoXP8/AAAAAAAAAkB8FK5H4XoEQCCF61G4HgdA7FG4HoXrCUDiehSuR+EMQAAAAAAAABBA",
            "dtype": "f8"
           }
          }
         ]
        },
        {
         "data": [
          {
           "marker": {
            "angleref": "previous",
            "color": [
             "#0000FF",
             "#0D00F2",
             "#1900E6",
             "#2600D9",
             "#3200CC",
             "#3F00BF",
             "#4C00B3",
             "#5800A6",
             "#650099",
             "#72008C",
             "#7F0080",
             "#8B0073",
             "#990066",
             "#A60059",
             "#B3004C",
             "#BF0040",
             "#CC0032",
             "#D90026",
             "#E60019",
             "#F2000D",
             "#FF0000",
             "#FF0D00",
             "#FF1900",
             "#FF2600",
             "#FF3200",
             "#FF3F00",
             "#FF4C00",
             "#FF5800",
             "#FF6500",
             "#FF7200",
             "#FF7F00",
             "#FF8B00",
             "#FF9900",
             "#FFA600",
             "#FFB300",
             "#FFBF00",
             "#FFCC00",
             "#FFD900",
             "#FFE600",
             "#FFF200",
             "#FFFF00"
            ],
            "size": 15,
            "symbol": "arrow"
           },
           "mode": "lines+markers",
           "type": "scatter",
           "x": {
            "bdata": "AAAAAAAAAACamZmZmZm5P5qZmZmZmck/NDMzMzMz0z+amZmZmZnZPwAAAAAAAOA/NDMzMzMz4z9nZmZmZmbmP5qZmZmZmek/zczMzMzM7D8AAAAAAADwP5qZmZmZmfE/NDMzMzMz8z/NzMzMzMz0P2dmZmZmZvY/AAAAAAAA+D+amZmZmZn5PzQzMzMzM/s/zczMzMzM/D9nZmZmZmb+PwAAAAAAAABAzczMzMzMAEA=",
            "dtype": "f8"
           },
           "y": {
            "bdata": "AAAAAAAAAAB8FK5H4XqEP3wUrkfheqQ/DNejcD0Ktz98FK5H4XrEPwAAAAAAANA/DNejcD0K1z9ej8L1KFzfP3wUrkfheuQ/7FG4HoXr6T8AAAAAAADwP12PwvUoXPM/DNejcD0K9z8L16NwPQr7P16PwvUoXP8/AAAAAAAAAkB8FK5H4XoEQCCF61G4HgdA7FG4HoXrCUDiehSuR+EMQAAAAAAAABBApHA9CtejEUA=",
            "dtype": "f8"
           }
          }
         ]
        },
        {
         "data": [
          {
           "marker": {
            "angleref": "previous",
            "color": [
             "#0000FF",
             "#0D00F2",
             "#1900E6",
             "#2600D9",
             "#3200CC",
             "#3F00BF",
             "#4C00B3",
             "#5800A6",
             "#650099",
             "#72008C",
             "#7F0080",
             "#8B0073",
             "#990066",
             "#A60059",
             "#B3004C",
             "#BF0040",
             "#CC0032",
             "#D90026",
             "#E60019",
             "#F2000D",
             "#FF0000",
             "#FF0D00",
             "#FF1900",
             "#FF2600",
             "#FF3200",
             "#FF3F00",
             "#FF4C00",
             "#FF5800",
             "#FF6500",
             "#FF7200",
             "#FF7F00",
             "#FF8B00",
             "#FF9900",
             "#FFA600",
             "#FFB300",
             "#FFBF00",
             "#FFCC00",
             "#FFD900",
             "#FFE600",
             "#FFF200",
             "#FFFF00"
            ],
            "size": 15,
            "symbol": "arrow"
           },
           "mode": "lines+markers",
           "type": "scatter",
           "x": {
            "bdata": "AAAAAAAAAACamZmZmZm5P5qZmZmZmck/NDMzMzMz0z+amZmZmZnZPwAAAAAAAOA/NDMzMzMz4z9nZmZmZmbmP5qZmZmZmek/zczMzMzM7D8AAAAAAADwP5qZmZmZmfE/NDMzMzMz8z/NzMzMzMz0P2dmZmZmZvY/AAAAAAAA+D+amZmZmZn5PzQzMzMzM/s/zczMzMzM/D9nZmZmZmb+PwAAAAAAAABAzczMzMzMAECamZmZmZkBQA==",
            "dtype": "f8"
           },
           "y": {
            "bdata": "AAAAAAAAAAB8FK5H4XqEP3wUrkfheqQ/DNejcD0Ktz98FK5H4XrEPwAAAAAAANA/DNejcD0K1z9ej8L1KFzfP3wUrkfheuQ/7FG4HoXr6T8AAAAAAADwP12PwvUoXPM/DNejcD0K9z8L16NwPQr7P16PwvUoXP8/AAAAAAAAAkB8FK5H4XoEQCCF61G4HgdA7FG4HoXrCUDiehSuR+EMQAAAAAAAABBApHA9CtejEUBdj8L1KFwTQA==",
            "dtype": "f8"
           }
          }
         ]
        },
        {
         "data": [
          {
           "marker": {
            "angleref": "previous",
            "color": [
             "#0000FF",
             "#0D00F2",
             "#1900E6",
             "#2600D9",
             "#3200CC",
             "#3F00BF",
             "#4C00B3",
             "#5800A6",
             "#650099",
             "#72008C",
             "#7F0080",
             "#8B0073",
             "#990066",
             "#A60059",
             "#B3004C",
             "#BF0040",
             "#CC0032",
             "#D90026",
             "#E60019",
             "#F2000D",
             "#FF0000",
             "#FF0D00",
             "#FF1900",
             "#FF2600",
             "#FF3200",
             "#FF3F00",
             "#FF4C00",
             "#FF5800",
             "#FF6500",
             "#FF7200",
             "#FF7F00",
             "#FF8B00",
             "#FF9900",
             "#FFA600",
             "#FFB300",
             "#FFBF00",
             "#FFCC00",
             "#FFD900",
             "#FFE600",
             "#FFF200",
             "#FFFF00"
            ],
            "size": 15,
            "symbol": "arrow"
           },
           "mode": "lines+markers",
           "type": "scatter",
           "x": {
            "bdata": "AAAAAAAAAACamZmZmZm5P5qZmZmZmck/NDMzMzMz0z+amZmZmZnZPwAAAAAAAOA/NDMzMzMz4z9nZmZmZmbmP5qZmZmZmek/zczMzMzM7D8AAAAAAADwP5qZmZmZmfE/NDMzMzMz8z/NzMzMzMz0P2dmZmZmZvY/AAAAAAAA+D+amZmZmZn5PzQzMzMzM/s/zczMzMzM/D9nZmZmZmb+PwAAAAAAAABAzczMzMzMAECamZmZmZkBQGdmZmZmZgJA",
            "dtype": "f8"
           },
           "y": {
            "bdata": "AAAAAAAAAAB8FK5H4XqEP3wUrkfheqQ/DNejcD0Ktz98FK5H4XrEPwAAAAAAANA/DNejcD0K1z9ej8L1KFzfP3wUrkfheuQ/7FG4HoXr6T8AAAAAAADwP12PwvUoXPM/DNejcD0K9z8L16NwPQr7P16PwvUoXP8/AAAAAAAAAkB8FK5H4XoEQCCF61G4HgdA7FG4HoXrCUDiehSuR+EMQAAAAAAAABBApHA9CtejEUBdj8L1KFwTQCpcj8L1KBVA",
            "dtype": "f8"
           }
          }
         ]
        },
        {
         "data": [
          {
           "marker": {
            "angleref": "previous",
            "color": [
             "#0000FF",
             "#0D00F2",
             "#1900E6",
             "#2600D9",
             "#3200CC",
             "#3F00BF",
             "#4C00B3",
             "#5800A6",
             "#650099",
             "#72008C",
             "#7F0080",
             "#8B0073",
             "#990066",
             "#A60059",
             "#B3004C",
             "#BF0040",
             "#CC0032",
             "#D90026",
             "#E60019",
             "#F2000D",
             "#FF0000",
             "#FF0D00",
             "#FF1900",
             "#FF2600",
             "#FF3200",
             "#FF3F00",
             "#FF4C00",
             "#FF5800",
             "#FF6500",
             "#FF7200",
             "#FF7F00",
             "#FF8B00",
             "#FF9900",
             "#FFA600",
             "#FFB300",
             "#FFBF00",
             "#FFCC00",
             "#FFD900",
             "#FFE600",
             "#FFF200",
             "#FFFF00"
            ],
            "size": 15,
            "symbol": "arrow"
           },
           "mode": "lines+markers",
           "type": "scatter",
           "x": {
            "bdata": "AAAAAAAAAACamZmZmZm5P5qZmZmZmck/NDMzMzMz0z+amZmZmZnZPwAAAAAAAOA/NDMzMzMz4z9nZmZmZmbmP5qZmZmZmek/zczMzMzM7D8AAAAAAADwP5qZmZmZmfE/NDMzMzMz8z/NzMzMzMz0P2dmZmZmZvY/AAAAAAAA+D+amZmZmZn5PzQzMzMzM/s/zczMzMzM/D9nZmZmZmb+PwAAAAAAAABAzczMzMzMAECamZmZmZkBQGdmZmZmZgJANDMzMzMzA0A=",
            "dtype": "f8"
           },
           "y": {
            "bdata": "AAAAAAAAAAB8FK5H4XqEP3wUrkfheqQ/DNejcD0Ktz98FK5H4XrEPwAAAAAAANA/DNejcD0K1z9ej8L1KFzfP3wUrkfheuQ/7FG4HoXr6T8AAAAAAADwP12PwvUoXPM/DNejcD0K9z8L16NwPQr7P16PwvUoXP8/AAAAAAAAAkB8FK5H4XoEQCCF61G4HgdA7FG4HoXrCUDiehSuR+EMQAAAAAAAABBApHA9CtejEUBdj8L1KFwTQCpcj8L1KBVADNejcD0KF0A=",
            "dtype": "f8"
           }
          }
         ]
        },
        {
         "data": [
          {
           "marker": {
            "angleref": "previous",
            "color": [
             "#0000FF",
             "#0D00F2",
             "#1900E6",
             "#2600D9",
             "#3200CC",
             "#3F00BF",
             "#4C00B3",
             "#5800A6",
             "#650099",
             "#72008C",
             "#7F0080",
             "#8B0073",
             "#990066",
             "#A60059",
             "#B3004C",
             "#BF0040",
             "#CC0032",
             "#D90026",
             "#E60019",
             "#F2000D",
             "#FF0000",
             "#FF0D00",
             "#FF1900",
             "#FF2600",
             "#FF3200",
             "#FF3F00",
             "#FF4C00",
             "#FF5800",
             "#FF6500",
             "#FF7200",
             "#FF7F00",
             "#FF8B00",
             "#FF9900",
             "#FFA600",
             "#FFB300",
             "#FFBF00",
             "#FFCC00",
             "#FFD900",
             "#FFE600",
             "#FFF200",
             "#FFFF00"
            ],
            "size": 15,
            "symbol": "arrow"
           },
           "mode": "lines+markers",
           "type": "scatter",
           "x": {
            "bdata": "AAAAAAAAAACamZmZmZm5P5qZmZmZmck/NDMzMzMz0z+amZmZmZnZPwAAAAAAAOA/NDMzMzMz4z9nZmZmZmbmP5qZmZmZmek/zczMzMzM7D8AAAAAAADwP5qZmZmZmfE/NDMzMzMz8z/NzMzMzMz0P2dmZmZmZvY/AAAAAAAA+D+amZmZmZn5PzQzMzMzM/s/zczMzMzM/D9nZmZmZmb+PwAAAAAAAABAzczMzMzMAECamZmZmZkBQGdmZmZmZgJANDMzMzMzA0AAAAAAAAAEQA==",
            "dtype": "f8"
           },
           "y": {
            "bdata": "AAAAAAAAAAB8FK5H4XqEP3wUrkfheqQ/DNejcD0Ktz98FK5H4XrEPwAAAAAAANA/DNejcD0K1z9ej8L1KFzfP3wUrkfheuQ/7FG4HoXr6T8AAAAAAADwP12PwvUoXPM/DNejcD0K9z8L16NwPQr7P16PwvUoXP8/AAAAAAAAAkB8FK5H4XoEQCCF61G4HgdA7FG4HoXrCUDiehSuR+EMQAAAAAAAABBApHA9CtejEUBdj8L1KFwTQCpcj8L1KBVADNejcD0KF0AAAAAAAAAZQA==",
            "dtype": "f8"
           }
          }
         ]
        },
        {
         "data": [
          {
           "marker": {
            "angleref": "previous",
            "color": [
             "#0000FF",
             "#0D00F2",
             "#1900E6",
             "#2600D9",
             "#3200CC",
             "#3F00BF",
             "#4C00B3",
             "#5800A6",
             "#650099",
             "#72008C",
             "#7F0080",
             "#8B0073",
             "#990066",
             "#A60059",
             "#B3004C",
             "#BF0040",
             "#CC0032",
             "#D90026",
             "#E60019",
             "#F2000D",
             "#FF0000",
             "#FF0D00",
             "#FF1900",
             "#FF2600",
             "#FF3200",
             "#FF3F00",
             "#FF4C00",
             "#FF5800",
             "#FF6500",
             "#FF7200",
             "#FF7F00",
             "#FF8B00",
             "#FF9900",
             "#FFA600",
             "#FFB300",
             "#FFBF00",
             "#FFCC00",
             "#FFD900",
             "#FFE600",
             "#FFF200",
             "#FFFF00"
            ],
            "size": 15,
            "symbol": "arrow"
           },
           "mode": "lines+markers",
           "type": "scatter",
           "x": {
            "bdata": "AAAAAAAAAACamZmZmZm5P5qZmZmZmck/NDMzMzMz0z+amZmZmZnZPwAAAAAAAOA/NDMzMzMz4z9nZmZmZmbmP5qZmZmZmek/zczMzMzM7D8AAAAAAADwP5qZmZmZmfE/NDMzMzMz8z/NzMzMzMz0P2dmZmZmZvY/AAAAAAAA+D+amZmZmZn5PzQzMzMzM/s/zczMzMzM/D9nZmZmZmb+PwAAAAAAAABAzczMzMzMAECamZmZmZkBQGdmZmZmZgJANDMzMzMzA0AAAAAAAAAEQM3MzMzMzARA",
            "dtype": "f8"
           },
           "y": {
            "bdata": "AAAAAAAAAAB8FK5H4XqEP3wUrkfheqQ/DNejcD0Ktz98FK5H4XrEPwAAAAAAANA/DNejcD0K1z9ej8L1KFzfP3wUrkfheuQ/7FG4HoXr6T8AAAAAAADwP12PwvUoXPM/DNejcD0K9z8L16NwPQr7P16PwvUoXP8/AAAAAAAAAkB8FK5H4XoEQCCF61G4HgdA7FG4HoXrCUDiehSuR+EMQAAAAAAAABBApHA9CtejEUBdj8L1KFwTQCpcj8L1KBVADNejcD0KF0AAAAAAAAAZQAvXo3A9ChtA",
            "dtype": "f8"
           }
          }
         ]
        },
        {
         "data": [
          {
           "marker": {
            "angleref": "previous",
            "color": [
             "#0000FF",
             "#0D00F2",
             "#1900E6",
             "#2600D9",
             "#3200CC",
             "#3F00BF",
             "#4C00B3",
             "#5800A6",
             "#650099",
             "#72008C",
             "#7F0080",
             "#8B0073",
             "#990066",
             "#A60059",
             "#B3004C",
             "#BF0040",
             "#CC0032",
             "#D90026",
             "#E60019",
             "#F2000D",
             "#FF0000",
             "#FF0D00",
             "#FF1900",
             "#FF2600",
             "#FF3200",
             "#FF3F00",
             "#FF4C00",
             "#FF5800",
             "#FF6500",
             "#FF7200",
             "#FF7F00",
             "#FF8B00",
             "#FF9900",
             "#FFA600",
             "#FFB300",
             "#FFBF00",
             "#FFCC00",
             "#FFD900",
             "#FFE600",
             "#FFF200",
             "#FFFF00"
            ],
            "size": 15,
            "symbol": "arrow"
           },
           "mode": "lines+markers",
           "type": "scatter",
           "x": {
            "bdata": "AAAAAAAAAACamZmZmZm5P5qZmZmZmck/NDMzMzMz0z+amZmZmZnZPwAAAAAAAOA/NDMzMzMz4z9nZmZmZmbmP5qZmZmZmek/zczMzMzM7D8AAAAAAADwP5qZmZmZmfE/NDMzMzMz8z/NzMzMzMz0P2dmZmZmZvY/AAAAAAAA+D+amZmZmZn5PzQzMzMzM/s/zczMzMzM/D9nZmZmZmb+PwAAAAAAAABAzczMzMzMAECamZmZmZkBQGdmZmZmZgJANDMzMzMzA0AAAAAAAAAEQM3MzMzMzARAmpmZmZmZBUA=",
            "dtype": "f8"
           },
           "y": {
            "bdata": "AAAAAAAAAAB8FK5H4XqEP3wUrkfheqQ/DNejcD0Ktz98FK5H4XrEPwAAAAAAANA/DNejcD0K1z9ej8L1KFzfP3wUrkfheuQ/7FG4HoXr6T8AAAAAAADwP12PwvUoXPM/DNejcD0K9z8L16NwPQr7P16PwvUoXP8/AAAAAAAAAkB8FK5H4XoEQCCF61G4HgdA7FG4HoXrCUDiehSuR+EMQAAAAAAAABBApHA9CtejEUBdj8L1KFwTQCpcj8L1KBVADNejcD0KF0AAAAAAAAAZQAvXo3A9ChtAKlyPwvUoHUA=",
            "dtype": "f8"
           }
          }
         ]
        },
        {
         "data": [
          {
           "marker": {
            "angleref": "previous",
            "color": [
             "#0000FF",
             "#0D00F2",
             "#1900E6",
             "#2600D9",
             "#3200CC",
             "#3F00BF",
             "#4C00B3",
             "#5800A6",
             "#650099",
             "#72008C",
             "#7F0080",
             "#8B0073",
             "#990066",
             "#A60059",
             "#B3004C",
             "#BF0040",
             "#CC0032",
             "#D90026",
             "#E60019",
             "#F2000D",
             "#FF0000",
             "#FF0D00",
             "#FF1900",
             "#FF2600",
             "#FF3200",
             "#FF3F00",
             "#FF4C00",
             "#FF5800",
             "#FF6500",
             "#FF7200",
             "#FF7F00",
             "#FF8B00",
             "#FF9900",
             "#FFA600",
             "#FFB300",
             "#FFBF00",
             "#FFCC00",
             "#FFD900",
             "#FFE600",
             "#FFF200",
             "#FFFF00"
            ],
            "size": 15,
            "symbol": "arrow"
           },
           "mode": "lines+markers",
           "type": "scatter",
           "x": {
            "bdata": "AAAAAAAAAACamZmZmZm5P5qZmZmZmck/NDMzMzMz0z+amZmZmZnZPwAAAAAAAOA/NDMzMzMz4z9nZmZmZmbmP5qZmZmZmek/zczMzMzM7D8AAAAAAADwP5qZmZmZmfE/NDMzMzMz8z/NzMzMzMz0P2dmZmZmZvY/AAAAAAAA+D+amZmZmZn5PzQzMzMzM/s/zczMzMzM/D9nZmZmZmb+PwAAAAAAAABAzczMzMzMAECamZmZmZkBQGdmZmZmZgJANDMzMzMzA0AAAAAAAAAEQM3MzMzMzARAmpmZmZmZBUBnZmZmZmYGQA==",
            "dtype": "f8"
           },
           "y": {
            "bdata": "AAAAAAAAAAB8FK5H4XqEP3wUrkfheqQ/DNejcD0Ktz98FK5H4XrEPwAAAAAAANA/DNejcD0K1z9ej8L1KFzfP3wUrkfheuQ/7FG4HoXr6T8AAAAAAADwP12PwvUoXPM/DNejcD0K9z8L16NwPQr7P16PwvUoXP8/AAAAAAAAAkB8FK5H4XoEQCCF61G4HgdA7FG4HoXrCUDiehSuR+EMQAAAAAAAABBApHA9CtejEUBdj8L1KFwTQCpcj8L1KBVADNejcD0KF0AAAAAAAAAZQAvXo3A9ChtAKlyPwvUoHUBej8L1KFwfQA==",
            "dtype": "f8"
           }
          }
         ]
        },
        {
         "data": [
          {
           "marker": {
            "angleref": "previous",
            "color": [
             "#0000FF",
             "#0D00F2",
             "#1900E6",
             "#2600D9",
             "#3200CC",
             "#3F00BF",
             "#4C00B3",
             "#5800A6",
             "#650099",
             "#72008C",
             "#7F0080",
             "#8B0073",
             "#990066",
             "#A60059",
             "#B3004C",
             "#BF0040",
             "#CC0032",
             "#D90026",
             "#E60019",
             "#F2000D",
             "#FF0000",
             "#FF0D00",
             "#FF1900",
             "#FF2600",
             "#FF3200",
             "#FF3F00",
             "#FF4C00",
             "#FF5800",
             "#FF6500",
             "#FF7200",
             "#FF7F00",
             "#FF8B00",
             "#FF9900",
             "#FFA600",
             "#FFB300",
             "#FFBF00",
             "#FFCC00",
             "#FFD900",
             "#FFE600",
             "#FFF200",
             "#FFFF00"
            ],
            "size": 15,
            "symbol": "arrow"
           },
           "mode": "lines+markers",
           "type": "scatter",
           "x": {
            "bdata": "AAAAAAAAAACamZmZmZm5P5qZmZmZmck/NDMzMzMz0z+amZmZmZnZPwAAAAAAAOA/NDMzMzMz4z9nZmZmZmbmP5qZmZmZmek/zczMzMzM7D8AAAAAAADwP5qZmZmZmfE/NDMzMzMz8z/NzMzMzMz0P2dmZmZmZvY/AAAAAAAA+D+amZmZmZn5PzQzMzMzM/s/zczMzMzM/D9nZmZmZmb+PwAAAAAAAABAzczMzMzMAECamZmZmZkBQGdmZmZmZgJANDMzMzMzA0AAAAAAAAAEQM3MzMzMzARAmpmZmZmZBUBnZmZmZmYGQDQzMzMzMwdA",
            "dtype": "f8"
           },
           "y": {
            "bdata": "AAAAAAAAAAB8FK5H4XqEP3wUrkfheqQ/DNejcD0Ktz98FK5H4XrEPwAAAAAAANA/DNejcD0K1z9ej8L1KFzfP3wUrkfheuQ/7FG4HoXr6T8AAAAAAADwP12PwvUoXPM/DNejcD0K9z8L16NwPQr7P16PwvUoXP8/AAAAAAAAAkB8FK5H4XoEQCCF61G4HgdA7FG4HoXrCUDiehSuR+EMQAAAAAAAABBApHA9CtejEUBdj8L1KFwTQCpcj8L1KBVADNejcD0KF0AAAAAAAAAZQAvXo3A9ChtAKlyPwvUoHUBej8L1KFwfQFO4HoXr0SBA",
            "dtype": "f8"
           }
          }
         ]
        },
        {
         "data": [
          {
           "marker": {
            "angleref": "previous",
            "color": [
             "#0000FF",
             "#0D00F2",
             "#1900E6",
             "#2600D9",
             "#3200CC",
             "#3F00BF",
             "#4C00B3",
             "#5800A6",
             "#650099",
             "#72008C",
             "#7F0080",
             "#8B0073",
             "#990066",
             "#A60059",
             "#B3004C",
             "#BF0040",
             "#CC0032",
             "#D90026",
             "#E60019",
             "#F2000D",
             "#FF0000",
             "#FF0D00",
             "#FF1900",
             "#FF2600",
             "#FF3200",
             "#FF3F00",
             "#FF4C00",
             "#FF5800",
             "#FF6500",
             "#FF7200",
             "#FF7F00",
             "#FF8B00",
             "#FF9900",
             "#FFA600",
             "#FFB300",
             "#FFBF00",
             "#FFCC00",
             "#FFD900",
             "#FFE600",
             "#FFF200",
             "#FFFF00"
            ],
            "size": 15,
            "symbol": "arrow"
           },
           "mode": "lines+markers",
           "type": "scatter",
           "x": {
            "bdata": "AAAAAAAAAACamZmZmZm5P5qZmZmZmck/NDMzMzMz0z+amZmZmZnZPwAAAAAAAOA/NDMzMzMz4z9nZmZmZmbmP5qZmZmZmek/zczMzMzM7D8AAAAAAADwP5qZmZmZmfE/NDMzMzMz8z/NzMzMzMz0P2dmZmZmZvY/AAAAAAAA+D+amZmZmZn5PzQzMzMzM/s/zczMzMzM/D9nZmZmZmb+PwAAAAAAAABAzczMzMzMAECamZmZmZkBQGdmZmZmZgJANDMzMzMzA0AAAAAAAAAEQM3MzMzMzARAmpmZmZmZBUBnZmZmZmYGQDQzMzMzMwdAAAAAAAAACEA=",
            "dtype": "f8"
           },
           "y": {
            "bdata": "AAAAAAAAAAB8FK5H4XqEP3wUrkfheqQ/DNejcD0Ktz98FK5H4XrEPwAAAAAAANA/DNejcD0K1z9ej8L1KFzfP3wUrkfheuQ/7FG4HoXr6T8AAAAAAADwP12PwvUoXPM/DNejcD0K9z8L16NwPQr7P16PwvUoXP8/AAAAAAAAAkB8FK5H4XoEQCCF61G4HgdA7FG4HoXrCUDiehSuR+EMQAAAAAAAABBApHA9CtejEUBdj8L1KFwTQCpcj8L1KBVADNejcD0KF0AAAAAAAAAZQAvXo3A9ChtAKlyPwvUoHUBej8L1KFwfQFO4HoXr0SBAAAAAAAAAIkA=",
            "dtype": "f8"
           }
          }
         ]
        },
        {
         "data": [
          {
           "marker": {
            "angleref": "previous",
            "color": [
             "#0000FF",
             "#0D00F2",
             "#1900E6",
             "#2600D9",
             "#3200CC",
             "#3F00BF",
             "#4C00B3",
             "#5800A6",
             "#650099",
             "#72008C",
             "#7F0080",
             "#8B0073",
             "#990066",
             "#A60059",
             "#B3004C",
             "#BF0040",
             "#CC0032",
             "#D90026",
             "#E60019",
             "#F2000D",
             "#FF0000",
             "#FF0D00",
             "#FF1900",
             "#FF2600",
             "#FF3200",
             "#FF3F00",
             "#FF4C00",
             "#FF5800",
             "#FF6500",
             "#FF7200",
             "#FF7F00",
             "#FF8B00",
             "#FF9900",
             "#FFA600",
             "#FFB300",
             "#FFBF00",
             "#FFCC00",
             "#FFD900",
             "#FFE600",
             "#FFF200",
             "#FFFF00"
            ],
            "size": 15,
            "symbol": "arrow"
           },
           "mode": "lines+markers",
           "type": "scatter",
           "x": {
            "bdata": "AAAAAAAAAACamZmZmZm5P5qZmZmZmck/NDMzMzMz0z+amZmZmZnZPwAAAAAAAOA/NDMzMzMz4z9nZmZmZmbmP5qZmZmZmek/zczMzMzM7D8AAAAAAADwP5qZmZmZmfE/NDMzMzMz8z/NzMzMzMz0P2dmZmZmZvY/AAAAAAAA+D+amZmZmZn5PzQzMzMzM/s/zczMzMzM/D9nZmZmZmb+PwAAAAAAAABAzczMzMzMAECamZmZmZkBQGdmZmZmZgJANDMzMzMzA0AAAAAAAAAEQM3MzMzMzARAmpmZmZmZBUBnZmZmZmYGQDQzMzMzMwdAAAAAAAAACEDNzMzMzMwIQA==",
            "dtype": "f8"
           },
           "y": {
            "bdata": "AAAAAAAAAAB8FK5H4XqEP3wUrkfheqQ/DNejcD0Ktz98FK5H4XrEPwAAAAAAANA/DNejcD0K1z9ej8L1KFzfP3wUrkfheuQ/7FG4HoXr6T8AAAAAAADwP12PwvUoXPM/DNejcD0K9z8L16NwPQr7P16PwvUoXP8/AAAAAAAAAkB8FK5H4XoEQCCF61G4HgdA7FG4HoXrCUDiehSuR+EMQAAAAAAAABBApHA9CtejEUBdj8L1KFwTQCpcj8L1KBVADNejcD0KF0AAAAAAAAAZQAvXo3A9ChtAKlyPwvUoHUBej8L1KFwfQFO4HoXr0SBAAAAAAAAAIkC5HoXrUTgjQA==",
            "dtype": "f8"
           }
          }
         ]
        },
        {
         "data": [
          {
           "marker": {
            "angleref": "previous",
            "color": [
             "#0000FF",
             "#0D00F2",
             "#1900E6",
             "#2600D9",
             "#3200CC",
             "#3F00BF",
             "#4C00B3",
             "#5800A6",
             "#650099",
             "#72008C",
             "#7F0080",
             "#8B0073",
             "#990066",
             "#A60059",
             "#B3004C",
             "#BF0040",
             "#CC0032",
             "#D90026",
             "#E60019",
             "#F2000D",
             "#FF0000",
             "#FF0D00",
             "#FF1900",
             "#FF2600",
             "#FF3200",
             "#FF3F00",
             "#FF4C00",
             "#FF5800",
             "#FF6500",
             "#FF7200",
             "#FF7F00",
             "#FF8B00",
             "#FF9900",
             "#FFA600",
             "#FFB300",
             "#FFBF00",
             "#FFCC00",
             "#FFD900",
             "#FFE600",
             "#FFF200",
             "#FFFF00"
            ],
            "size": 15,
            "symbol": "arrow"
           },
           "mode": "lines+markers",
           "type": "scatter",
           "x": {
            "bdata": "AAAAAAAAAACamZmZmZm5P5qZmZmZmck/NDMzMzMz0z+amZmZmZnZPwAAAAAAAOA/NDMzMzMz4z9nZmZmZmbmP5qZmZmZmek/zczMzMzM7D8AAAAAAADwP5qZmZmZmfE/NDMzMzMz8z/NzMzMzMz0P2dmZmZmZvY/AAAAAAAA+D+amZmZmZn5PzQzMzMzM/s/zczMzMzM/D9nZmZmZmb+PwAAAAAAAABAzczMzMzMAECamZmZmZkBQGdmZmZmZgJANDMzMzMzA0AAAAAAAAAEQM3MzMzMzARAmpmZmZmZBUBnZmZmZmYGQDQzMzMzMwdAAAAAAAAACEDNzMzMzMwIQJqZmZmZmQlA",
            "dtype": "f8"
           },
           "y": {
            "bdata": "AAAAAAAAAAB8FK5H4XqEP3wUrkfheqQ/DNejcD0Ktz98FK5H4XrEPwAAAAAAANA/DNejcD0K1z9ej8L1KFzfP3wUrkfheuQ/7FG4HoXr6T8AAAAAAADwP12PwvUoXPM/DNejcD0K9z8L16NwPQr7P16PwvUoXP8/AAAAAAAAAkB8FK5H4XoEQCCF61G4HgdA7FG4HoXrCUDiehSuR+EMQAAAAAAAABBApHA9CtejEUBdj8L1KFwTQCpcj8L1KBVADNejcD0KF0AAAAAAAAAZQAvXo3A9ChtAKlyPwvUoHUBej8L1KFwfQFO4HoXr0SBAAAAAAAAAIkC5HoXrUTgjQHwUrkfheiRA",
            "dtype": "f8"
           }
          }
         ]
        },
        {
         "data": [
          {
           "marker": {
            "angleref": "previous",
            "color": [
             "#0000FF",
             "#0D00F2",
             "#1900E6",
             "#2600D9",
             "#3200CC",
             "#3F00BF",
             "#4C00B3",
             "#5800A6",
             "#650099",
             "#72008C",
             "#7F0080",
             "#8B0073",
             "#990066",
             "#A60059",
             "#B3004C",
             "#BF0040",
             "#CC0032",
             "#D90026",
             "#E60019",
             "#F2000D",
             "#FF0000",
             "#FF0D00",
             "#FF1900",
             "#FF2600",
             "#FF3200",
             "#FF3F00",
             "#FF4C00",
             "#FF5800",
             "#FF6500",
             "#FF7200",
             "#FF7F00",
             "#FF8B00",
             "#FF9900",
             "#FFA600",
             "#FFB300",
             "#FFBF00",
             "#FFCC00",
             "#FFD900",
             "#FFE600",
             "#FFF200",
             "#FFFF00"
            ],
            "size": 15,
            "symbol": "arrow"
           },
           "mode": "lines+markers",
           "type": "scatter",
           "x": {
            "bdata": "AAAAAAAAAACamZmZmZm5P5qZmZmZmck/NDMzMzMz0z+amZmZmZnZPwAAAAAAAOA/NDMzMzMz4z9nZmZmZmbmP5qZmZmZmek/zczMzMzM7D8AAAAAAADwP5qZmZmZmfE/NDMzMzMz8z/NzMzMzMz0P2dmZmZmZvY/AAAAAAAA+D+amZmZmZn5PzQzMzMzM/s/zczMzMzM/D9nZmZmZmb+PwAAAAAAAABAzczMzMzMAECamZmZmZkBQGdmZmZmZgJANDMzMzMzA0AAAAAAAAAEQM3MzMzMzARAmpmZmZmZBUBnZmZmZmYGQDQzMzMzMwdAAAAAAAAACEDNzMzMzMwIQJqZmZmZmQlAZ2ZmZmZmCkA=",
            "dtype": "f8"
           },
           "y": {
            "bdata": "AAAAAAAAAAB8FK5H4XqEP3wUrkfheqQ/DNejcD0Ktz98FK5H4XrEPwAAAAAAANA/DNejcD0K1z9ej8L1KFzfP3wUrkfheuQ/7FG4HoXr6T8AAAAAAADwP12PwvUoXPM/DNejcD0K9z8L16NwPQr7P16PwvUoXP8/AAAAAAAAAkB8FK5H4XoEQCCF61G4HgdA7FG4HoXrCUDiehSuR+EMQAAAAAAAABBApHA9CtejEUBdj8L1KFwTQCpcj8L1KBVADNejcD0KF0AAAAAAAAAZQAvXo3A9ChtAKlyPwvUoHUBej8L1KFwfQFO4HoXr0SBAAAAAAAAAIkC5HoXrUTgjQHwUrkfheiRASeF6FK7HJUA=",
            "dtype": "f8"
           }
          }
         ]
        },
        {
         "data": [
          {
           "marker": {
            "angleref": "previous",
            "color": [
             "#0000FF",
             "#0D00F2",
             "#1900E6",
             "#2600D9",
             "#3200CC",
             "#3F00BF",
             "#4C00B3",
             "#5800A6",
             "#650099",
             "#72008C",
             "#7F0080",
             "#8B0073",
             "#990066",
             "#A60059",
             "#B3004C",
             "#BF0040",
             "#CC0032",
             "#D90026",
             "#E60019",
             "#F2000D",
             "#FF0000",
             "#FF0D00",
             "#FF1900",
             "#FF2600",
             "#FF3200",
             "#FF3F00",
             "#FF4C00",
             "#FF5800",
             "#FF6500",
             "#FF7200",
             "#FF7F00",
             "#FF8B00",
             "#FF9900",
             "#FFA600",
             "#FFB300",
             "#FFBF00",
             "#FFCC00",
             "#FFD900",
             "#FFE600",
             "#FFF200",
             "#FFFF00"
            ],
            "size": 15,
            "symbol": "arrow"
           },
           "mode": "lines+markers",
           "type": "scatter",
           "x": {
            "bdata": "AAAAAAAAAACamZmZmZm5P5qZmZmZmck/NDMzMzMz0z+amZmZmZnZPwAAAAAAAOA/NDMzMzMz4z9nZmZmZmbmP5qZmZmZmek/zczMzMzM7D8AAAAAAADwP5qZmZmZmfE/NDMzMzMz8z/NzMzMzMz0P2dmZmZmZvY/AAAAAAAA+D+amZmZmZn5PzQzMzMzM/s/zczMzMzM/D9nZmZmZmb+PwAAAAAAAABAzczMzMzMAECamZmZmZkBQGdmZmZmZgJANDMzMzMzA0AAAAAAAAAEQM3MzMzMzARAmpmZmZmZBUBnZmZmZmYGQDQzMzMzMwdAAAAAAAAACEDNzMzMzMwIQJqZmZmZmQlAZ2ZmZmZmCkA0MzMzMzMLQA==",
            "dtype": "f8"
           },
           "y": {
            "bdata": "AAAAAAAAAAB8FK5H4XqEP3wUrkfheqQ/DNejcD0Ktz98FK5H4XrEPwAAAAAAANA/DNejcD0K1z9ej8L1KFzfP3wUrkfheuQ/7FG4HoXr6T8AAAAAAADwP12PwvUoXPM/DNejcD0K9z8L16NwPQr7P16PwvUoXP8/AAAAAAAAAkB8FK5H4XoEQCCF61G4HgdA7FG4HoXrCUDiehSuR+EMQAAAAAAAABBApHA9CtejEUBdj8L1KFwTQCpcj8L1KBVADNejcD0KF0AAAAAAAAAZQAvXo3A9ChtAKlyPwvUoHUBej8L1KFwfQFO4HoXr0SBAAAAAAAAAIkC5HoXrUTgjQHwUrkfheiRASeF6FK7HJUAghetRuB4nQA==",
            "dtype": "f8"
           }
          }
         ]
        },
        {
         "data": [
          {
           "marker": {
            "angleref": "previous",
            "color": [
             "#0000FF",
             "#0D00F2",
             "#1900E6",
             "#2600D9",
             "#3200CC",
             "#3F00BF",
             "#4C00B3",
             "#5800A6",
             "#650099",
             "#72008C",
             "#7F0080",
             "#8B0073",
             "#990066",
             "#A60059",
             "#B3004C",
             "#BF0040",
             "#CC0032",
             "#D90026",
             "#E60019",
             "#F2000D",
             "#FF0000",
             "#FF0D00",
             "#FF1900",
             "#FF2600",
             "#FF3200",
             "#FF3F00",
             "#FF4C00",
             "#FF5800",
             "#FF6500",
             "#FF7200",
             "#FF7F00",
             "#FF8B00",
             "#FF9900",
             "#FFA600",
             "#FFB300",
             "#FFBF00",
             "#FFCC00",
             "#FFD900",
             "#FFE600",
             "#FFF200",
             "#FFFF00"
            ],
            "size": 15,
            "symbol": "arrow"
           },
           "mode": "lines+markers",
           "type": "scatter",
           "x": {
            "bdata": "AAAAAAAAAACamZmZmZm5P5qZmZmZmck/NDMzMzMz0z+amZmZmZnZPwAAAAAAAOA/NDMzMzMz4z9nZmZmZmbmP5qZmZmZmek/zczMzMzM7D8AAAAAAADwP5qZmZmZmfE/NDMzMzMz8z/NzMzMzMz0P2dmZmZmZvY/AAAAAAAA+D+amZmZmZn5PzQzMzMzM/s/zczMzMzM/D9nZmZmZmb+PwAAAAAAAABAzczMzMzMAECamZmZmZkBQGdmZmZmZgJANDMzMzMzA0AAAAAAAAAEQM3MzMzMzARAmpmZmZmZBUBnZmZmZmYGQDQzMzMzMwdAAAAAAAAACEDNzMzMzMwIQJqZmZmZmQlAZ2ZmZmZmCkA0MzMzMzMLQAAAAAAAAAxA",
            "dtype": "f8"
           },
           "y": {
            "bdata": "AAAAAAAAAAB8FK5H4XqEP3wUrkfheqQ/DNejcD0Ktz98FK5H4XrEPwAAAAAAANA/DNejcD0K1z9ej8L1KFzfP3wUrkfheuQ/7FG4HoXr6T8AAAAAAADwP12PwvUoXPM/DNejcD0K9z8L16NwPQr7P16PwvUoXP8/AAAAAAAAAkB8FK5H4XoEQCCF61G4HgdA7FG4HoXrCUDiehSuR+EMQAAAAAAAABBApHA9CtejEUBdj8L1KFwTQCpcj8L1KBVADNejcD0KF0AAAAAAAAAZQAvXo3A9ChtAKlyPwvUoHUBej8L1KFwfQFO4HoXr0SBAAAAAAAAAIkC5HoXrUTgjQHwUrkfheiRASeF6FK7HJUAghetRuB4nQAAAAAAAgChA",
            "dtype": "f8"
           }
          }
         ]
        },
        {
         "data": [
          {
           "marker": {
            "angleref": "previous",
            "color": [
             "#0000FF",
             "#0D00F2",
             "#1900E6",
             "#2600D9",
             "#3200CC",
             "#3F00BF",
             "#4C00B3",
             "#5800A6",
             "#650099",
             "#72008C",
             "#7F0080",
             "#8B0073",
             "#990066",
             "#A60059",
             "#B3004C",
             "#BF0040",
             "#CC0032",
             "#D90026",
             "#E60019",
             "#F2000D",
             "#FF0000",
             "#FF0D00",
             "#FF1900",
             "#FF2600",
             "#FF3200",
             "#FF3F00",
             "#FF4C00",
             "#FF5800",
             "#FF6500",
             "#FF7200",
             "#FF7F00",
             "#FF8B00",
             "#FF9900",
             "#FFA600",
             "#FFB300",
             "#FFBF00",
             "#FFCC00",
             "#FFD900",
             "#FFE600",
             "#FFF200",
             "#FFFF00"
            ],
            "size": 15,
            "symbol": "arrow"
           },
           "mode": "lines+markers",
           "type": "scatter",
           "x": {
            "bdata": "AAAAAAAAAACamZmZmZm5P5qZmZmZmck/NDMzMzMz0z+amZmZmZnZPwAAAAAAAOA/NDMzMzMz4z9nZmZmZmbmP5qZmZmZmek/zczMzMzM7D8AAAAAAADwP5qZmZmZmfE/NDMzMzMz8z/NzMzMzMz0P2dmZmZmZvY/AAAAAAAA+D+amZmZmZn5PzQzMzMzM/s/zczMzMzM/D9nZmZmZmb+PwAAAAAAAABAzczMzMzMAECamZmZmZkBQGdmZmZmZgJANDMzMzMzA0AAAAAAAAAEQM3MzMzMzARAmpmZmZmZBUBnZmZmZmYGQDQzMzMzMwdAAAAAAAAACEDNzMzMzMwIQJqZmZmZmQlAZ2ZmZmZmCkA0MzMzMzMLQAAAAAAAAAxAzczMzMzMDEA=",
            "dtype": "f8"
           },
           "y": {
            "bdata": "AAAAAAAAAAB8FK5H4XqEP3wUrkfheqQ/DNejcD0Ktz98FK5H4XrEPwAAAAAAANA/DNejcD0K1z9ej8L1KFzfP3wUrkfheuQ/7FG4HoXr6T8AAAAAAADwP12PwvUoXPM/DNejcD0K9z8L16NwPQr7P16PwvUoXP8/AAAAAAAAAkB8FK5H4XoEQCCF61G4HgdA7FG4HoXrCUDiehSuR+EMQAAAAAAAABBApHA9CtejEUBdj8L1KFwTQCpcj8L1KBVADNejcD0KF0AAAAAAAAAZQAvXo3A9ChtAKlyPwvUoHUBej8L1KFwfQFO4HoXr0SBAAAAAAAAAIkC5HoXrUTgjQHwUrkfheiRASeF6FK7HJUAghetRuB4nQAAAAAAAgChA7FG4HoXrKUA=",
            "dtype": "f8"
           }
          }
         ]
        },
        {
         "data": [
          {
           "marker": {
            "angleref": "previous",
            "color": [
             "#0000FF",
             "#0D00F2",
             "#1900E6",
             "#2600D9",
             "#3200CC",
             "#3F00BF",
             "#4C00B3",
             "#5800A6",
             "#650099",
             "#72008C",
             "#7F0080",
             "#8B0073",
             "#990066",
             "#A60059",
             "#B3004C",
             "#BF0040",
             "#CC0032",
             "#D90026",
             "#E60019",
             "#F2000D",
             "#FF0000",
             "#FF0D00",
             "#FF1900",
             "#FF2600",
             "#FF3200",
             "#FF3F00",
             "#FF4C00",
             "#FF5800",
             "#FF6500",
             "#FF7200",
             "#FF7F00",
             "#FF8B00",
             "#FF9900",
             "#FFA600",
             "#FFB300",
             "#FFBF00",
             "#FFCC00",
             "#FFD900",
             "#FFE600",
             "#FFF200",
             "#FFFF00"
            ],
            "size": 15,
            "symbol": "arrow"
           },
           "mode": "lines+markers",
           "type": "scatter",
           "x": {
            "bdata": "AAAAAAAAAACamZmZmZm5P5qZmZmZmck/NDMzMzMz0z+amZmZmZnZPwAAAAAAAOA/NDMzMzMz4z9nZmZmZmbmP5qZmZmZmek/zczMzMzM7D8AAAAAAADwP5qZmZmZmfE/NDMzMzMz8z/NzMzMzMz0P2dmZmZmZvY/AAAAAAAA+D+amZmZmZn5PzQzMzMzM/s/zczMzMzM/D9nZmZmZmb+PwAAAAAAAABAzczMzMzMAECamZmZmZkBQGdmZmZmZgJANDMzMzMzA0AAAAAAAAAEQM3MzMzMzARAmpmZmZmZBUBnZmZmZmYGQDQzMzMzMwdAAAAAAAAACEDNzMzMzMwIQJqZmZmZmQlAZ2ZmZmZmCkA0MzMzMzMLQAAAAAAAAAxAzczMzMzMDECamZmZmZkNQA==",
            "dtype": "f8"
           },
           "y": {
            "bdata": "AAAAAAAAAAB8FK5H4XqEP3wUrkfheqQ/DNejcD0Ktz98FK5H4XrEPwAAAAAAANA/DNejcD0K1z9ej8L1KFzfP3wUrkfheuQ/7FG4HoXr6T8AAAAAAADwP12PwvUoXPM/DNejcD0K9z8L16NwPQr7P16PwvUoXP8/AAAAAAAAAkB8FK5H4XoEQCCF61G4HgdA7FG4HoXrCUDiehSuR+EMQAAAAAAAABBApHA9CtejEUBdj8L1KFwTQCpcj8L1KBVADNejcD0KF0AAAAAAAAAZQAvXo3A9ChtAKlyPwvUoHUBej8L1KFwfQFO4HoXr0SBAAAAAAAAAIkC5HoXrUTgjQHwUrkfheiRASeF6FK7HJUAghetRuB4nQAAAAAAAgChA7FG4HoXrKUDiehSuR2ErQA==",
            "dtype": "f8"
           }
          }
         ]
        },
        {
         "data": [
          {
           "marker": {
            "angleref": "previous",
            "color": [
             "#0000FF",
             "#0D00F2",
             "#1900E6",
             "#2600D9",
             "#3200CC",
             "#3F00BF",
             "#4C00B3",
             "#5800A6",
             "#650099",
             "#72008C",
             "#7F0080",
             "#8B0073",
             "#990066",
             "#A60059",
             "#B3004C",
             "#BF0040",
             "#CC0032",
             "#D90026",
             "#E60019",
             "#F2000D",
             "#FF0000",
             "#FF0D00",
             "#FF1900",
             "#FF2600",
             "#FF3200",
             "#FF3F00",
             "#FF4C00",
             "#FF5800",
             "#FF6500",
             "#FF7200",
             "#FF7F00",
             "#FF8B00",
             "#FF9900",
             "#FFA600",
             "#FFB300",
             "#FFBF00",
             "#FFCC00",
             "#FFD900",
             "#FFE600",
             "#FFF200",
             "#FFFF00"
            ],
            "size": 15,
            "symbol": "arrow"
           },
           "mode": "lines+markers",
           "type": "scatter",
           "x": {
            "bdata": "AAAAAAAAAACamZmZmZm5P5qZmZmZmck/NDMzMzMz0z+amZmZmZnZPwAAAAAAAOA/NDMzMzMz4z9nZmZmZmbmP5qZmZmZmek/zczMzMzM7D8AAAAAAADwP5qZmZmZmfE/NDMzMzMz8z/NzMzMzMz0P2dmZmZmZvY/AAAAAAAA+D+amZmZmZn5PzQzMzMzM/s/zczMzMzM/D9nZmZmZmb+PwAAAAAAAABAzczMzMzMAECamZmZmZkBQGdmZmZmZgJANDMzMzMzA0AAAAAAAAAEQM3MzMzMzARAmpmZmZmZBUBnZmZmZmYGQDQzMzMzMwdAAAAAAAAACEDNzMzMzMwIQJqZmZmZmQlAZ2ZmZmZmCkA0MzMzMzMLQAAAAAAAAAxAzczMzMzMDECamZmZmZkNQGdmZmZmZg5A",
            "dtype": "f8"
           },
           "y": {
            "bdata": "AAAAAAAAAAB8FK5H4XqEP3wUrkfheqQ/DNejcD0Ktz98FK5H4XrEPwAAAAAAANA/DNejcD0K1z9ej8L1KFzfP3wUrkfheuQ/7FG4HoXr6T8AAAAAAADwP12PwvUoXPM/DNejcD0K9z8L16NwPQr7P16PwvUoXP8/AAAAAAAAAkB8FK5H4XoEQCCF61G4HgdA7FG4HoXrCUDiehSuR+EMQAAAAAAAABBApHA9CtejEUBdj8L1KFwTQCpcj8L1KBVADNejcD0KF0AAAAAAAAAZQAvXo3A9ChtAKlyPwvUoHUBej8L1KFwfQFO4HoXr0SBAAAAAAAAAIkC5HoXrUTgjQHwUrkfheiRASeF6FK7HJUAghetRuB4nQAAAAAAAgChA7FG4HoXrKUDiehSuR2ErQOJ6FK5H4SxA",
            "dtype": "f8"
           }
          }
         ]
        },
        {
         "data": [
          {
           "marker": {
            "angleref": "previous",
            "color": [
             "#0000FF",
             "#0D00F2",
             "#1900E6",
             "#2600D9",
             "#3200CC",
             "#3F00BF",
             "#4C00B3",
             "#5800A6",
             "#650099",
             "#72008C",
             "#7F0080",
             "#8B0073",
             "#990066",
             "#A60059",
             "#B3004C",
             "#BF0040",
             "#CC0032",
             "#D90026",
             "#E60019",
             "#F2000D",
             "#FF0000",
             "#FF0D00",
             "#FF1900",
             "#FF2600",
             "#FF3200",
             "#FF3F00",
             "#FF4C00",
             "#FF5800",
             "#FF6500",
             "#FF7200",
             "#FF7F00",
             "#FF8B00",
             "#FF9900",
             "#FFA600",
             "#FFB300",
             "#FFBF00",
             "#FFCC00",
             "#FFD900",
             "#FFE600",
             "#FFF200",
             "#FFFF00"
            ],
            "size": 15,
            "symbol": "arrow"
           },
           "mode": "lines+markers",
           "type": "scatter",
           "x": {
            "bdata": "AAAAAAAAAACamZmZmZm5P5qZmZmZmck/NDMzMzMz0z+amZmZmZnZPwAAAAAAAOA/NDMzMzMz4z9nZmZmZmbmP5qZmZmZmek/zczMzMzM7D8AAAAAAADwP5qZmZmZmfE/NDMzMzMz8z/NzMzMzMz0P2dmZmZmZvY/AAAAAAAA+D+amZmZmZn5PzQzMzMzM/s/zczMzMzM/D9nZmZmZmb+PwAAAAAAAABAzczMzMzMAECamZmZmZkBQGdmZmZmZgJANDMzMzMzA0AAAAAAAAAEQM3MzMzMzARAmpmZmZmZBUBnZmZmZmYGQDQzMzMzMwdAAAAAAAAACEDNzMzMzMwIQJqZmZmZmQlAZ2ZmZmZmCkA0MzMzMzMLQAAAAAAAAAxAzczMzMzMDECamZmZmZkNQGdmZmZmZg5ANDMzMzMzD0A=",
            "dtype": "f8"
           },
           "y": {
            "bdata": "AAAAAAAAAAB8FK5H4XqEP3wUrkfheqQ/DNejcD0Ktz98FK5H4XrEPwAAAAAAANA/DNejcD0K1z9ej8L1KFzfP3wUrkfheuQ/7FG4HoXr6T8AAAAAAADwP12PwvUoXPM/DNejcD0K9z8L16NwPQr7P16PwvUoXP8/AAAAAAAAAkB8FK5H4XoEQCCF61G4HgdA7FG4HoXrCUDiehSuR+EMQAAAAAAAABBApHA9CtejEUBdj8L1KFwTQCpcj8L1KBVADNejcD0KF0AAAAAAAAAZQAvXo3A9ChtAKlyPwvUoHUBej8L1KFwfQFO4HoXr0SBAAAAAAAAAIkC5HoXrUTgjQHwUrkfheiRASeF6FK7HJUAghetRuB4nQAAAAAAAgChA7FG4HoXrKUDiehSuR2ErQOJ6FK5H4SxA7VG4HoVrLkA=",
            "dtype": "f8"
           }
          }
         ]
        },
        {
         "data": [
          {
           "marker": {
            "angleref": "previous",
            "color": [
             "#0000FF",
             "#0D00F2",
             "#1900E6",
             "#2600D9",
             "#3200CC",
             "#3F00BF",
             "#4C00B3",
             "#5800A6",
             "#650099",
             "#72008C",
             "#7F0080",
             "#8B0073",
             "#990066",
             "#A60059",
             "#B3004C",
             "#BF0040",
             "#CC0032",
             "#D90026",
             "#E60019",
             "#F2000D",
             "#FF0000",
             "#FF0D00",
             "#FF1900",
             "#FF2600",
             "#FF3200",
             "#FF3F00",
             "#FF4C00",
             "#FF5800",
             "#FF6500",
             "#FF7200",
             "#FF7F00",
             "#FF8B00",
             "#FF9900",
             "#FFA600",
             "#FFB300",
             "#FFBF00",
             "#FFCC00",
             "#FFD900",
             "#FFE600",
             "#FFF200",
             "#FFFF00"
            ],
            "size": 15,
            "symbol": "arrow"
           },
           "mode": "lines+markers",
           "type": "scatter",
           "x": {
            "bdata": "AAAAAAAAAACamZmZmZm5P5qZmZmZmck/NDMzMzMz0z+amZmZmZnZPwAAAAAAAOA/NDMzMzMz4z9nZmZmZmbmP5qZmZmZmek/zczMzMzM7D8AAAAAAADwP5qZmZmZmfE/NDMzMzMz8z/NzMzMzMz0P2dmZmZmZvY/AAAAAAAA+D+amZmZmZn5PzQzMzMzM/s/zczMzMzM/D9nZmZmZmb+PwAAAAAAAABAzczMzMzMAECamZmZmZkBQGdmZmZmZgJANDMzMzMzA0AAAAAAAAAEQM3MzMzMzARAmpmZmZmZBUBnZmZmZmYGQDQzMzMzMwdAAAAAAAAACEDNzMzMzMwIQJqZmZmZmQlAZ2ZmZmZmCkA0MzMzMzMLQAAAAAAAAAxAzczMzMzMDECamZmZmZkNQGdmZmZmZg5ANDMzMzMzD0AAAAAAAAAQQA==",
            "dtype": "f8"
           },
           "y": {
            "bdata": "AAAAAAAAAAB8FK5H4XqEP3wUrkfheqQ/DNejcD0Ktz98FK5H4XrEPwAAAAAAANA/DNejcD0K1z9ej8L1KFzfP3wUrkfheuQ/7FG4HoXr6T8AAAAAAADwP12PwvUoXPM/DNejcD0K9z8L16NwPQr7P16PwvUoXP8/AAAAAAAAAkB8FK5H4XoEQCCF61G4HgdA7FG4HoXrCUDiehSuR+EMQAAAAAAAABBApHA9CtejEUBdj8L1KFwTQCpcj8L1KBVADNejcD0KF0AAAAAAAAAZQAvXo3A9ChtAKlyPwvUoHUBej8L1KFwfQFO4HoXr0SBAAAAAAAAAIkC5HoXrUTgjQHwUrkfheiRASeF6FK7HJUAghetRuB4nQAAAAAAAgChA7FG4HoXrKUDiehSuR2ErQOJ6FK5H4SxA7VG4HoVrLkAAAAAAAAAwQA==",
            "dtype": "f8"
           }
          }
         ]
        },
        {
         "data": [
          {
           "marker": {
            "angleref": "previous",
            "color": [
             "#0000FF",
             "#0D00F2",
             "#1900E6",
             "#2600D9",
             "#3200CC",
             "#3F00BF",
             "#4C00B3",
             "#5800A6",
             "#650099",
             "#72008C",
             "#7F0080",
             "#8B0073",
             "#990066",
             "#A60059",
             "#B3004C",
             "#BF0040",
             "#CC0032",
             "#D90026",
             "#E60019",
             "#F2000D",
             "#FF0000",
             "#FF0D00",
             "#FF1900",
             "#FF2600",
             "#FF3200",
             "#FF3F00",
             "#FF4C00",
             "#FF5800",
             "#FF6500",
             "#FF7200",
             "#FF7F00",
             "#FF8B00",
             "#FF9900",
             "#FFA600",
             "#FFB300",
             "#FFBF00",
             "#FFCC00",
             "#FFD900",
             "#FFE600",
             "#FFF200",
             "#FFFF00"
            ],
            "size": 15,
            "symbol": "arrow"
           },
           "mode": "lines+markers",
           "type": "scatter",
           "x": {
            "bdata": "AAAAAAAAAACamZmZmZm5P5qZmZmZmck/NDMzMzMz0z+amZmZmZnZPwAAAAAAAOA/NDMzMzMz4z9nZmZmZmbmP5qZmZmZmek/zczMzMzM7D8AAAAAAADwP5qZmZmZmfE/NDMzMzMz8z/NzMzMzMz0P2dmZmZmZvY/AAAAAAAA+D+amZmZmZn5PzQzMzMzM/s/zczMzMzM/D9nZmZmZmb+PwAAAAAAAABAzczMzMzMAECamZmZmZkBQGdmZmZmZgJANDMzMzMzA0AAAAAAAAAEQM3MzMzMzARAmpmZmZmZBUBnZmZmZmYGQDQzMzMzMwdAAAAAAAAACEDNzMzMzMwIQJqZmZmZmQlAZ2ZmZmZmCkA0MzMzMzMLQAAAAAAAAAxAzczMzMzMDECamZmZmZkNQGdmZmZmZg5ANDMzMzMzD0AAAAAAAAAQQGdmZmZmZhBA",
            "dtype": "f8"
           },
           "y": {
            "bdata": "AAAAAAAAAAB8FK5H4XqEP3wUrkfheqQ/DNejcD0Ktz98FK5H4XrEPwAAAAAAANA/DNejcD0K1z9ej8L1KFzfP3wUrkfheuQ/7FG4HoXr6T8AAAAAAADwP12PwvUoXPM/DNejcD0K9z8L16NwPQr7P16PwvUoXP8/AAAAAAAAAkB8FK5H4XoEQCCF61G4HgdA7FG4HoXrCUDiehSuR+EMQAAAAAAAABBApHA9CtejEUBdj8L1KFwTQCpcj8L1KBVADNejcD0KF0AAAAAAAAAZQAvXo3A9ChtAKlyPwvUoHUBej8L1KFwfQFO4HoXr0SBAAAAAAAAAIkC5HoXrUTgjQHwUrkfheiRASeF6FK7HJUAghetRuB4nQAAAAAAAgChA7FG4HoXrKUDiehSuR2ErQOJ6FK5H4SxA7VG4HoVrLkAAAAAAAAAwQJHC9ShczzBA",
            "dtype": "f8"
           }
          }
         ]
        },
        {
         "data": [
          {
           "marker": {
            "angleref": "previous",
            "color": [
             "#0000FF",
             "#0D00F2",
             "#1900E6",
             "#2600D9",
             "#3200CC",
             "#3F00BF",
             "#4C00B3",
             "#5800A6",
             "#650099",
             "#72008C",
             "#7F0080",
             "#8B0073",
             "#990066",
             "#A60059",
             "#B3004C",
             "#BF0040",
             "#CC0032",
             "#D90026",
             "#E60019",
             "#F2000D",
             "#FF0000",
             "#FF0D00",
             "#FF1900",
             "#FF2600",
             "#FF3200",
             "#FF3F00",
             "#FF4C00",
             "#FF5800",
             "#FF6500",
             "#FF7200",
             "#FF7F00",
             "#FF8B00",
             "#FF9900",
             "#FFA600",
             "#FFB300",
             "#FFBF00",
             "#FFCC00",
             "#FFD900",
             "#FFE600",
             "#FFF200",
             "#FFFF00"
            ],
            "size": 15,
            "symbol": "arrow"
           },
           "mode": "lines+markers",
           "type": "scatter",
           "x": {
            "bdata": "AAAAAAAAAACamZmZmZm5P5qZmZmZmck/NDMzMzMz0z+amZmZmZnZPwAAAAAAAOA/NDMzMzMz4z9nZmZmZmbmP5qZmZmZmek/zczMzMzM7D8AAAAAAADwP5qZmZmZmfE/NDMzMzMz8z/NzMzMzMz0P2dmZmZmZvY/AAAAAAAA+D+amZmZmZn5PzQzMzMzM/s/zczMzMzM/D9nZmZmZmb+PwAAAAAAAABAzczMzMzMAECamZmZmZkBQGdmZmZmZgJANDMzMzMzA0AAAAAAAAAEQM3MzMzMzARAmpmZmZmZBUBnZmZmZmYGQDQzMzMzMwdAAAAAAAAACEDNzMzMzMwIQJqZmZmZmQlAZ2ZmZmZmCkA0MzMzMzMLQAAAAAAAAAxAzczMzMzMDECamZmZmZkNQGdmZmZmZg5ANDMzMzMzD0AAAAAAAAAQQGdmZmZmZhBAzczMzMzMEEA=",
            "dtype": "f8"
           },
           "y": {
            "bdata": "AAAAAAAAAAB8FK5H4XqEP3wUrkfheqQ/DNejcD0Ktz98FK5H4XrEPwAAAAAAANA/DNejcD0K1z9ej8L1KFzfP3wUrkfheuQ/7FG4HoXr6T8AAAAAAADwP12PwvUoXPM/DNejcD0K9z8L16NwPQr7P16PwvUoXP8/AAAAAAAAAkB8FK5H4XoEQCCF61G4HgdA7FG4HoXrCUDiehSuR+EMQAAAAAAAABBApHA9CtejEUBdj8L1KFwTQCpcj8L1KBVADNejcD0KF0AAAAAAAAAZQAvXo3A9ChtAKlyPwvUoHUBej8L1KFwfQFO4HoXr0SBAAAAAAAAAIkC5HoXrUTgjQHwUrkfheiRASeF6FK7HJUAghetRuB4nQAAAAAAAgChA7FG4HoXrKUDiehSuR2ErQOJ6FK5H4SxA7VG4HoVrLkAAAAAAAAAwQJHC9ShczzBApHA9CtejMUA=",
            "dtype": "f8"
           }
          }
         ]
        },
        {
         "data": [
          {
           "marker": {
            "angleref": "previous",
            "color": [
             "#0000FF",
             "#0D00F2",
             "#1900E6",
             "#2600D9",
             "#3200CC",
             "#3F00BF",
             "#4C00B3",
             "#5800A6",
             "#650099",
             "#72008C",
             "#7F0080",
             "#8B0073",
             "#990066",
             "#A60059",
             "#B3004C",
             "#BF0040",
             "#CC0032",
             "#D90026",
             "#E60019",
             "#F2000D",
             "#FF0000",
             "#FF0D00",
             "#FF1900",
             "#FF2600",
             "#FF3200",
             "#FF3F00",
             "#FF4C00",
             "#FF5800",
             "#FF6500",
             "#FF7200",
             "#FF7F00",
             "#FF8B00",
             "#FF9900",
             "#FFA600",
             "#FFB300",
             "#FFBF00",
             "#FFCC00",
             "#FFD900",
             "#FFE600",
             "#FFF200",
             "#FFFF00"
            ],
            "size": 15,
            "symbol": "arrow"
           },
           "mode": "lines+markers",
           "type": "scatter",
           "x": {
            "bdata": "AAAAAAAAAACamZmZmZm5P5qZmZmZmck/NDMzMzMz0z+amZmZmZnZPwAAAAAAAOA/NDMzMzMz4z9nZmZmZmbmP5qZmZmZmek/zczMzMzM7D8AAAAAAADwP5qZmZmZmfE/NDMzMzMz8z/NzMzMzMz0P2dmZmZmZvY/AAAAAAAA+D+amZmZmZn5PzQzMzMzM/s/zczMzMzM/D9nZmZmZmb+PwAAAAAAAABAzczMzMzMAECamZmZmZkBQGdmZmZmZgJANDMzMzMzA0AAAAAAAAAEQM3MzMzMzARAmpmZmZmZBUBnZmZmZmYGQDQzMzMzMwdAAAAAAAAACEDNzMzMzMwIQJqZmZmZmQlAZ2ZmZmZmCkA0MzMzMzMLQAAAAAAAAAxAzczMzMzMDECamZmZmZkNQGdmZmZmZg5ANDMzMzMzD0AAAAAAAAAQQGdmZmZmZhBAzczMzMzMEEAzMzMzMzMRQA==",
            "dtype": "f8"
           },
           "y": {
            "bdata": "AAAAAAAAAAB8FK5H4XqEP3wUrkfheqQ/DNejcD0Ktz98FK5H4XrEPwAAAAAAANA/DNejcD0K1z9ej8L1KFzfP3wUrkfheuQ/7FG4HoXr6T8AAAAAAADwP12PwvUoXPM/DNejcD0K9z8L16NwPQr7P16PwvUoXP8/AAAAAAAAAkB8FK5H4XoEQCCF61G4HgdA7FG4HoXrCUDiehSuR+EMQAAAAAAAABBApHA9CtejEUBdj8L1KFwTQCpcj8L1KBVADNejcD0KF0AAAAAAAAAZQAvXo3A9ChtAKlyPwvUoHUBej8L1KFwfQFO4HoXr0SBAAAAAAAAAIkC5HoXrUTgjQHwUrkfheiRASeF6FK7HJUAghetRuB4nQAAAAAAAgChA7FG4HoXrKUDiehSuR2ErQOJ6FK5H4SxA7VG4HoVrLkAAAAAAAAAwQJHC9ShczzBApHA9CtejMUA9CtejcH0yQA==",
            "dtype": "f8"
           }
          }
         ]
        },
        {
         "data": [
          {
           "marker": {
            "angleref": "previous",
            "color": [
             "#0000FF",
             "#0D00F2",
             "#1900E6",
             "#2600D9",
             "#3200CC",
             "#3F00BF",
             "#4C00B3",
             "#5800A6",
             "#650099",
             "#72008C",
             "#7F0080",
             "#8B0073",
             "#990066",
             "#A60059",
             "#B3004C",
             "#BF0040",
             "#CC0032",
             "#D90026",
             "#E60019",
             "#F2000D",
             "#FF0000",
             "#FF0D00",
             "#FF1900",
             "#FF2600",
             "#FF3200",
             "#FF3F00",
             "#FF4C00",
             "#FF5800",
             "#FF6500",
             "#FF7200",
             "#FF7F00",
             "#FF8B00",
             "#FF9900",
             "#FFA600",
             "#FFB300",
             "#FFBF00",
             "#FFCC00",
             "#FFD900",
             "#FFE600",
             "#FFF200",
             "#FFFF00"
            ],
            "size": 15,
            "symbol": "arrow"
           },
           "mode": "lines+markers",
           "type": "scatter",
           "x": {
            "bdata": "AAAAAAAAAACamZmZmZm5P5qZmZmZmck/NDMzMzMz0z+amZmZmZnZPwAAAAAAAOA/NDMzMzMz4z9nZmZmZmbmP5qZmZmZmek/zczMzMzM7D8AAAAAAADwP5qZmZmZmfE/NDMzMzMz8z/NzMzMzMz0P2dmZmZmZvY/AAAAAAAA+D+amZmZmZn5PzQzMzMzM/s/zczMzMzM/D9nZmZmZmb+PwAAAAAAAABAzczMzMzMAECamZmZmZkBQGdmZmZmZgJANDMzMzMzA0AAAAAAAAAEQM3MzMzMzARAmpmZmZmZBUBnZmZmZmYGQDQzMzMzMwdAAAAAAAAACEDNzMzMzMwIQJqZmZmZmQlAZ2ZmZmZmCkA0MzMzMzMLQAAAAAAAAAxAzczMzMzMDECamZmZmZkNQGdmZmZmZg5ANDMzMzMzD0AAAAAAAAAQQGdmZmZmZhBAzczMzMzMEEAzMzMzMzMRQJqZmZmZmRFA",
            "dtype": "f8"
           },
           "y": {
            "bdata": "AAAAAAAAAAB8FK5H4XqEP3wUrkfheqQ/DNejcD0Ktz98FK5H4XrEPwAAAAAAANA/DNejcD0K1z9ej8L1KFzfP3wUrkfheuQ/7FG4HoXr6T8AAAAAAADwP12PwvUoXPM/DNejcD0K9z8L16NwPQr7P16PwvUoXP8/AAAAAAAAAkB8FK5H4XoEQCCF61G4HgdA7FG4HoXrCUDiehSuR+EMQAAAAAAAABBApHA9CtejEUBdj8L1KFwTQCpcj8L1KBVADNejcD0KF0AAAAAAAAAZQAvXo3A9ChtAKlyPwvUoHUBej8L1KFwfQFO4HoXr0SBAAAAAAAAAIkC5HoXrUTgjQHwUrkfheiRASeF6FK7HJUAghetRuB4nQAAAAAAAgChA7FG4HoXrKUDiehSuR2ErQOJ6FK5H4SxA7VG4HoVrLkAAAAAAAAAwQJHC9ShczzBApHA9CtejMUA9CtejcH0yQF2PwvUoXDNA",
            "dtype": "f8"
           }
          }
         ]
        },
        {
         "data": [
          {
           "marker": {
            "angleref": "previous",
            "color": [
             "#0000FF",
             "#0D00F2",
             "#1900E6",
             "#2600D9",
             "#3200CC",
             "#3F00BF",
             "#4C00B3",
             "#5800A6",
             "#650099",
             "#72008C",
             "#7F0080",
             "#8B0073",
             "#990066",
             "#A60059",
             "#B3004C",
             "#BF0040",
             "#CC0032",
             "#D90026",
             "#E60019",
             "#F2000D",
             "#FF0000",
             "#FF0D00",
             "#FF1900",
             "#FF2600",
             "#FF3200",
             "#FF3F00",
             "#FF4C00",
             "#FF5800",
             "#FF6500",
             "#FF7200",
             "#FF7F00",
             "#FF8B00",
             "#FF9900",
             "#FFA600",
             "#FFB300",
             "#FFBF00",
             "#FFCC00",
             "#FFD900",
             "#FFE600",
             "#FFF200",
             "#FFFF00"
            ],
            "size": 15,
            "symbol": "arrow"
           },
           "mode": "lines+markers",
           "type": "scatter",
           "x": {
            "bdata": "AAAAAAAAAACamZmZmZm5P5qZmZmZmck/NDMzMzMz0z+amZmZmZnZPwAAAAAAAOA/NDMzMzMz4z9nZmZmZmbmP5qZmZmZmek/zczMzMzM7D8AAAAAAADwP5qZmZmZmfE/NDMzMzMz8z/NzMzMzMz0P2dmZmZmZvY/AAAAAAAA+D+amZmZmZn5PzQzMzMzM/s/zczMzMzM/D9nZmZmZmb+PwAAAAAAAABAzczMzMzMAECamZmZmZkBQGdmZmZmZgJANDMzMzMzA0AAAAAAAAAEQM3MzMzMzARAmpmZmZmZBUBnZmZmZmYGQDQzMzMzMwdAAAAAAAAACEDNzMzMzMwIQJqZmZmZmQlAZ2ZmZmZmCkA0MzMzMzMLQAAAAAAAAAxAzczMzMzMDECamZmZmZkNQGdmZmZmZg5ANDMzMzMzD0AAAAAAAAAQQGdmZmZmZhBAzczMzMzMEEAzMzMzMzMRQJqZmZmZmRFAAAAAAAAAEkA=",
            "dtype": "f8"
           },
           "y": {
            "bdata": "AAAAAAAAAAB8FK5H4XqEP3wUrkfheqQ/DNejcD0Ktz98FK5H4XrEPwAAAAAAANA/DNejcD0K1z9ej8L1KFzfP3wUrkfheuQ/7FG4HoXr6T8AAAAAAADwP12PwvUoXPM/DNejcD0K9z8L16NwPQr7P16PwvUoXP8/AAAAAAAAAkB8FK5H4XoEQCCF61G4HgdA7FG4HoXrCUDiehSuR+EMQAAAAAAAABBApHA9CtejEUBdj8L1KFwTQCpcj8L1KBVADNejcD0KF0AAAAAAAAAZQAvXo3A9ChtAKlyPwvUoHUBej8L1KFwfQFO4HoXr0SBAAAAAAAAAIkC5HoXrUTgjQHwUrkfheiRASeF6FK7HJUAghetRuB4nQAAAAAAAgChA7FG4HoXrKUDiehSuR2ErQOJ6FK5H4SxA7VG4HoVrLkAAAAAAAAAwQJHC9ShczzBApHA9CtejMUA9CtejcH0yQF2PwvUoXDNAAAAAAABANEA=",
            "dtype": "f8"
           }
          }
         ]
        },
        {
         "data": [
          {
           "marker": {
            "angleref": "previous",
            "color": [
             "#0000FF",
             "#0D00F2",
             "#1900E6",
             "#2600D9",
             "#3200CC",
             "#3F00BF",
             "#4C00B3",
             "#5800A6",
             "#650099",
             "#72008C",
             "#7F0080",
             "#8B0073",
             "#990066",
             "#A60059",
             "#B3004C",
             "#BF0040",
             "#CC0032",
             "#D90026",
             "#E60019",
             "#F2000D",
             "#FF0000",
             "#FF0D00",
             "#FF1900",
             "#FF2600",
             "#FF3200",
             "#FF3F00",
             "#FF4C00",
             "#FF5800",
             "#FF6500",
             "#FF7200",
             "#FF7F00",
             "#FF8B00",
             "#FF9900",
             "#FFA600",
             "#FFB300",
             "#FFBF00",
             "#FFCC00",
             "#FFD900",
             "#FFE600",
             "#FFF200",
             "#FFFF00"
            ],
            "size": 15,
            "symbol": "arrow"
           },
           "mode": "lines+markers",
           "type": "scatter",
           "x": {
            "bdata": "AAAAAAAAAACamZmZmZm5P5qZmZmZmck/NDMzMzMz0z+amZmZmZnZPwAAAAAAAOA/NDMzMzMz4z9nZmZmZmbmP5qZmZmZmek/zczMzMzM7D8AAAAAAADwP5qZmZmZmfE/NDMzMzMz8z/NzMzMzMz0P2dmZmZmZvY/AAAAAAAA+D+amZmZmZn5PzQzMzMzM/s/zczMzMzM/D9nZmZmZmb+PwAAAAAAAABAzczMzMzMAECamZmZmZkBQGdmZmZmZgJANDMzMzMzA0AAAAAAAAAEQM3MzMzMzARAmpmZmZmZBUBnZmZmZmYGQDQzMzMzMwdAAAAAAAAACEDNzMzMzMwIQJqZmZmZmQlAZ2ZmZmZmCkA0MzMzMzMLQAAAAAAAAAxAzczMzMzMDECamZmZmZkNQGdmZmZmZg5ANDMzMzMzD0AAAAAAAAAQQGdmZmZmZhBAzczMzMzMEEAzMzMzMzMRQJqZmZmZmRFAAAAAAAAAEkBnZmZmZmYSQA==",
            "dtype": "f8"
           },
           "y": {
            "bdata": "AAAAAAAAAAB8FK5H4XqEP3wUrkfheqQ/DNejcD0Ktz98FK5H4XrEPwAAAAAAANA/DNejcD0K1z9ej8L1KFzfP3wUrkfheuQ/7FG4HoXr6T8AAAAAAADwP12PwvUoXPM/DNejcD0K9z8L16NwPQr7P16PwvUoXP8/AAAAAAAAAkB8FK5H4XoEQCCF61G4HgdA7FG4HoXrCUDiehSuR+EMQAAAAAAAABBApHA9CtejEUBdj8L1KFwTQCpcj8L1KBVADNejcD0KF0AAAAAAAAAZQAvXo3A9ChtAKlyPwvUoHUBej8L1KFwfQFO4HoXr0SBAAAAAAAAAIkC5HoXrUTgjQHwUrkfheiRASeF6FK7HJUAghetRuB4nQAAAAAAAgChA7FG4HoXrKUDiehSuR2ErQOJ6FK5H4SxA7VG4HoVrLkAAAAAAAAAwQJHC9ShczzBApHA9CtejMUA9CtejcH0yQF2PwvUoXDNAAAAAAABANEAqXI/C9Sg1QA==",
            "dtype": "f8"
           }
          }
         ]
        },
        {
         "data": [
          {
           "marker": {
            "angleref": "previous",
            "color": [
             "#0000FF",
             "#0D00F2",
             "#1900E6",
             "#2600D9",
             "#3200CC",
             "#3F00BF",
             "#4C00B3",
             "#5800A6",
             "#650099",
             "#72008C",
             "#7F0080",
             "#8B0073",
             "#990066",
             "#A60059",
             "#B3004C",
             "#BF0040",
             "#CC0032",
             "#D90026",
             "#E60019",
             "#F2000D",
             "#FF0000",
             "#FF0D00",
             "#FF1900",
             "#FF2600",
             "#FF3200",
             "#FF3F00",
             "#FF4C00",
             "#FF5800",
             "#FF6500",
             "#FF7200",
             "#FF7F00",
             "#FF8B00",
             "#FF9900",
             "#FFA600",
             "#FFB300",
             "#FFBF00",
             "#FFCC00",
             "#FFD900",
             "#FFE600",
             "#FFF200",
             "#FFFF00"
            ],
            "size": 15,
            "symbol": "arrow"
           },
           "mode": "lines+markers",
           "type": "scatter",
           "x": {
            "bdata": "AAAAAAAAAACamZmZmZm5P5qZmZmZmck/NDMzMzMz0z+amZmZmZnZPwAAAAAAAOA/NDMzMzMz4z9nZmZmZmbmP5qZmZmZmek/zczMzMzM7D8AAAAAAADwP5qZmZmZmfE/NDMzMzMz8z/NzMzMzMz0P2dmZmZmZvY/AAAAAAAA+D+amZmZmZn5PzQzMzMzM/s/zczMzMzM/D9nZmZmZmb+PwAAAAAAAABAzczMzMzMAECamZmZmZkBQGdmZmZmZgJANDMzMzMzA0AAAAAAAAAEQM3MzMzMzARAmpmZmZmZBUBnZmZmZmYGQDQzMzMzMwdAAAAAAAAACEDNzMzMzMwIQJqZmZmZmQlAZ2ZmZmZmCkA0MzMzMzMLQAAAAAAAAAxAzczMzMzMDECamZmZmZkNQGdmZmZmZg5ANDMzMzMzD0AAAAAAAAAQQGdmZmZmZhBAzczMzMzMEEAzMzMzMzMRQJqZmZmZmRFAAAAAAAAAEkBnZmZmZmYSQM3MzMzMzBJA",
            "dtype": "f8"
           },
           "y": {
            "bdata": "AAAAAAAAAAB8FK5H4XqEP3wUrkfheqQ/DNejcD0Ktz98FK5H4XrEPwAAAAAAANA/DNejcD0K1z9ej8L1KFzfP3wUrkfheuQ/7FG4HoXr6T8AAAAAAADwP12PwvUoXPM/DNejcD0K9z8L16NwPQr7P16PwvUoXP8/AAAAAAAAAkB8FK5H4XoEQCCF61G4HgdA7FG4HoXrCUDiehSuR+EMQAAAAAAAABBApHA9CtejEUBdj8L1KFwTQCpcj8L1KBVADNejcD0KF0AAAAAAAAAZQAvXo3A9ChtAKlyPwvUoHUBej8L1KFwfQFO4HoXr0SBAAAAAAAAAIkC5HoXrUTgjQHwUrkfheiRASeF6FK7HJUAghetRuB4nQAAAAAAAgChA7FG4HoXrKUDiehSuR2ErQOJ6FK5H4SxA7VG4HoVrLkAAAAAAAAAwQJHC9ShczzBApHA9CtejMUA9CtejcH0yQF2PwvUoXDNAAAAAAABANEAqXI/C9Sg1QNijcD0KFzZA",
            "dtype": "f8"
           }
          }
         ]
        },
        {
         "data": [
          {
           "marker": {
            "angleref": "previous",
            "color": [
             "#0000FF",
             "#0D00F2",
             "#1900E6",
             "#2600D9",
             "#3200CC",
             "#3F00BF",
             "#4C00B3",
             "#5800A6",
             "#650099",
             "#72008C",
             "#7F0080",
             "#8B0073",
             "#990066",
             "#A60059",
             "#B3004C",
             "#BF0040",
             "#CC0032",
             "#D90026",
             "#E60019",
             "#F2000D",
             "#FF0000",
             "#FF0D00",
             "#FF1900",
             "#FF2600",
             "#FF3200",
             "#FF3F00",
             "#FF4C00",
             "#FF5800",
             "#FF6500",
             "#FF7200",
             "#FF7F00",
             "#FF8B00",
             "#FF9900",
             "#FFA600",
             "#FFB300",
             "#FFBF00",
             "#FFCC00",
             "#FFD900",
             "#FFE600",
             "#FFF200",
             "#FFFF00"
            ],
            "size": 15,
            "symbol": "arrow"
           },
           "mode": "lines+markers",
           "type": "scatter",
           "x": {
            "bdata": "AAAAAAAAAACamZmZmZm5P5qZmZmZmck/NDMzMzMz0z+amZmZmZnZPwAAAAAAAOA/NDMzMzMz4z9nZmZmZmbmP5qZmZmZmek/zczMzMzM7D8AAAAAAADwP5qZmZmZmfE/NDMzMzMz8z/NzMzMzMz0P2dmZmZmZvY/AAAAAAAA+D+amZmZmZn5PzQzMzMzM/s/zczMzMzM/D9nZmZmZmb+PwAAAAAAAABAzczMzMzMAECamZmZmZkBQGdmZmZmZgJANDMzMzMzA0AAAAAAAAAEQM3MzMzMzARAmpmZmZmZBUBnZmZmZmYGQDQzMzMzMwdAAAAAAAAACEDNzMzMzMwIQJqZmZmZmQlAZ2ZmZmZmCkA0MzMzMzMLQAAAAAAAAAxAzczMzMzMDECamZmZmZkNQGdmZmZmZg5ANDMzMzMzD0AAAAAAAAAQQGdmZmZmZhBAzczMzMzMEEAzMzMzMzMRQJqZmZmZmRFAAAAAAAAAEkBnZmZmZmYSQM3MzMzMzBJANDMzMzMzE0A=",
            "dtype": "f8"
           },
           "y": {
            "bdata": "AAAAAAAAAAB8FK5H4XqEP3wUrkfheqQ/DNejcD0Ktz98FK5H4XrEPwAAAAAAANA/DNejcD0K1z9ej8L1KFzfP3wUrkfheuQ/7FG4HoXr6T8AAAAAAADwP12PwvUoXPM/DNejcD0K9z8L16NwPQr7P16PwvUoXP8/AAAAAAAAAkB8FK5H4XoEQCCF61G4HgdA7FG4HoXrCUDiehSuR+EMQAAAAAAAABBApHA9CtejEUBdj8L1KFwTQCpcj8L1KBVADNejcD0KF0AAAAAAAAAZQAvXo3A9ChtAKlyPwvUoHUBej8L1KFwfQFO4HoXr0SBAAAAAAAAAIkC5HoXrUTgjQHwUrkfheiRASeF6FK7HJUAghetRuB4nQAAAAAAAgChA7FG4HoXrKUDiehSuR2ErQOJ6FK5H4SxA7VG4HoVrLkAAAAAAAAAwQJHC9ShczzBApHA9CtejMUA9CtejcH0yQF2PwvUoXDNAAAAAAABANEAqXI/C9Sg1QNijcD0KFzZADNejcD0KN0A=",
            "dtype": "f8"
           }
          }
         ]
        },
        {
         "data": [
          {
           "marker": {
            "angleref": "previous",
            "color": [
             "#0000FF",
             "#0D00F2",
             "#1900E6",
             "#2600D9",
             "#3200CC",
             "#3F00BF",
             "#4C00B3",
             "#5800A6",
             "#650099",
             "#72008C",
             "#7F0080",
             "#8B0073",
             "#990066",
             "#A60059",
             "#B3004C",
             "#BF0040",
             "#CC0032",
             "#D90026",
             "#E60019",
             "#F2000D",
             "#FF0000",
             "#FF0D00",
             "#FF1900",
             "#FF2600",
             "#FF3200",
             "#FF3F00",
             "#FF4C00",
             "#FF5800",
             "#FF6500",
             "#FF7200",
             "#FF7F00",
             "#FF8B00",
             "#FF9900",
             "#FFA600",
             "#FFB300",
             "#FFBF00",
             "#FFCC00",
             "#FFD900",
             "#FFE600",
             "#FFF200",
             "#FFFF00"
            ],
            "size": 15,
            "symbol": "arrow"
           },
           "mode": "lines+markers",
           "type": "scatter",
           "x": {
            "bdata": "AAAAAAAAAACamZmZmZm5P5qZmZmZmck/NDMzMzMz0z+amZmZmZnZPwAAAAAAAOA/NDMzMzMz4z9nZmZmZmbmP5qZmZmZmek/zczMzMzM7D8AAAAAAADwP5qZmZmZmfE/NDMzMzMz8z/NzMzMzMz0P2dmZmZmZvY/AAAAAAAA+D+amZmZmZn5PzQzMzMzM/s/zczMzMzM/D9nZmZmZmb+PwAAAAAAAABAzczMzMzMAECamZmZmZkBQGdmZmZmZgJANDMzMzMzA0AAAAAAAAAEQM3MzMzMzARAmpmZmZmZBUBnZmZmZmYGQDQzMzMzMwdAAAAAAAAACEDNzMzMzMwIQJqZmZmZmQlAZ2ZmZmZmCkA0MzMzMzMLQAAAAAAAAAxAzczMzMzMDECamZmZmZkNQGdmZmZmZg5ANDMzMzMzD0AAAAAAAAAQQGdmZmZmZhBAzczMzMzMEEAzMzMzMzMRQJqZmZmZmRFAAAAAAAAAEkBnZmZmZmYSQM3MzMzMzBJANDMzMzMzE0CamZmZmZkTQA==",
            "dtype": "f8"
           },
           "y": {
            "bdata": "AAAAAAAAAAB8FK5H4XqEP3wUrkfheqQ/DNejcD0Ktz98FK5H4XrEPwAAAAAAANA/DNejcD0K1z9ej8L1KFzfP3wUrkfheuQ/7FG4HoXr6T8AAAAAAADwP12PwvUoXPM/DNejcD0K9z8L16NwPQr7P16PwvUoXP8/AAAAAAAAAkB8FK5H4XoEQCCF61G4HgdA7FG4HoXrCUDiehSuR+EMQAAAAAAAABBApHA9CtejEUBdj8L1KFwTQCpcj8L1KBVADNejcD0KF0AAAAAAAAAZQAvXo3A9ChtAKlyPwvUoHUBej8L1KFwfQFO4HoXr0SBAAAAAAAAAIkC5HoXrUTgjQHwUrkfheiRASeF6FK7HJUAghetRuB4nQAAAAAAAgChA7FG4HoXrKUDiehSuR2ErQOJ6FK5H4SxA7VG4HoVrLkAAAAAAAAAwQJHC9ShczzBApHA9CtejMUA9CtejcH0yQF2PwvUoXDNAAAAAAABANEAqXI/C9Sg1QNijcD0KFzZADNejcD0KN0DE9ShcjwI4QA==",
            "dtype": "f8"
           }
          }
         ]
        }
       ],
       "layout": {
        "template": {
         "data": {
          "bar": [
           {
            "error_x": {
             "color": "#2a3f5f"
            },
            "error_y": {
             "color": "#2a3f5f"
            },
            "marker": {
             "line": {
              "color": "#E5ECF6",
              "width": 0.5
             },
             "pattern": {
              "fillmode": "overlay",
              "size": 10,
              "solidity": 0.2
             }
            },
            "type": "bar"
           }
          ],
          "barpolar": [
           {
            "marker": {
             "line": {
              "color": "#E5ECF6",
              "width": 0.5
             },
             "pattern": {
              "fillmode": "overlay",
              "size": 10,
              "solidity": 0.2
             }
            },
            "type": "barpolar"
           }
          ],
          "carpet": [
           {
            "aaxis": {
             "endlinecolor": "#2a3f5f",
             "gridcolor": "white",
             "linecolor": "white",
             "minorgridcolor": "white",
             "startlinecolor": "#2a3f5f"
            },
            "baxis": {
             "endlinecolor": "#2a3f5f",
             "gridcolor": "white",
             "linecolor": "white",
             "minorgridcolor": "white",
             "startlinecolor": "#2a3f5f"
            },
            "type": "carpet"
           }
          ],
          "choropleth": [
           {
            "colorbar": {
             "outlinewidth": 0,
             "ticks": ""
            },
            "type": "choropleth"
           }
          ],
          "contour": [
           {
            "colorbar": {
             "outlinewidth": 0,
             "ticks": ""
            },
            "colorscale": [
             [
              0,
              "#0d0887"
             ],
             [
              0.1111111111111111,
              "#46039f"
             ],
             [
              0.2222222222222222,
              "#7201a8"
             ],
             [
              0.3333333333333333,
              "#9c179e"
             ],
             [
              0.4444444444444444,
              "#bd3786"
             ],
             [
              0.5555555555555556,
              "#d8576b"
             ],
             [
              0.6666666666666666,
              "#ed7953"
             ],
             [
              0.7777777777777778,
              "#fb9f3a"
             ],
             [
              0.8888888888888888,
              "#fdca26"
             ],
             [
              1,
              "#f0f921"
             ]
            ],
            "type": "contour"
           }
          ],
          "contourcarpet": [
           {
            "colorbar": {
             "outlinewidth": 0,
             "ticks": ""
            },
            "type": "contourcarpet"
           }
          ],
          "heatmap": [
           {
            "colorbar": {
             "outlinewidth": 0,
             "ticks": ""
            },
            "colorscale": [
             [
              0,
              "#0d0887"
             ],
             [
              0.1111111111111111,
              "#46039f"
             ],
             [
              0.2222222222222222,
              "#7201a8"
             ],
             [
              0.3333333333333333,
              "#9c179e"
             ],
             [
              0.4444444444444444,
              "#bd3786"
             ],
             [
              0.5555555555555556,
              "#d8576b"
             ],
             [
              0.6666666666666666,
              "#ed7953"
             ],
             [
              0.7777777777777778,
              "#fb9f3a"
             ],
             [
              0.8888888888888888,
              "#fdca26"
             ],
             [
              1,
              "#f0f921"
             ]
            ],
            "type": "heatmap"
           }
          ],
          "histogram": [
           {
            "marker": {
             "pattern": {
              "fillmode": "overlay",
              "size": 10,
              "solidity": 0.2
             }
            },
            "type": "histogram"
           }
          ],
          "histogram2d": [
           {
            "colorbar": {
             "outlinewidth": 0,
             "ticks": ""
            },
            "colorscale": [
             [
              0,
              "#0d0887"
             ],
             [
              0.1111111111111111,
              "#46039f"
             ],
             [
              0.2222222222222222,
              "#7201a8"
             ],
             [
              0.3333333333333333,
              "#9c179e"
             ],
             [
              0.4444444444444444,
              "#bd3786"
             ],
             [
              0.5555555555555556,
              "#d8576b"
             ],
             [
              0.6666666666666666,
              "#ed7953"
             ],
             [
              0.7777777777777778,
              "#fb9f3a"
             ],
             [
              0.8888888888888888,
              "#fdca26"
             ],
             [
              1,
              "#f0f921"
             ]
            ],
            "type": "histogram2d"
           }
          ],
          "histogram2dcontour": [
           {
            "colorbar": {
             "outlinewidth": 0,
             "ticks": ""
            },
            "colorscale": [
             [
              0,
              "#0d0887"
             ],
             [
              0.1111111111111111,
              "#46039f"
             ],
             [
              0.2222222222222222,
              "#7201a8"
             ],
             [
              0.3333333333333333,
              "#9c179e"
             ],
             [
              0.4444444444444444,
              "#bd3786"
             ],
             [
              0.5555555555555556,
              "#d8576b"
             ],
             [
              0.6666666666666666,
              "#ed7953"
             ],
             [
              0.7777777777777778,
              "#fb9f3a"
             ],
             [
              0.8888888888888888,
              "#fdca26"
             ],
             [
              1,
              "#f0f921"
             ]
            ],
            "type": "histogram2dcontour"
           }
          ],
          "mesh3d": [
           {
            "colorbar": {
             "outlinewidth": 0,
             "ticks": ""
            },
            "type": "mesh3d"
           }
          ],
          "parcoords": [
           {
            "line": {
             "colorbar": {
              "outlinewidth": 0,
              "ticks": ""
             }
            },
            "type": "parcoords"
           }
          ],
          "pie": [
           {
            "automargin": true,
            "type": "pie"
           }
          ],
          "scatter": [
           {
            "fillpattern": {
             "fillmode": "overlay",
             "size": 10,
             "solidity": 0.2
            },
            "type": "scatter"
           }
          ],
          "scatter3d": [
           {
            "line": {
             "colorbar": {
              "outlinewidth": 0,
              "ticks": ""
             }
            },
            "marker": {
             "colorbar": {
              "outlinewidth": 0,
              "ticks": ""
             }
            },
            "type": "scatter3d"
           }
          ],
          "scattercarpet": [
           {
            "marker": {
             "colorbar": {
              "outlinewidth": 0,
              "ticks": ""
             }
            },
            "type": "scattercarpet"
           }
          ],
          "scattergeo": [
           {
            "marker": {
             "colorbar": {
              "outlinewidth": 0,
              "ticks": ""
             }
            },
            "type": "scattergeo"
           }
          ],
          "scattergl": [
           {
            "marker": {
             "colorbar": {
              "outlinewidth": 0,
              "ticks": ""
             }
            },
            "type": "scattergl"
           }
          ],
          "scattermap": [
           {
            "marker": {
             "colorbar": {
              "outlinewidth": 0,
              "ticks": ""
             }
            },
            "type": "scattermap"
           }
          ],
          "scattermapbox": [
           {
            "marker": {
             "colorbar": {
              "outlinewidth": 0,
              "ticks": ""
             }
            },
            "type": "scattermapbox"
           }
          ],
          "scatterpolar": [
           {
            "marker": {
             "colorbar": {
              "outlinewidth": 0,
              "ticks": ""
             }
            },
            "type": "scatterpolar"
           }
          ],
          "scatterpolargl": [
           {
            "marker": {
             "colorbar": {
              "outlinewidth": 0,
              "ticks": ""
             }
            },
            "type": "scatterpolargl"
           }
          ],
          "scatterternary": [
           {
            "marker": {
             "colorbar": {
              "outlinewidth": 0,
              "ticks": ""
             }
            },
            "type": "scatterternary"
           }
          ],
          "surface": [
           {
            "colorbar": {
             "outlinewidth": 0,
             "ticks": ""
            },
            "colorscale": [
             [
              0,
              "#0d0887"
             ],
             [
              0.1111111111111111,
              "#46039f"
             ],
             [
              0.2222222222222222,
              "#7201a8"
             ],
             [
              0.3333333333333333,
              "#9c179e"
             ],
             [
              0.4444444444444444,
              "#bd3786"
             ],
             [
              0.5555555555555556,
              "#d8576b"
             ],
             [
              0.6666666666666666,
              "#ed7953"
             ],
             [
              0.7777777777777778,
              "#fb9f3a"
             ],
             [
              0.8888888888888888,
              "#fdca26"
             ],
             [
              1,
              "#f0f921"
             ]
            ],
            "type": "surface"
           }
          ],
          "table": [
           {
            "cells": {
             "fill": {
              "color": "#EBF0F8"
             },
             "line": {
              "color": "white"
             }
            },
            "header": {
             "fill": {
              "color": "#C8D4E3"
             },
             "line": {
              "color": "white"
             }
            },
            "type": "table"
           }
          ]
         },
         "layout": {
          "annotationdefaults": {
           "arrowcolor": "#2a3f5f",
           "arrowhead": 0,
           "arrowwidth": 1
          },
          "autotypenumbers": "strict",
          "coloraxis": {
           "colorbar": {
            "outlinewidth": 0,
            "ticks": ""
           }
          },
          "colorscale": {
           "diverging": [
            [
             0,
             "#8e0152"
            ],
            [
             0.1,
             "#c51b7d"
            ],
            [
             0.2,
             "#de77ae"
            ],
            [
             0.3,
             "#f1b6da"
            ],
            [
             0.4,
             "#fde0ef"
            ],
            [
             0.5,
             "#f7f7f7"
            ],
            [
             0.6,
             "#e6f5d0"
            ],
            [
             0.7,
             "#b8e186"
            ],
            [
             0.8,
             "#7fbc41"
            ],
            [
             0.9,
             "#4d9221"
            ],
            [
             1,
             "#276419"
            ]
           ],
           "sequential": [
            [
             0,
             "#0d0887"
            ],
            [
             0.1111111111111111,
             "#46039f"
            ],
            [
             0.2222222222222222,
             "#7201a8"
            ],
            [
             0.3333333333333333,
             "#9c179e"
            ],
            [
             0.4444444444444444,
             "#bd3786"
            ],
            [
             0.5555555555555556,
             "#d8576b"
            ],
            [
             0.6666666666666666,
             "#ed7953"
            ],
            [
             0.7777777777777778,
             "#fb9f3a"
            ],
            [
             0.8888888888888888,
             "#fdca26"
            ],
            [
             1,
             "#f0f921"
            ]
           ],
           "sequentialminus": [
            [
             0,
             "#0d0887"
            ],
            [
             0.1111111111111111,
             "#46039f"
            ],
            [
             0.2222222222222222,
             "#7201a8"
            ],
            [
             0.3333333333333333,
             "#9c179e"
            ],
            [
             0.4444444444444444,
             "#bd3786"
            ],
            [
             0.5555555555555556,
             "#d8576b"
            ],
            [
             0.6666666666666666,
             "#ed7953"
            ],
            [
             0.7777777777777778,
             "#fb9f3a"
            ],
            [
             0.8888888888888888,
             "#fdca26"
            ],
            [
             1,
             "#f0f921"
            ]
           ]
          },
          "colorway": [
           "#636efa",
           "#EF553B",
           "#00cc96",
           "#ab63fa",
           "#FFA15A",
           "#19d3f3",
           "#FF6692",
           "#B6E880",
           "#FF97FF",
           "#FECB52"
          ],
          "font": {
           "color": "#2a3f5f"
          },
          "geo": {
           "bgcolor": "white",
           "lakecolor": "white",
           "landcolor": "#E5ECF6",
           "showlakes": true,
           "showland": true,
           "subunitcolor": "white"
          },
          "hoverlabel": {
           "align": "left"
          },
          "hovermode": "closest",
          "mapbox": {
           "style": "light"
          },
          "paper_bgcolor": "white",
          "plot_bgcolor": "#E5ECF6",
          "polar": {
           "angularaxis": {
            "gridcolor": "white",
            "linecolor": "white",
            "ticks": ""
           },
           "bgcolor": "#E5ECF6",
           "radialaxis": {
            "gridcolor": "white",
            "linecolor": "white",
            "ticks": ""
           }
          },
          "scene": {
           "xaxis": {
            "backgroundcolor": "#E5ECF6",
            "gridcolor": "white",
            "gridwidth": 2,
            "linecolor": "white",
            "showbackground": true,
            "ticks": "",
            "zerolinecolor": "white"
           },
           "yaxis": {
            "backgroundcolor": "#E5ECF6",
            "gridcolor": "white",
            "gridwidth": 2,
            "linecolor": "white",
            "showbackground": true,
            "ticks": "",
            "zerolinecolor": "white"
           },
           "zaxis": {
            "backgroundcolor": "#E5ECF6",
            "gridcolor": "white",
            "gridwidth": 2,
            "linecolor": "white",
            "showbackground": true,
            "ticks": "",
            "zerolinecolor": "white"
           }
          },
          "shapedefaults": {
           "line": {
            "color": "#2a3f5f"
           }
          },
          "ternary": {
           "aaxis": {
            "gridcolor": "white",
            "linecolor": "white",
            "ticks": ""
           },
           "baxis": {
            "gridcolor": "white",
            "linecolor": "white",
            "ticks": ""
           },
           "bgcolor": "#E5ECF6",
           "caxis": {
            "gridcolor": "white",
            "linecolor": "white",
            "ticks": ""
           }
          },
          "title": {
           "x": 0.05
          },
          "xaxis": {
           "automargin": true,
           "gridcolor": "white",
           "linecolor": "white",
           "ticks": "",
           "title": {
            "standoff": 15
           },
           "zerolinecolor": "white",
           "zerolinewidth": 2
          },
          "yaxis": {
           "automargin": true,
           "gridcolor": "white",
           "linecolor": "white",
           "ticks": "",
           "title": {
            "standoff": 15
           },
           "zerolinecolor": "white",
           "zerolinewidth": 2
          }
         }
        },
        "updatemenus": [
         {
          "buttons": [
           {
            "args": [
             null,
             {
              "fromcurrent": true
             }
            ],
            "label": "▶",
            "method": "animate"
           },
           {
            "args": [
             [
              null
             ],
             {
              "frame": {
               "duration": 0,
               "redraw": false
              },
              "mode": "immediate",
              "transition": {
               "duration": 0
              }
             }
            ],
            "label": "❚❚",
            "method": "animate"
           }
          ],
          "type": "buttons"
         }
        ]
       }
      }
     },
     "metadata": {},
     "output_type": "display_data"
    }
   ],
   "source": [
    "fig=go.Figure()\n",
    "\n",
    "fig.add_trace(go.Scatter(x=[x[0]], y=[f(x)[0]],mode=\"lines+markers\") )\n",
    "\n",
    "colors = (\n",
    "    '#0000FF',  # blue\n",
    "    '#0D00F2',\n",
    "    '#1900E6',\n",
    "    '#2600D9',\n",
    "    '#3200CC',\n",
    "    '#3F00BF',\n",
    "    '#4C00B3',\n",
    "    '#5800A6',\n",
    "    '#650099',\n",
    "    '#72008C',\n",
    "    '#7F0080',\n",
    "    '#8B0073',\n",
    "    '#990066',\n",
    "    '#A60059',\n",
    "    '#B3004C',\n",
    "    '#BF0040',\n",
    "    '#CC0032',\n",
    "    '#D90026',\n",
    "    '#E60019',\n",
    "    '#F2000D',\n",
    "    '#FF0000',  # red\n",
    "    '#FF0D00',\n",
    "    '#FF1900',\n",
    "    '#FF2600',\n",
    "    '#FF3200',\n",
    "    '#FF3F00',\n",
    "    '#FF4C00',\n",
    "    '#FF5800',\n",
    "    '#FF6500',\n",
    "    '#FF7200',\n",
    "    '#FF7F00',  # orange\n",
    "    '#FF8B00',\n",
    "    '#FF9900',\n",
    "    '#FFA600',\n",
    "    '#FFB300',\n",
    "    '#FFBF00',\n",
    "    '#FFCC00',\n",
    "    '#FFD900',\n",
    "    '#FFE600',\n",
    "    '#FFF200',\n",
    "    '#FFFF00'   # yellow\n",
    ")\n",
    "   \n",
    "frames =[]\n",
    "for i in range(len(x)):\n",
    "    frame = go.Frame(data=[go.Scatter(x=x[:i+1], y=f(x)[:i+1], mode=\"lines+markers\",\n",
    "            marker=dict(\n",
    "                symbol=\"arrow\",\n",
    "                size=15,\n",
    "                angleref=\"previous\",\n",
    "                color=colors,\n",
    "            ),)])\n",
    "    frames.append(frame)\n",
    "\n",
    "fig.frames = frames\n",
    "fig.update_layout(updatemenus=[dict(type=\"buttons\", buttons=[dict(label=\"▶\", method=\"animate\", args=[None, {\"fromcurrent\": True}]),\n",
    "                                                             dict(label=\"❚❚\", method=\"animate\", args=[[None], {\"frame\": {\"duration\": 0, \"redraw\": False},\"mode\": \"immediate\",\n",
    "                                                 \"transition\": {\"duration\": 0}}])])])\n",
    "fig.show()"
   ]
  },
  {
   "cell_type": "code",
   "execution_count": 22,
   "metadata": {},
   "outputs": [
    {
     "data": {
      "application/vnd.plotly.v1+json": {
       "config": {
        "plotlyServerURL": "https://plot.ly"
       },
       "data": [
        {
         "mode": "lines+markers",
         "name": "f(x)=x<sup>2</sup>",
         "type": "scatter",
         "x": [
          0
         ],
         "y": [
          0
         ]
        }
       ],
       "frames": [
        {
         "data": [
          {
           "mode": "lines+markers",
           "type": "scatter",
           "x": {
            "bdata": "AAAAAAAAAAA=",
            "dtype": "f8"
           },
           "y": {
            "bdata": "AAAAAAAAAAA=",
            "dtype": "f8"
           }
          }
         ]
        },
        {
         "data": [
          {
           "mode": "lines+markers",
           "type": "scatter",
           "x": {
            "bdata": "AAAAAAAAAACamZmZmZm5Pw==",
            "dtype": "f8"
           },
           "y": {
            "bdata": "AAAAAAAAAAB8FK5H4XqEPw==",
            "dtype": "f8"
           }
          }
         ]
        },
        {
         "data": [
          {
           "mode": "lines+markers",
           "type": "scatter",
           "x": {
            "bdata": "AAAAAAAAAACamZmZmZm5P5qZmZmZmck/",
            "dtype": "f8"
           },
           "y": {
            "bdata": "AAAAAAAAAAB8FK5H4XqEP3wUrkfheqQ/",
            "dtype": "f8"
           }
          }
         ]
        },
        {
         "data": [
          {
           "mode": "lines+markers",
           "type": "scatter",
           "x": {
            "bdata": "AAAAAAAAAACamZmZmZm5P5qZmZmZmck/NDMzMzMz0z8=",
            "dtype": "f8"
           },
           "y": {
            "bdata": "AAAAAAAAAAB8FK5H4XqEP3wUrkfheqQ/DNejcD0Ktz8=",
            "dtype": "f8"
           }
          }
         ]
        },
        {
         "data": [
          {
           "mode": "lines+markers",
           "type": "scatter",
           "x": {
            "bdata": "AAAAAAAAAACamZmZmZm5P5qZmZmZmck/NDMzMzMz0z+amZmZmZnZPw==",
            "dtype": "f8"
           },
           "y": {
            "bdata": "AAAAAAAAAAB8FK5H4XqEP3wUrkfheqQ/DNejcD0Ktz98FK5H4XrEPw==",
            "dtype": "f8"
           }
          }
         ]
        },
        {
         "data": [
          {
           "mode": "lines+markers",
           "type": "scatter",
           "x": {
            "bdata": "AAAAAAAAAACamZmZmZm5P5qZmZmZmck/NDMzMzMz0z+amZmZmZnZPwAAAAAAAOA/",
            "dtype": "f8"
           },
           "y": {
            "bdata": "AAAAAAAAAAB8FK5H4XqEP3wUrkfheqQ/DNejcD0Ktz98FK5H4XrEPwAAAAAAANA/",
            "dtype": "f8"
           }
          }
         ]
        },
        {
         "data": [
          {
           "mode": "lines+markers",
           "type": "scatter",
           "x": {
            "bdata": "AAAAAAAAAACamZmZmZm5P5qZmZmZmck/NDMzMzMz0z+amZmZmZnZPwAAAAAAAOA/NDMzMzMz4z8=",
            "dtype": "f8"
           },
           "y": {
            "bdata": "AAAAAAAAAAB8FK5H4XqEP3wUrkfheqQ/DNejcD0Ktz98FK5H4XrEPwAAAAAAANA/DNejcD0K1z8=",
            "dtype": "f8"
           }
          }
         ]
        },
        {
         "data": [
          {
           "mode": "lines+markers",
           "type": "scatter",
           "x": {
            "bdata": "AAAAAAAAAACamZmZmZm5P5qZmZmZmck/NDMzMzMz0z+amZmZmZnZPwAAAAAAAOA/NDMzMzMz4z9nZmZmZmbmPw==",
            "dtype": "f8"
           },
           "y": {
            "bdata": "AAAAAAAAAAB8FK5H4XqEP3wUrkfheqQ/DNejcD0Ktz98FK5H4XrEPwAAAAAAANA/DNejcD0K1z9ej8L1KFzfPw==",
            "dtype": "f8"
           }
          }
         ]
        },
        {
         "data": [
          {
           "mode": "lines+markers",
           "type": "scatter",
           "x": {
            "bdata": "AAAAAAAAAACamZmZmZm5P5qZmZmZmck/NDMzMzMz0z+amZmZmZnZPwAAAAAAAOA/NDMzMzMz4z9nZmZmZmbmP5qZmZmZmek/",
            "dtype": "f8"
           },
           "y": {
            "bdata": "AAAAAAAAAAB8FK5H4XqEP3wUrkfheqQ/DNejcD0Ktz98FK5H4XrEPwAAAAAAANA/DNejcD0K1z9ej8L1KFzfP3wUrkfheuQ/",
            "dtype": "f8"
           }
          }
         ]
        },
        {
         "data": [
          {
           "mode": "lines+markers",
           "type": "scatter",
           "x": {
            "bdata": "AAAAAAAAAACamZmZmZm5P5qZmZmZmck/NDMzMzMz0z+amZmZmZnZPwAAAAAAAOA/NDMzMzMz4z9nZmZmZmbmP5qZmZmZmek/zczMzMzM7D8=",
            "dtype": "f8"
           },
           "y": {
            "bdata": "AAAAAAAAAAB8FK5H4XqEP3wUrkfheqQ/DNejcD0Ktz98FK5H4XrEPwAAAAAAANA/DNejcD0K1z9ej8L1KFzfP3wUrkfheuQ/7FG4HoXr6T8=",
            "dtype": "f8"
           }
          }
         ]
        },
        {
         "data": [
          {
           "mode": "lines+markers",
           "type": "scatter",
           "x": {
            "bdata": "AAAAAAAAAACamZmZmZm5P5qZmZmZmck/NDMzMzMz0z+amZmZmZnZPwAAAAAAAOA/NDMzMzMz4z9nZmZmZmbmP5qZmZmZmek/zczMzMzM7D8AAAAAAADwPw==",
            "dtype": "f8"
           },
           "y": {
            "bdata": "AAAAAAAAAAB8FK5H4XqEP3wUrkfheqQ/DNejcD0Ktz98FK5H4XrEPwAAAAAAANA/DNejcD0K1z9ej8L1KFzfP3wUrkfheuQ/7FG4HoXr6T8AAAAAAADwPw==",
            "dtype": "f8"
           }
          }
         ]
        },
        {
         "data": [
          {
           "mode": "lines+markers",
           "type": "scatter",
           "x": {
            "bdata": "AAAAAAAAAACamZmZmZm5P5qZmZmZmck/NDMzMzMz0z+amZmZmZnZPwAAAAAAAOA/NDMzMzMz4z9nZmZmZmbmP5qZmZmZmek/zczMzMzM7D8AAAAAAADwP5qZmZmZmfE/",
            "dtype": "f8"
           },
           "y": {
            "bdata": "AAAAAAAAAAB8FK5H4XqEP3wUrkfheqQ/DNejcD0Ktz98FK5H4XrEPwAAAAAAANA/DNejcD0K1z9ej8L1KFzfP3wUrkfheuQ/7FG4HoXr6T8AAAAAAADwP12PwvUoXPM/",
            "dtype": "f8"
           }
          }
         ]
        },
        {
         "data": [
          {
           "mode": "lines+markers",
           "type": "scatter",
           "x": {
            "bdata": "AAAAAAAAAACamZmZmZm5P5qZmZmZmck/NDMzMzMz0z+amZmZmZnZPwAAAAAAAOA/NDMzMzMz4z9nZmZmZmbmP5qZmZmZmek/zczMzMzM7D8AAAAAAADwP5qZmZmZmfE/NDMzMzMz8z8=",
            "dtype": "f8"
           },
           "y": {
            "bdata": "AAAAAAAAAAB8FK5H4XqEP3wUrkfheqQ/DNejcD0Ktz98FK5H4XrEPwAAAAAAANA/DNejcD0K1z9ej8L1KFzfP3wUrkfheuQ/7FG4HoXr6T8AAAAAAADwP12PwvUoXPM/DNejcD0K9z8=",
            "dtype": "f8"
           }
          }
         ]
        },
        {
         "data": [
          {
           "mode": "lines+markers",
           "type": "scatter",
           "x": {
            "bdata": "AAAAAAAAAACamZmZmZm5P5qZmZmZmck/NDMzMzMz0z+amZmZmZnZPwAAAAAAAOA/NDMzMzMz4z9nZmZmZmbmP5qZmZmZmek/zczMzMzM7D8AAAAAAADwP5qZmZmZmfE/NDMzMzMz8z/NzMzMzMz0Pw==",
            "dtype": "f8"
           },
           "y": {
            "bdata": "AAAAAAAAAAB8FK5H4XqEP3wUrkfheqQ/DNejcD0Ktz98FK5H4XrEPwAAAAAAANA/DNejcD0K1z9ej8L1KFzfP3wUrkfheuQ/7FG4HoXr6T8AAAAAAADwP12PwvUoXPM/DNejcD0K9z8L16NwPQr7Pw==",
            "dtype": "f8"
           }
          }
         ]
        },
        {
         "data": [
          {
           "mode": "lines+markers",
           "type": "scatter",
           "x": {
            "bdata": "AAAAAAAAAACamZmZmZm5P5qZmZmZmck/NDMzMzMz0z+amZmZmZnZPwAAAAAAAOA/NDMzMzMz4z9nZmZmZmbmP5qZmZmZmek/zczMzMzM7D8AAAAAAADwP5qZmZmZmfE/NDMzMzMz8z/NzMzMzMz0P2dmZmZmZvY/",
            "dtype": "f8"
           },
           "y": {
            "bdata": "AAAAAAAAAAB8FK5H4XqEP3wUrkfheqQ/DNejcD0Ktz98FK5H4XrEPwAAAAAAANA/DNejcD0K1z9ej8L1KFzfP3wUrkfheuQ/7FG4HoXr6T8AAAAAAADwP12PwvUoXPM/DNejcD0K9z8L16NwPQr7P16PwvUoXP8/",
            "dtype": "f8"
           }
          }
         ]
        },
        {
         "data": [
          {
           "mode": "lines+markers",
           "type": "scatter",
           "x": {
            "bdata": "AAAAAAAAAACamZmZmZm5P5qZmZmZmck/NDMzMzMz0z+amZmZmZnZPwAAAAAAAOA/NDMzMzMz4z9nZmZmZmbmP5qZmZmZmek/zczMzMzM7D8AAAAAAADwP5qZmZmZmfE/NDMzMzMz8z/NzMzMzMz0P2dmZmZmZvY/AAAAAAAA+D8=",
            "dtype": "f8"
           },
           "y": {
            "bdata": "AAAAAAAAAAB8FK5H4XqEP3wUrkfheqQ/DNejcD0Ktz98FK5H4XrEPwAAAAAAANA/DNejcD0K1z9ej8L1KFzfP3wUrkfheuQ/7FG4HoXr6T8AAAAAAADwP12PwvUoXPM/DNejcD0K9z8L16NwPQr7P16PwvUoXP8/AAAAAAAAAkA=",
            "dtype": "f8"
           }
          }
         ]
        },
        {
         "data": [
          {
           "mode": "lines+markers",
           "type": "scatter",
           "x": {
            "bdata": "AAAAAAAAAACamZmZmZm5P5qZmZmZmck/NDMzMzMz0z+amZmZmZnZPwAAAAAAAOA/NDMzMzMz4z9nZmZmZmbmP5qZmZmZmek/zczMzMzM7D8AAAAAAADwP5qZmZmZmfE/NDMzMzMz8z/NzMzMzMz0P2dmZmZmZvY/AAAAAAAA+D+amZmZmZn5Pw==",
            "dtype": "f8"
           },
           "y": {
            "bdata": "AAAAAAAAAAB8FK5H4XqEP3wUrkfheqQ/DNejcD0Ktz98FK5H4XrEPwAAAAAAANA/DNejcD0K1z9ej8L1KFzfP3wUrkfheuQ/7FG4HoXr6T8AAAAAAADwP12PwvUoXPM/DNejcD0K9z8L16NwPQr7P16PwvUoXP8/AAAAAAAAAkB8FK5H4XoEQA==",
            "dtype": "f8"
           }
          }
         ]
        },
        {
         "data": [
          {
           "mode": "lines+markers",
           "type": "scatter",
           "x": {
            "bdata": "AAAAAAAAAACamZmZmZm5P5qZmZmZmck/NDMzMzMz0z+amZmZmZnZPwAAAAAAAOA/NDMzMzMz4z9nZmZmZmbmP5qZmZmZmek/zczMzMzM7D8AAAAAAADwP5qZmZmZmfE/NDMzMzMz8z/NzMzMzMz0P2dmZmZmZvY/AAAAAAAA+D+amZmZmZn5PzQzMzMzM/s/",
            "dtype": "f8"
           },
           "y": {
            "bdata": "AAAAAAAAAAB8FK5H4XqEP3wUrkfheqQ/DNejcD0Ktz98FK5H4XrEPwAAAAAAANA/DNejcD0K1z9ej8L1KFzfP3wUrkfheuQ/7FG4HoXr6T8AAAAAAADwP12PwvUoXPM/DNejcD0K9z8L16NwPQr7P16PwvUoXP8/AAAAAAAAAkB8FK5H4XoEQCCF61G4HgdA",
            "dtype": "f8"
           }
          }
         ]
        },
        {
         "data": [
          {
           "mode": "lines+markers",
           "type": "scatter",
           "x": {
            "bdata": "AAAAAAAAAACamZmZmZm5P5qZmZmZmck/NDMzMzMz0z+amZmZmZnZPwAAAAAAAOA/NDMzMzMz4z9nZmZmZmbmP5qZmZmZmek/zczMzMzM7D8AAAAAAADwP5qZmZmZmfE/NDMzMzMz8z/NzMzMzMz0P2dmZmZmZvY/AAAAAAAA+D+amZmZmZn5PzQzMzMzM/s/zczMzMzM/D8=",
            "dtype": "f8"
           },
           "y": {
            "bdata": "AAAAAAAAAAB8FK5H4XqEP3wUrkfheqQ/DNejcD0Ktz98FK5H4XrEPwAAAAAAANA/DNejcD0K1z9ej8L1KFzfP3wUrkfheuQ/7FG4HoXr6T8AAAAAAADwP12PwvUoXPM/DNejcD0K9z8L16NwPQr7P16PwvUoXP8/AAAAAAAAAkB8FK5H4XoEQCCF61G4HgdA7FG4HoXrCUA=",
            "dtype": "f8"
           }
          }
         ]
        },
        {
         "data": [
          {
           "mode": "lines+markers",
           "type": "scatter",
           "x": {
            "bdata": "AAAAAAAAAACamZmZmZm5P5qZmZmZmck/NDMzMzMz0z+amZmZmZnZPwAAAAAAAOA/NDMzMzMz4z9nZmZmZmbmP5qZmZmZmek/zczMzMzM7D8AAAAAAADwP5qZmZmZmfE/NDMzMzMz8z/NzMzMzMz0P2dmZmZmZvY/AAAAAAAA+D+amZmZmZn5PzQzMzMzM/s/zczMzMzM/D9nZmZmZmb+Pw==",
            "dtype": "f8"
           },
           "y": {
            "bdata": "AAAAAAAAAAB8FK5H4XqEP3wUrkfheqQ/DNejcD0Ktz98FK5H4XrEPwAAAAAAANA/DNejcD0K1z9ej8L1KFzfP3wUrkfheuQ/7FG4HoXr6T8AAAAAAADwP12PwvUoXPM/DNejcD0K9z8L16NwPQr7P16PwvUoXP8/AAAAAAAAAkB8FK5H4XoEQCCF61G4HgdA7FG4HoXrCUDiehSuR+EMQA==",
            "dtype": "f8"
           }
          }
         ]
        },
        {
         "data": [
          {
           "mode": "lines+markers",
           "type": "scatter",
           "x": {
            "bdata": "AAAAAAAAAACamZmZmZm5P5qZmZmZmck/NDMzMzMz0z+amZmZmZnZPwAAAAAAAOA/NDMzMzMz4z9nZmZmZmbmP5qZmZmZmek/zczMzMzM7D8AAAAAAADwP5qZmZmZmfE/NDMzMzMz8z/NzMzMzMz0P2dmZmZmZvY/AAAAAAAA+D+amZmZmZn5PzQzMzMzM/s/zczMzMzM/D9nZmZmZmb+PwAAAAAAAABA",
            "dtype": "f8"
           },
           "y": {
            "bdata": "AAAAAAAAAAB8FK5H4XqEP3wUrkfheqQ/DNejcD0Ktz98FK5H4XrEPwAAAAAAANA/DNejcD0K1z9ej8L1KFzfP3wUrkfheuQ/7FG4HoXr6T8AAAAAAADwP12PwvUoXPM/DNejcD0K9z8L16NwPQr7P16PwvUoXP8/AAAAAAAAAkB8FK5H4XoEQCCF61G4HgdA7FG4HoXrCUDiehSuR+EMQAAAAAAAABBA",
            "dtype": "f8"
           }
          }
         ]
        },
        {
         "data": [
          {
           "mode": "lines+markers",
           "type": "scatter",
           "x": {
            "bdata": "AAAAAAAAAACamZmZmZm5P5qZmZmZmck/NDMzMzMz0z+amZmZmZnZPwAAAAAAAOA/NDMzMzMz4z9nZmZmZmbmP5qZmZmZmek/zczMzMzM7D8AAAAAAADwP5qZmZmZmfE/NDMzMzMz8z/NzMzMzMz0P2dmZmZmZvY/AAAAAAAA+D+amZmZmZn5PzQzMzMzM/s/zczMzMzM/D9nZmZmZmb+PwAAAAAAAABAzczMzMzMAEA=",
            "dtype": "f8"
           },
           "y": {
            "bdata": "AAAAAAAAAAB8FK5H4XqEP3wUrkfheqQ/DNejcD0Ktz98FK5H4XrEPwAAAAAAANA/DNejcD0K1z9ej8L1KFzfP3wUrkfheuQ/7FG4HoXr6T8AAAAAAADwP12PwvUoXPM/DNejcD0K9z8L16NwPQr7P16PwvUoXP8/AAAAAAAAAkB8FK5H4XoEQCCF61G4HgdA7FG4HoXrCUDiehSuR+EMQAAAAAAAABBApHA9CtejEUA=",
            "dtype": "f8"
           }
          }
         ]
        },
        {
         "data": [
          {
           "mode": "lines+markers",
           "type": "scatter",
           "x": {
            "bdata": "AAAAAAAAAACamZmZmZm5P5qZmZmZmck/NDMzMzMz0z+amZmZmZnZPwAAAAAAAOA/NDMzMzMz4z9nZmZmZmbmP5qZmZmZmek/zczMzMzM7D8AAAAAAADwP5qZmZmZmfE/NDMzMzMz8z/NzMzMzMz0P2dmZmZmZvY/AAAAAAAA+D+amZmZmZn5PzQzMzMzM/s/zczMzMzM/D9nZmZmZmb+PwAAAAAAAABAzczMzMzMAECamZmZmZkBQA==",
            "dtype": "f8"
           },
           "y": {
            "bdata": "AAAAAAAAAAB8FK5H4XqEP3wUrkfheqQ/DNejcD0Ktz98FK5H4XrEPwAAAAAAANA/DNejcD0K1z9ej8L1KFzfP3wUrkfheuQ/7FG4HoXr6T8AAAAAAADwP12PwvUoXPM/DNejcD0K9z8L16NwPQr7P16PwvUoXP8/AAAAAAAAAkB8FK5H4XoEQCCF61G4HgdA7FG4HoXrCUDiehSuR+EMQAAAAAAAABBApHA9CtejEUBdj8L1KFwTQA==",
            "dtype": "f8"
           }
          }
         ]
        },
        {
         "data": [
          {
           "mode": "lines+markers",
           "type": "scatter",
           "x": {
            "bdata": "AAAAAAAAAACamZmZmZm5P5qZmZmZmck/NDMzMzMz0z+amZmZmZnZPwAAAAAAAOA/NDMzMzMz4z9nZmZmZmbmP5qZmZmZmek/zczMzMzM7D8AAAAAAADwP5qZmZmZmfE/NDMzMzMz8z/NzMzMzMz0P2dmZmZmZvY/AAAAAAAA+D+amZmZmZn5PzQzMzMzM/s/zczMzMzM/D9nZmZmZmb+PwAAAAAAAABAzczMzMzMAECamZmZmZkBQGdmZmZmZgJA",
            "dtype": "f8"
           },
           "y": {
            "bdata": "AAAAAAAAAAB8FK5H4XqEP3wUrkfheqQ/DNejcD0Ktz98FK5H4XrEPwAAAAAAANA/DNejcD0K1z9ej8L1KFzfP3wUrkfheuQ/7FG4HoXr6T8AAAAAAADwP12PwvUoXPM/DNejcD0K9z8L16NwPQr7P16PwvUoXP8/AAAAAAAAAkB8FK5H4XoEQCCF61G4HgdA7FG4HoXrCUDiehSuR+EMQAAAAAAAABBApHA9CtejEUBdj8L1KFwTQCpcj8L1KBVA",
            "dtype": "f8"
           }
          }
         ]
        },
        {
         "data": [
          {
           "mode": "lines+markers",
           "type": "scatter",
           "x": {
            "bdata": "AAAAAAAAAACamZmZmZm5P5qZmZmZmck/NDMzMzMz0z+amZmZmZnZPwAAAAAAAOA/NDMzMzMz4z9nZmZmZmbmP5qZmZmZmek/zczMzMzM7D8AAAAAAADwP5qZmZmZmfE/NDMzMzMz8z/NzMzMzMz0P2dmZmZmZvY/AAAAAAAA+D+amZmZmZn5PzQzMzMzM/s/zczMzMzM/D9nZmZmZmb+PwAAAAAAAABAzczMzMzMAECamZmZmZkBQGdmZmZmZgJANDMzMzMzA0A=",
            "dtype": "f8"
           },
           "y": {
            "bdata": "AAAAAAAAAAB8FK5H4XqEP3wUrkfheqQ/DNejcD0Ktz98FK5H4XrEPwAAAAAAANA/DNejcD0K1z9ej8L1KFzfP3wUrkfheuQ/7FG4HoXr6T8AAAAAAADwP12PwvUoXPM/DNejcD0K9z8L16NwPQr7P16PwvUoXP8/AAAAAAAAAkB8FK5H4XoEQCCF61G4HgdA7FG4HoXrCUDiehSuR+EMQAAAAAAAABBApHA9CtejEUBdj8L1KFwTQCpcj8L1KBVADNejcD0KF0A=",
            "dtype": "f8"
           }
          }
         ]
        },
        {
         "data": [
          {
           "mode": "lines+markers",
           "type": "scatter",
           "x": {
            "bdata": "AAAAAAAAAACamZmZmZm5P5qZmZmZmck/NDMzMzMz0z+amZmZmZnZPwAAAAAAAOA/NDMzMzMz4z9nZmZmZmbmP5qZmZmZmek/zczMzMzM7D8AAAAAAADwP5qZmZmZmfE/NDMzMzMz8z/NzMzMzMz0P2dmZmZmZvY/AAAAAAAA+D+amZmZmZn5PzQzMzMzM/s/zczMzMzM/D9nZmZmZmb+PwAAAAAAAABAzczMzMzMAECamZmZmZkBQGdmZmZmZgJANDMzMzMzA0AAAAAAAAAEQA==",
            "dtype": "f8"
           },
           "y": {
            "bdata": "AAAAAAAAAAB8FK5H4XqEP3wUrkfheqQ/DNejcD0Ktz98FK5H4XrEPwAAAAAAANA/DNejcD0K1z9ej8L1KFzfP3wUrkfheuQ/7FG4HoXr6T8AAAAAAADwP12PwvUoXPM/DNejcD0K9z8L16NwPQr7P16PwvUoXP8/AAAAAAAAAkB8FK5H4XoEQCCF61G4HgdA7FG4HoXrCUDiehSuR+EMQAAAAAAAABBApHA9CtejEUBdj8L1KFwTQCpcj8L1KBVADNejcD0KF0AAAAAAAAAZQA==",
            "dtype": "f8"
           }
          }
         ]
        },
        {
         "data": [
          {
           "mode": "lines+markers",
           "type": "scatter",
           "x": {
            "bdata": "AAAAAAAAAACamZmZmZm5P5qZmZmZmck/NDMzMzMz0z+amZmZmZnZPwAAAAAAAOA/NDMzMzMz4z9nZmZmZmbmP5qZmZmZmek/zczMzMzM7D8AAAAAAADwP5qZmZmZmfE/NDMzMzMz8z/NzMzMzMz0P2dmZmZmZvY/AAAAAAAA+D+amZmZmZn5PzQzMzMzM/s/zczMzMzM/D9nZmZmZmb+PwAAAAAAAABAzczMzMzMAECamZmZmZkBQGdmZmZmZgJANDMzMzMzA0AAAAAAAAAEQM3MzMzMzARA",
            "dtype": "f8"
           },
           "y": {
            "bdata": "AAAAAAAAAAB8FK5H4XqEP3wUrkfheqQ/DNejcD0Ktz98FK5H4XrEPwAAAAAAANA/DNejcD0K1z9ej8L1KFzfP3wUrkfheuQ/7FG4HoXr6T8AAAAAAADwP12PwvUoXPM/DNejcD0K9z8L16NwPQr7P16PwvUoXP8/AAAAAAAAAkB8FK5H4XoEQCCF61G4HgdA7FG4HoXrCUDiehSuR+EMQAAAAAAAABBApHA9CtejEUBdj8L1KFwTQCpcj8L1KBVADNejcD0KF0AAAAAAAAAZQAvXo3A9ChtA",
            "dtype": "f8"
           }
          }
         ]
        },
        {
         "data": [
          {
           "mode": "lines+markers",
           "type": "scatter",
           "x": {
            "bdata": "AAAAAAAAAACamZmZmZm5P5qZmZmZmck/NDMzMzMz0z+amZmZmZnZPwAAAAAAAOA/NDMzMzMz4z9nZmZmZmbmP5qZmZmZmek/zczMzMzM7D8AAAAAAADwP5qZmZmZmfE/NDMzMzMz8z/NzMzMzMz0P2dmZmZmZvY/AAAAAAAA+D+amZmZmZn5PzQzMzMzM/s/zczMzMzM/D9nZmZmZmb+PwAAAAAAAABAzczMzMzMAECamZmZmZkBQGdmZmZmZgJANDMzMzMzA0AAAAAAAAAEQM3MzMzMzARAmpmZmZmZBUA=",
            "dtype": "f8"
           },
           "y": {
            "bdata": "AAAAAAAAAAB8FK5H4XqEP3wUrkfheqQ/DNejcD0Ktz98FK5H4XrEPwAAAAAAANA/DNejcD0K1z9ej8L1KFzfP3wUrkfheuQ/7FG4HoXr6T8AAAAAAADwP12PwvUoXPM/DNejcD0K9z8L16NwPQr7P16PwvUoXP8/AAAAAAAAAkB8FK5H4XoEQCCF61G4HgdA7FG4HoXrCUDiehSuR+EMQAAAAAAAABBApHA9CtejEUBdj8L1KFwTQCpcj8L1KBVADNejcD0KF0AAAAAAAAAZQAvXo3A9ChtAKlyPwvUoHUA=",
            "dtype": "f8"
           }
          }
         ]
        },
        {
         "data": [
          {
           "mode": "lines+markers",
           "type": "scatter",
           "x": {
            "bdata": "AAAAAAAAAACamZmZmZm5P5qZmZmZmck/NDMzMzMz0z+amZmZmZnZPwAAAAAAAOA/NDMzMzMz4z9nZmZmZmbmP5qZmZmZmek/zczMzMzM7D8AAAAAAADwP5qZmZmZmfE/NDMzMzMz8z/NzMzMzMz0P2dmZmZmZvY/AAAAAAAA+D+amZmZmZn5PzQzMzMzM/s/zczMzMzM/D9nZmZmZmb+PwAAAAAAAABAzczMzMzMAECamZmZmZkBQGdmZmZmZgJANDMzMzMzA0AAAAAAAAAEQM3MzMzMzARAmpmZmZmZBUBnZmZmZmYGQA==",
            "dtype": "f8"
           },
           "y": {
            "bdata": "AAAAAAAAAAB8FK5H4XqEP3wUrkfheqQ/DNejcD0Ktz98FK5H4XrEPwAAAAAAANA/DNejcD0K1z9ej8L1KFzfP3wUrkfheuQ/7FG4HoXr6T8AAAAAAADwP12PwvUoXPM/DNejcD0K9z8L16NwPQr7P16PwvUoXP8/AAAAAAAAAkB8FK5H4XoEQCCF61G4HgdA7FG4HoXrCUDiehSuR+EMQAAAAAAAABBApHA9CtejEUBdj8L1KFwTQCpcj8L1KBVADNejcD0KF0AAAAAAAAAZQAvXo3A9ChtAKlyPwvUoHUBej8L1KFwfQA==",
            "dtype": "f8"
           }
          }
         ]
        },
        {
         "data": [
          {
           "mode": "lines+markers",
           "type": "scatter",
           "x": {
            "bdata": "AAAAAAAAAACamZmZmZm5P5qZmZmZmck/NDMzMzMz0z+amZmZmZnZPwAAAAAAAOA/NDMzMzMz4z9nZmZmZmbmP5qZmZmZmek/zczMzMzM7D8AAAAAAADwP5qZmZmZmfE/NDMzMzMz8z/NzMzMzMz0P2dmZmZmZvY/AAAAAAAA+D+amZmZmZn5PzQzMzMzM/s/zczMzMzM/D9nZmZmZmb+PwAAAAAAAABAzczMzMzMAECamZmZmZkBQGdmZmZmZgJANDMzMzMzA0AAAAAAAAAEQM3MzMzMzARAmpmZmZmZBUBnZmZmZmYGQDQzMzMzMwdA",
            "dtype": "f8"
           },
           "y": {
            "bdata": "AAAAAAAAAAB8FK5H4XqEP3wUrkfheqQ/DNejcD0Ktz98FK5H4XrEPwAAAAAAANA/DNejcD0K1z9ej8L1KFzfP3wUrkfheuQ/7FG4HoXr6T8AAAAAAADwP12PwvUoXPM/DNejcD0K9z8L16NwPQr7P16PwvUoXP8/AAAAAAAAAkB8FK5H4XoEQCCF61G4HgdA7FG4HoXrCUDiehSuR+EMQAAAAAAAABBApHA9CtejEUBdj8L1KFwTQCpcj8L1KBVADNejcD0KF0AAAAAAAAAZQAvXo3A9ChtAKlyPwvUoHUBej8L1KFwfQFO4HoXr0SBA",
            "dtype": "f8"
           }
          }
         ]
        },
        {
         "data": [
          {
           "mode": "lines+markers",
           "type": "scatter",
           "x": {
            "bdata": "AAAAAAAAAACamZmZmZm5P5qZmZmZmck/NDMzMzMz0z+amZmZmZnZPwAAAAAAAOA/NDMzMzMz4z9nZmZmZmbmP5qZmZmZmek/zczMzMzM7D8AAAAAAADwP5qZmZmZmfE/NDMzMzMz8z/NzMzMzMz0P2dmZmZmZvY/AAAAAAAA+D+amZmZmZn5PzQzMzMzM/s/zczMzMzM/D9nZmZmZmb+PwAAAAAAAABAzczMzMzMAECamZmZmZkBQGdmZmZmZgJANDMzMzMzA0AAAAAAAAAEQM3MzMzMzARAmpmZmZmZBUBnZmZmZmYGQDQzMzMzMwdAAAAAAAAACEA=",
            "dtype": "f8"
           },
           "y": {
            "bdata": "AAAAAAAAAAB8FK5H4XqEP3wUrkfheqQ/DNejcD0Ktz98FK5H4XrEPwAAAAAAANA/DNejcD0K1z9ej8L1KFzfP3wUrkfheuQ/7FG4HoXr6T8AAAAAAADwP12PwvUoXPM/DNejcD0K9z8L16NwPQr7P16PwvUoXP8/AAAAAAAAAkB8FK5H4XoEQCCF61G4HgdA7FG4HoXrCUDiehSuR+EMQAAAAAAAABBApHA9CtejEUBdj8L1KFwTQCpcj8L1KBVADNejcD0KF0AAAAAAAAAZQAvXo3A9ChtAKlyPwvUoHUBej8L1KFwfQFO4HoXr0SBAAAAAAAAAIkA=",
            "dtype": "f8"
           }
          }
         ]
        },
        {
         "data": [
          {
           "mode": "lines+markers",
           "type": "scatter",
           "x": {
            "bdata": "AAAAAAAAAACamZmZmZm5P5qZmZmZmck/NDMzMzMz0z+amZmZmZnZPwAAAAAAAOA/NDMzMzMz4z9nZmZmZmbmP5qZmZmZmek/zczMzMzM7D8AAAAAAADwP5qZmZmZmfE/NDMzMzMz8z/NzMzMzMz0P2dmZmZmZvY/AAAAAAAA+D+amZmZmZn5PzQzMzMzM/s/zczMzMzM/D9nZmZmZmb+PwAAAAAAAABAzczMzMzMAECamZmZmZkBQGdmZmZmZgJANDMzMzMzA0AAAAAAAAAEQM3MzMzMzARAmpmZmZmZBUBnZmZmZmYGQDQzMzMzMwdAAAAAAAAACEDNzMzMzMwIQA==",
            "dtype": "f8"
           },
           "y": {
            "bdata": "AAAAAAAAAAB8FK5H4XqEP3wUrkfheqQ/DNejcD0Ktz98FK5H4XrEPwAAAAAAANA/DNejcD0K1z9ej8L1KFzfP3wUrkfheuQ/7FG4HoXr6T8AAAAAAADwP12PwvUoXPM/DNejcD0K9z8L16NwPQr7P16PwvUoXP8/AAAAAAAAAkB8FK5H4XoEQCCF61G4HgdA7FG4HoXrCUDiehSuR+EMQAAAAAAAABBApHA9CtejEUBdj8L1KFwTQCpcj8L1KBVADNejcD0KF0AAAAAAAAAZQAvXo3A9ChtAKlyPwvUoHUBej8L1KFwfQFO4HoXr0SBAAAAAAAAAIkC5HoXrUTgjQA==",
            "dtype": "f8"
           }
          }
         ]
        },
        {
         "data": [
          {
           "mode": "lines+markers",
           "type": "scatter",
           "x": {
            "bdata": "AAAAAAAAAACamZmZmZm5P5qZmZmZmck/NDMzMzMz0z+amZmZmZnZPwAAAAAAAOA/NDMzMzMz4z9nZmZmZmbmP5qZmZmZmek/zczMzMzM7D8AAAAAAADwP5qZmZmZmfE/NDMzMzMz8z/NzMzMzMz0P2dmZmZmZvY/AAAAAAAA+D+amZmZmZn5PzQzMzMzM/s/zczMzMzM/D9nZmZmZmb+PwAAAAAAAABAzczMzMzMAECamZmZmZkBQGdmZmZmZgJANDMzMzMzA0AAAAAAAAAEQM3MzMzMzARAmpmZmZmZBUBnZmZmZmYGQDQzMzMzMwdAAAAAAAAACEDNzMzMzMwIQJqZmZmZmQlA",
            "dtype": "f8"
           },
           "y": {
            "bdata": "AAAAAAAAAAB8FK5H4XqEP3wUrkfheqQ/DNejcD0Ktz98FK5H4XrEPwAAAAAAANA/DNejcD0K1z9ej8L1KFzfP3wUrkfheuQ/7FG4HoXr6T8AAAAAAADwP12PwvUoXPM/DNejcD0K9z8L16NwPQr7P16PwvUoXP8/AAAAAAAAAkB8FK5H4XoEQCCF61G4HgdA7FG4HoXrCUDiehSuR+EMQAAAAAAAABBApHA9CtejEUBdj8L1KFwTQCpcj8L1KBVADNejcD0KF0AAAAAAAAAZQAvXo3A9ChtAKlyPwvUoHUBej8L1KFwfQFO4HoXr0SBAAAAAAAAAIkC5HoXrUTgjQHwUrkfheiRA",
            "dtype": "f8"
           }
          }
         ]
        },
        {
         "data": [
          {
           "mode": "lines+markers",
           "type": "scatter",
           "x": {
            "bdata": "AAAAAAAAAACamZmZmZm5P5qZmZmZmck/NDMzMzMz0z+amZmZmZnZPwAAAAAAAOA/NDMzMzMz4z9nZmZmZmbmP5qZmZmZmek/zczMzMzM7D8AAAAAAADwP5qZmZmZmfE/NDMzMzMz8z/NzMzMzMz0P2dmZmZmZvY/AAAAAAAA+D+amZmZmZn5PzQzMzMzM/s/zczMzMzM/D9nZmZmZmb+PwAAAAAAAABAzczMzMzMAECamZmZmZkBQGdmZmZmZgJANDMzMzMzA0AAAAAAAAAEQM3MzMzMzARAmpmZmZmZBUBnZmZmZmYGQDQzMzMzMwdAAAAAAAAACEDNzMzMzMwIQJqZmZmZmQlAZ2ZmZmZmCkA=",
            "dtype": "f8"
           },
           "y": {
            "bdata": "AAAAAAAAAAB8FK5H4XqEP3wUrkfheqQ/DNejcD0Ktz98FK5H4XrEPwAAAAAAANA/DNejcD0K1z9ej8L1KFzfP3wUrkfheuQ/7FG4HoXr6T8AAAAAAADwP12PwvUoXPM/DNejcD0K9z8L16NwPQr7P16PwvUoXP8/AAAAAAAAAkB8FK5H4XoEQCCF61G4HgdA7FG4HoXrCUDiehSuR+EMQAAAAAAAABBApHA9CtejEUBdj8L1KFwTQCpcj8L1KBVADNejcD0KF0AAAAAAAAAZQAvXo3A9ChtAKlyPwvUoHUBej8L1KFwfQFO4HoXr0SBAAAAAAAAAIkC5HoXrUTgjQHwUrkfheiRASeF6FK7HJUA=",
            "dtype": "f8"
           }
          }
         ]
        },
        {
         "data": [
          {
           "mode": "lines+markers",
           "type": "scatter",
           "x": {
            "bdata": "AAAAAAAAAACamZmZmZm5P5qZmZmZmck/NDMzMzMz0z+amZmZmZnZPwAAAAAAAOA/NDMzMzMz4z9nZmZmZmbmP5qZmZmZmek/zczMzMzM7D8AAAAAAADwP5qZmZmZmfE/NDMzMzMz8z/NzMzMzMz0P2dmZmZmZvY/AAAAAAAA+D+amZmZmZn5PzQzMzMzM/s/zczMzMzM/D9nZmZmZmb+PwAAAAAAAABAzczMzMzMAECamZmZmZkBQGdmZmZmZgJANDMzMzMzA0AAAAAAAAAEQM3MzMzMzARAmpmZmZmZBUBnZmZmZmYGQDQzMzMzMwdAAAAAAAAACEDNzMzMzMwIQJqZmZmZmQlAZ2ZmZmZmCkA0MzMzMzMLQA==",
            "dtype": "f8"
           },
           "y": {
            "bdata": "AAAAAAAAAAB8FK5H4XqEP3wUrkfheqQ/DNejcD0Ktz98FK5H4XrEPwAAAAAAANA/DNejcD0K1z9ej8L1KFzfP3wUrkfheuQ/7FG4HoXr6T8AAAAAAADwP12PwvUoXPM/DNejcD0K9z8L16NwPQr7P16PwvUoXP8/AAAAAAAAAkB8FK5H4XoEQCCF61G4HgdA7FG4HoXrCUDiehSuR+EMQAAAAAAAABBApHA9CtejEUBdj8L1KFwTQCpcj8L1KBVADNejcD0KF0AAAAAAAAAZQAvXo3A9ChtAKlyPwvUoHUBej8L1KFwfQFO4HoXr0SBAAAAAAAAAIkC5HoXrUTgjQHwUrkfheiRASeF6FK7HJUAghetRuB4nQA==",
            "dtype": "f8"
           }
          }
         ]
        },
        {
         "data": [
          {
           "mode": "lines+markers",
           "type": "scatter",
           "x": {
            "bdata": "AAAAAAAAAACamZmZmZm5P5qZmZmZmck/NDMzMzMz0z+amZmZmZnZPwAAAAAAAOA/NDMzMzMz4z9nZmZmZmbmP5qZmZmZmek/zczMzMzM7D8AAAAAAADwP5qZmZmZmfE/NDMzMzMz8z/NzMzMzMz0P2dmZmZmZvY/AAAAAAAA+D+amZmZmZn5PzQzMzMzM/s/zczMzMzM/D9nZmZmZmb+PwAAAAAAAABAzczMzMzMAECamZmZmZkBQGdmZmZmZgJANDMzMzMzA0AAAAAAAAAEQM3MzMzMzARAmpmZmZmZBUBnZmZmZmYGQDQzMzMzMwdAAAAAAAAACEDNzMzMzMwIQJqZmZmZmQlAZ2ZmZmZmCkA0MzMzMzMLQAAAAAAAAAxA",
            "dtype": "f8"
           },
           "y": {
            "bdata": "AAAAAAAAAAB8FK5H4XqEP3wUrkfheqQ/DNejcD0Ktz98FK5H4XrEPwAAAAAAANA/DNejcD0K1z9ej8L1KFzfP3wUrkfheuQ/7FG4HoXr6T8AAAAAAADwP12PwvUoXPM/DNejcD0K9z8L16NwPQr7P16PwvUoXP8/AAAAAAAAAkB8FK5H4XoEQCCF61G4HgdA7FG4HoXrCUDiehSuR+EMQAAAAAAAABBApHA9CtejEUBdj8L1KFwTQCpcj8L1KBVADNejcD0KF0AAAAAAAAAZQAvXo3A9ChtAKlyPwvUoHUBej8L1KFwfQFO4HoXr0SBAAAAAAAAAIkC5HoXrUTgjQHwUrkfheiRASeF6FK7HJUAghetRuB4nQAAAAAAAgChA",
            "dtype": "f8"
           }
          }
         ]
        },
        {
         "data": [
          {
           "mode": "lines+markers",
           "type": "scatter",
           "x": {
            "bdata": "AAAAAAAAAACamZmZmZm5P5qZmZmZmck/NDMzMzMz0z+amZmZmZnZPwAAAAAAAOA/NDMzMzMz4z9nZmZmZmbmP5qZmZmZmek/zczMzMzM7D8AAAAAAADwP5qZmZmZmfE/NDMzMzMz8z/NzMzMzMz0P2dmZmZmZvY/AAAAAAAA+D+amZmZmZn5PzQzMzMzM/s/zczMzMzM/D9nZmZmZmb+PwAAAAAAAABAzczMzMzMAECamZmZmZkBQGdmZmZmZgJANDMzMzMzA0AAAAAAAAAEQM3MzMzMzARAmpmZmZmZBUBnZmZmZmYGQDQzMzMzMwdAAAAAAAAACEDNzMzMzMwIQJqZmZmZmQlAZ2ZmZmZmCkA0MzMzMzMLQAAAAAAAAAxAzczMzMzMDEA=",
            "dtype": "f8"
           },
           "y": {
            "bdata": "AAAAAAAAAAB8FK5H4XqEP3wUrkfheqQ/DNejcD0Ktz98FK5H4XrEPwAAAAAAANA/DNejcD0K1z9ej8L1KFzfP3wUrkfheuQ/7FG4HoXr6T8AAAAAAADwP12PwvUoXPM/DNejcD0K9z8L16NwPQr7P16PwvUoXP8/AAAAAAAAAkB8FK5H4XoEQCCF61G4HgdA7FG4HoXrCUDiehSuR+EMQAAAAAAAABBApHA9CtejEUBdj8L1KFwTQCpcj8L1KBVADNejcD0KF0AAAAAAAAAZQAvXo3A9ChtAKlyPwvUoHUBej8L1KFwfQFO4HoXr0SBAAAAAAAAAIkC5HoXrUTgjQHwUrkfheiRASeF6FK7HJUAghetRuB4nQAAAAAAAgChA7FG4HoXrKUA=",
            "dtype": "f8"
           }
          }
         ]
        },
        {
         "data": [
          {
           "mode": "lines+markers",
           "type": "scatter",
           "x": {
            "bdata": "AAAAAAAAAACamZmZmZm5P5qZmZmZmck/NDMzMzMz0z+amZmZmZnZPwAAAAAAAOA/NDMzMzMz4z9nZmZmZmbmP5qZmZmZmek/zczMzMzM7D8AAAAAAADwP5qZmZmZmfE/NDMzMzMz8z/NzMzMzMz0P2dmZmZmZvY/AAAAAAAA+D+amZmZmZn5PzQzMzMzM/s/zczMzMzM/D9nZmZmZmb+PwAAAAAAAABAzczMzMzMAECamZmZmZkBQGdmZmZmZgJANDMzMzMzA0AAAAAAAAAEQM3MzMzMzARAmpmZmZmZBUBnZmZmZmYGQDQzMzMzMwdAAAAAAAAACEDNzMzMzMwIQJqZmZmZmQlAZ2ZmZmZmCkA0MzMzMzMLQAAAAAAAAAxAzczMzMzMDECamZmZmZkNQA==",
            "dtype": "f8"
           },
           "y": {
            "bdata": "AAAAAAAAAAB8FK5H4XqEP3wUrkfheqQ/DNejcD0Ktz98FK5H4XrEPwAAAAAAANA/DNejcD0K1z9ej8L1KFzfP3wUrkfheuQ/7FG4HoXr6T8AAAAAAADwP12PwvUoXPM/DNejcD0K9z8L16NwPQr7P16PwvUoXP8/AAAAAAAAAkB8FK5H4XoEQCCF61G4HgdA7FG4HoXrCUDiehSuR+EMQAAAAAAAABBApHA9CtejEUBdj8L1KFwTQCpcj8L1KBVADNejcD0KF0AAAAAAAAAZQAvXo3A9ChtAKlyPwvUoHUBej8L1KFwfQFO4HoXr0SBAAAAAAAAAIkC5HoXrUTgjQHwUrkfheiRASeF6FK7HJUAghetRuB4nQAAAAAAAgChA7FG4HoXrKUDiehSuR2ErQA==",
            "dtype": "f8"
           }
          }
         ]
        },
        {
         "data": [
          {
           "mode": "lines+markers",
           "type": "scatter",
           "x": {
            "bdata": "AAAAAAAAAACamZmZmZm5P5qZmZmZmck/NDMzMzMz0z+amZmZmZnZPwAAAAAAAOA/NDMzMzMz4z9nZmZmZmbmP5qZmZmZmek/zczMzMzM7D8AAAAAAADwP5qZmZmZmfE/NDMzMzMz8z/NzMzMzMz0P2dmZmZmZvY/AAAAAAAA+D+amZmZmZn5PzQzMzMzM/s/zczMzMzM/D9nZmZmZmb+PwAAAAAAAABAzczMzMzMAECamZmZmZkBQGdmZmZmZgJANDMzMzMzA0AAAAAAAAAEQM3MzMzMzARAmpmZmZmZBUBnZmZmZmYGQDQzMzMzMwdAAAAAAAAACEDNzMzMzMwIQJqZmZmZmQlAZ2ZmZmZmCkA0MzMzMzMLQAAAAAAAAAxAzczMzMzMDECamZmZmZkNQGdmZmZmZg5A",
            "dtype": "f8"
           },
           "y": {
            "bdata": "AAAAAAAAAAB8FK5H4XqEP3wUrkfheqQ/DNejcD0Ktz98FK5H4XrEPwAAAAAAANA/DNejcD0K1z9ej8L1KFzfP3wUrkfheuQ/7FG4HoXr6T8AAAAAAADwP12PwvUoXPM/DNejcD0K9z8L16NwPQr7P16PwvUoXP8/AAAAAAAAAkB8FK5H4XoEQCCF61G4HgdA7FG4HoXrCUDiehSuR+EMQAAAAAAAABBApHA9CtejEUBdj8L1KFwTQCpcj8L1KBVADNejcD0KF0AAAAAAAAAZQAvXo3A9ChtAKlyPwvUoHUBej8L1KFwfQFO4HoXr0SBAAAAAAAAAIkC5HoXrUTgjQHwUrkfheiRASeF6FK7HJUAghetRuB4nQAAAAAAAgChA7FG4HoXrKUDiehSuR2ErQOJ6FK5H4SxA",
            "dtype": "f8"
           }
          }
         ]
        },
        {
         "data": [
          {
           "mode": "lines+markers",
           "type": "scatter",
           "x": {
            "bdata": "AAAAAAAAAACamZmZmZm5P5qZmZmZmck/NDMzMzMz0z+amZmZmZnZPwAAAAAAAOA/NDMzMzMz4z9nZmZmZmbmP5qZmZmZmek/zczMzMzM7D8AAAAAAADwP5qZmZmZmfE/NDMzMzMz8z/NzMzMzMz0P2dmZmZmZvY/AAAAAAAA+D+amZmZmZn5PzQzMzMzM/s/zczMzMzM/D9nZmZmZmb+PwAAAAAAAABAzczMzMzMAECamZmZmZkBQGdmZmZmZgJANDMzMzMzA0AAAAAAAAAEQM3MzMzMzARAmpmZmZmZBUBnZmZmZmYGQDQzMzMzMwdAAAAAAAAACEDNzMzMzMwIQJqZmZmZmQlAZ2ZmZmZmCkA0MzMzMzMLQAAAAAAAAAxAzczMzMzMDECamZmZmZkNQGdmZmZmZg5ANDMzMzMzD0A=",
            "dtype": "f8"
           },
           "y": {
            "bdata": "AAAAAAAAAAB8FK5H4XqEP3wUrkfheqQ/DNejcD0Ktz98FK5H4XrEPwAAAAAAANA/DNejcD0K1z9ej8L1KFzfP3wUrkfheuQ/7FG4HoXr6T8AAAAAAADwP12PwvUoXPM/DNejcD0K9z8L16NwPQr7P16PwvUoXP8/AAAAAAAAAkB8FK5H4XoEQCCF61G4HgdA7FG4HoXrCUDiehSuR+EMQAAAAAAAABBApHA9CtejEUBdj8L1KFwTQCpcj8L1KBVADNejcD0KF0AAAAAAAAAZQAvXo3A9ChtAKlyPwvUoHUBej8L1KFwfQFO4HoXr0SBAAAAAAAAAIkC5HoXrUTgjQHwUrkfheiRASeF6FK7HJUAghetRuB4nQAAAAAAAgChA7FG4HoXrKUDiehSuR2ErQOJ6FK5H4SxA7VG4HoVrLkA=",
            "dtype": "f8"
           }
          }
         ]
        },
        {
         "data": [
          {
           "mode": "lines+markers",
           "type": "scatter",
           "x": {
            "bdata": "AAAAAAAAAACamZmZmZm5P5qZmZmZmck/NDMzMzMz0z+amZmZmZnZPwAAAAAAAOA/NDMzMzMz4z9nZmZmZmbmP5qZmZmZmek/zczMzMzM7D8AAAAAAADwP5qZmZmZmfE/NDMzMzMz8z/NzMzMzMz0P2dmZmZmZvY/AAAAAAAA+D+amZmZmZn5PzQzMzMzM/s/zczMzMzM/D9nZmZmZmb+PwAAAAAAAABAzczMzMzMAECamZmZmZkBQGdmZmZmZgJANDMzMzMzA0AAAAAAAAAEQM3MzMzMzARAmpmZmZmZBUBnZmZmZmYGQDQzMzMzMwdAAAAAAAAACEDNzMzMzMwIQJqZmZmZmQlAZ2ZmZmZmCkA0MzMzMzMLQAAAAAAAAAxAzczMzMzMDECamZmZmZkNQGdmZmZmZg5ANDMzMzMzD0AAAAAAAAAQQA==",
            "dtype": "f8"
           },
           "y": {
            "bdata": "AAAAAAAAAAB8FK5H4XqEP3wUrkfheqQ/DNejcD0Ktz98FK5H4XrEPwAAAAAAANA/DNejcD0K1z9ej8L1KFzfP3wUrkfheuQ/7FG4HoXr6T8AAAAAAADwP12PwvUoXPM/DNejcD0K9z8L16NwPQr7P16PwvUoXP8/AAAAAAAAAkB8FK5H4XoEQCCF61G4HgdA7FG4HoXrCUDiehSuR+EMQAAAAAAAABBApHA9CtejEUBdj8L1KFwTQCpcj8L1KBVADNejcD0KF0AAAAAAAAAZQAvXo3A9ChtAKlyPwvUoHUBej8L1KFwfQFO4HoXr0SBAAAAAAAAAIkC5HoXrUTgjQHwUrkfheiRASeF6FK7HJUAghetRuB4nQAAAAAAAgChA7FG4HoXrKUDiehSuR2ErQOJ6FK5H4SxA7VG4HoVrLkAAAAAAAAAwQA==",
            "dtype": "f8"
           }
          }
         ]
        },
        {
         "data": [
          {
           "mode": "lines+markers",
           "type": "scatter",
           "x": {
            "bdata": "AAAAAAAAAACamZmZmZm5P5qZmZmZmck/NDMzMzMz0z+amZmZmZnZPwAAAAAAAOA/NDMzMzMz4z9nZmZmZmbmP5qZmZmZmek/zczMzMzM7D8AAAAAAADwP5qZmZmZmfE/NDMzMzMz8z/NzMzMzMz0P2dmZmZmZvY/AAAAAAAA+D+amZmZmZn5PzQzMzMzM/s/zczMzMzM/D9nZmZmZmb+PwAAAAAAAABAzczMzMzMAECamZmZmZkBQGdmZmZmZgJANDMzMzMzA0AAAAAAAAAEQM3MzMzMzARAmpmZmZmZBUBnZmZmZmYGQDQzMzMzMwdAAAAAAAAACEDNzMzMzMwIQJqZmZmZmQlAZ2ZmZmZmCkA0MzMzMzMLQAAAAAAAAAxAzczMzMzMDECamZmZmZkNQGdmZmZmZg5ANDMzMzMzD0AAAAAAAAAQQGdmZmZmZhBA",
            "dtype": "f8"
           },
           "y": {
            "bdata": "AAAAAAAAAAB8FK5H4XqEP3wUrkfheqQ/DNejcD0Ktz98FK5H4XrEPwAAAAAAANA/DNejcD0K1z9ej8L1KFzfP3wUrkfheuQ/7FG4HoXr6T8AAAAAAADwP12PwvUoXPM/DNejcD0K9z8L16NwPQr7P16PwvUoXP8/AAAAAAAAAkB8FK5H4XoEQCCF61G4HgdA7FG4HoXrCUDiehSuR+EMQAAAAAAAABBApHA9CtejEUBdj8L1KFwTQCpcj8L1KBVADNejcD0KF0AAAAAAAAAZQAvXo3A9ChtAKlyPwvUoHUBej8L1KFwfQFO4HoXr0SBAAAAAAAAAIkC5HoXrUTgjQHwUrkfheiRASeF6FK7HJUAghetRuB4nQAAAAAAAgChA7FG4HoXrKUDiehSuR2ErQOJ6FK5H4SxA7VG4HoVrLkAAAAAAAAAwQJHC9ShczzBA",
            "dtype": "f8"
           }
          }
         ]
        },
        {
         "data": [
          {
           "mode": "lines+markers",
           "type": "scatter",
           "x": {
            "bdata": "AAAAAAAAAACamZmZmZm5P5qZmZmZmck/NDMzMzMz0z+amZmZmZnZPwAAAAAAAOA/NDMzMzMz4z9nZmZmZmbmP5qZmZmZmek/zczMzMzM7D8AAAAAAADwP5qZmZmZmfE/NDMzMzMz8z/NzMzMzMz0P2dmZmZmZvY/AAAAAAAA+D+amZmZmZn5PzQzMzMzM/s/zczMzMzM/D9nZmZmZmb+PwAAAAAAAABAzczMzMzMAECamZmZmZkBQGdmZmZmZgJANDMzMzMzA0AAAAAAAAAEQM3MzMzMzARAmpmZmZmZBUBnZmZmZmYGQDQzMzMzMwdAAAAAAAAACEDNzMzMzMwIQJqZmZmZmQlAZ2ZmZmZmCkA0MzMzMzMLQAAAAAAAAAxAzczMzMzMDECamZmZmZkNQGdmZmZmZg5ANDMzMzMzD0AAAAAAAAAQQGdmZmZmZhBAzczMzMzMEEA=",
            "dtype": "f8"
           },
           "y": {
            "bdata": "AAAAAAAAAAB8FK5H4XqEP3wUrkfheqQ/DNejcD0Ktz98FK5H4XrEPwAAAAAAANA/DNejcD0K1z9ej8L1KFzfP3wUrkfheuQ/7FG4HoXr6T8AAAAAAADwP12PwvUoXPM/DNejcD0K9z8L16NwPQr7P16PwvUoXP8/AAAAAAAAAkB8FK5H4XoEQCCF61G4HgdA7FG4HoXrCUDiehSuR+EMQAAAAAAAABBApHA9CtejEUBdj8L1KFwTQCpcj8L1KBVADNejcD0KF0AAAAAAAAAZQAvXo3A9ChtAKlyPwvUoHUBej8L1KFwfQFO4HoXr0SBAAAAAAAAAIkC5HoXrUTgjQHwUrkfheiRASeF6FK7HJUAghetRuB4nQAAAAAAAgChA7FG4HoXrKUDiehSuR2ErQOJ6FK5H4SxA7VG4HoVrLkAAAAAAAAAwQJHC9ShczzBApHA9CtejMUA=",
            "dtype": "f8"
           }
          }
         ]
        },
        {
         "data": [
          {
           "mode": "lines+markers",
           "type": "scatter",
           "x": {
            "bdata": "AAAAAAAAAACamZmZmZm5P5qZmZmZmck/NDMzMzMz0z+amZmZmZnZPwAAAAAAAOA/NDMzMzMz4z9nZmZmZmbmP5qZmZmZmek/zczMzMzM7D8AAAAAAADwP5qZmZmZmfE/NDMzMzMz8z/NzMzMzMz0P2dmZmZmZvY/AAAAAAAA+D+amZmZmZn5PzQzMzMzM/s/zczMzMzM/D9nZmZmZmb+PwAAAAAAAABAzczMzMzMAECamZmZmZkBQGdmZmZmZgJANDMzMzMzA0AAAAAAAAAEQM3MzMzMzARAmpmZmZmZBUBnZmZmZmYGQDQzMzMzMwdAAAAAAAAACEDNzMzMzMwIQJqZmZmZmQlAZ2ZmZmZmCkA0MzMzMzMLQAAAAAAAAAxAzczMzMzMDECamZmZmZkNQGdmZmZmZg5ANDMzMzMzD0AAAAAAAAAQQGdmZmZmZhBAzczMzMzMEEAzMzMzMzMRQA==",
            "dtype": "f8"
           },
           "y": {
            "bdata": "AAAAAAAAAAB8FK5H4XqEP3wUrkfheqQ/DNejcD0Ktz98FK5H4XrEPwAAAAAAANA/DNejcD0K1z9ej8L1KFzfP3wUrkfheuQ/7FG4HoXr6T8AAAAAAADwP12PwvUoXPM/DNejcD0K9z8L16NwPQr7P16PwvUoXP8/AAAAAAAAAkB8FK5H4XoEQCCF61G4HgdA7FG4HoXrCUDiehSuR+EMQAAAAAAAABBApHA9CtejEUBdj8L1KFwTQCpcj8L1KBVADNejcD0KF0AAAAAAAAAZQAvXo3A9ChtAKlyPwvUoHUBej8L1KFwfQFO4HoXr0SBAAAAAAAAAIkC5HoXrUTgjQHwUrkfheiRASeF6FK7HJUAghetRuB4nQAAAAAAAgChA7FG4HoXrKUDiehSuR2ErQOJ6FK5H4SxA7VG4HoVrLkAAAAAAAAAwQJHC9ShczzBApHA9CtejMUA9CtejcH0yQA==",
            "dtype": "f8"
           }
          }
         ]
        },
        {
         "data": [
          {
           "mode": "lines+markers",
           "type": "scatter",
           "x": {
            "bdata": "AAAAAAAAAACamZmZmZm5P5qZmZmZmck/NDMzMzMz0z+amZmZmZnZPwAAAAAAAOA/NDMzMzMz4z9nZmZmZmbmP5qZmZmZmek/zczMzMzM7D8AAAAAAADwP5qZmZmZmfE/NDMzMzMz8z/NzMzMzMz0P2dmZmZmZvY/AAAAAAAA+D+amZmZmZn5PzQzMzMzM/s/zczMzMzM/D9nZmZmZmb+PwAAAAAAAABAzczMzMzMAECamZmZmZkBQGdmZmZmZgJANDMzMzMzA0AAAAAAAAAEQM3MzMzMzARAmpmZmZmZBUBnZmZmZmYGQDQzMzMzMwdAAAAAAAAACEDNzMzMzMwIQJqZmZmZmQlAZ2ZmZmZmCkA0MzMzMzMLQAAAAAAAAAxAzczMzMzMDECamZmZmZkNQGdmZmZmZg5ANDMzMzMzD0AAAAAAAAAQQGdmZmZmZhBAzczMzMzMEEAzMzMzMzMRQJqZmZmZmRFA",
            "dtype": "f8"
           },
           "y": {
            "bdata": "AAAAAAAAAAB8FK5H4XqEP3wUrkfheqQ/DNejcD0Ktz98FK5H4XrEPwAAAAAAANA/DNejcD0K1z9ej8L1KFzfP3wUrkfheuQ/7FG4HoXr6T8AAAAAAADwP12PwvUoXPM/DNejcD0K9z8L16NwPQr7P16PwvUoXP8/AAAAAAAAAkB8FK5H4XoEQCCF61G4HgdA7FG4HoXrCUDiehSuR+EMQAAAAAAAABBApHA9CtejEUBdj8L1KFwTQCpcj8L1KBVADNejcD0KF0AAAAAAAAAZQAvXo3A9ChtAKlyPwvUoHUBej8L1KFwfQFO4HoXr0SBAAAAAAAAAIkC5HoXrUTgjQHwUrkfheiRASeF6FK7HJUAghetRuB4nQAAAAAAAgChA7FG4HoXrKUDiehSuR2ErQOJ6FK5H4SxA7VG4HoVrLkAAAAAAAAAwQJHC9ShczzBApHA9CtejMUA9CtejcH0yQF2PwvUoXDNA",
            "dtype": "f8"
           }
          }
         ]
        },
        {
         "data": [
          {
           "mode": "lines+markers",
           "type": "scatter",
           "x": {
            "bdata": "AAAAAAAAAACamZmZmZm5P5qZmZmZmck/NDMzMzMz0z+amZmZmZnZPwAAAAAAAOA/NDMzMzMz4z9nZmZmZmbmP5qZmZmZmek/zczMzMzM7D8AAAAAAADwP5qZmZmZmfE/NDMzMzMz8z/NzMzMzMz0P2dmZmZmZvY/AAAAAAAA+D+amZmZmZn5PzQzMzMzM/s/zczMzMzM/D9nZmZmZmb+PwAAAAAAAABAzczMzMzMAECamZmZmZkBQGdmZmZmZgJANDMzMzMzA0AAAAAAAAAEQM3MzMzMzARAmpmZmZmZBUBnZmZmZmYGQDQzMzMzMwdAAAAAAAAACEDNzMzMzMwIQJqZmZmZmQlAZ2ZmZmZmCkA0MzMzMzMLQAAAAAAAAAxAzczMzMzMDECamZmZmZkNQGdmZmZmZg5ANDMzMzMzD0AAAAAAAAAQQGdmZmZmZhBAzczMzMzMEEAzMzMzMzMRQJqZmZmZmRFAAAAAAAAAEkA=",
            "dtype": "f8"
           },
           "y": {
            "bdata": "AAAAAAAAAAB8FK5H4XqEP3wUrkfheqQ/DNejcD0Ktz98FK5H4XrEPwAAAAAAANA/DNejcD0K1z9ej8L1KFzfP3wUrkfheuQ/7FG4HoXr6T8AAAAAAADwP12PwvUoXPM/DNejcD0K9z8L16NwPQr7P16PwvUoXP8/AAAAAAAAAkB8FK5H4XoEQCCF61G4HgdA7FG4HoXrCUDiehSuR+EMQAAAAAAAABBApHA9CtejEUBdj8L1KFwTQCpcj8L1KBVADNejcD0KF0AAAAAAAAAZQAvXo3A9ChtAKlyPwvUoHUBej8L1KFwfQFO4HoXr0SBAAAAAAAAAIkC5HoXrUTgjQHwUrkfheiRASeF6FK7HJUAghetRuB4nQAAAAAAAgChA7FG4HoXrKUDiehSuR2ErQOJ6FK5H4SxA7VG4HoVrLkAAAAAAAAAwQJHC9ShczzBApHA9CtejMUA9CtejcH0yQF2PwvUoXDNAAAAAAABANEA=",
            "dtype": "f8"
           }
          }
         ]
        },
        {
         "data": [
          {
           "mode": "lines+markers",
           "type": "scatter",
           "x": {
            "bdata": "AAAAAAAAAACamZmZmZm5P5qZmZmZmck/NDMzMzMz0z+amZmZmZnZPwAAAAAAAOA/NDMzMzMz4z9nZmZmZmbmP5qZmZmZmek/zczMzMzM7D8AAAAAAADwP5qZmZmZmfE/NDMzMzMz8z/NzMzMzMz0P2dmZmZmZvY/AAAAAAAA+D+amZmZmZn5PzQzMzMzM/s/zczMzMzM/D9nZmZmZmb+PwAAAAAAAABAzczMzMzMAECamZmZmZkBQGdmZmZmZgJANDMzMzMzA0AAAAAAAAAEQM3MzMzMzARAmpmZmZmZBUBnZmZmZmYGQDQzMzMzMwdAAAAAAAAACEDNzMzMzMwIQJqZmZmZmQlAZ2ZmZmZmCkA0MzMzMzMLQAAAAAAAAAxAzczMzMzMDECamZmZmZkNQGdmZmZmZg5ANDMzMzMzD0AAAAAAAAAQQGdmZmZmZhBAzczMzMzMEEAzMzMzMzMRQJqZmZmZmRFAAAAAAAAAEkBnZmZmZmYSQA==",
            "dtype": "f8"
           },
           "y": {
            "bdata": "AAAAAAAAAAB8FK5H4XqEP3wUrkfheqQ/DNejcD0Ktz98FK5H4XrEPwAAAAAAANA/DNejcD0K1z9ej8L1KFzfP3wUrkfheuQ/7FG4HoXr6T8AAAAAAADwP12PwvUoXPM/DNejcD0K9z8L16NwPQr7P16PwvUoXP8/AAAAAAAAAkB8FK5H4XoEQCCF61G4HgdA7FG4HoXrCUDiehSuR+EMQAAAAAAAABBApHA9CtejEUBdj8L1KFwTQCpcj8L1KBVADNejcD0KF0AAAAAAAAAZQAvXo3A9ChtAKlyPwvUoHUBej8L1KFwfQFO4HoXr0SBAAAAAAAAAIkC5HoXrUTgjQHwUrkfheiRASeF6FK7HJUAghetRuB4nQAAAAAAAgChA7FG4HoXrKUDiehSuR2ErQOJ6FK5H4SxA7VG4HoVrLkAAAAAAAAAwQJHC9ShczzBApHA9CtejMUA9CtejcH0yQF2PwvUoXDNAAAAAAABANEAqXI/C9Sg1QA==",
            "dtype": "f8"
           }
          }
         ]
        },
        {
         "data": [
          {
           "mode": "lines+markers",
           "type": "scatter",
           "x": {
            "bdata": "AAAAAAAAAACamZmZmZm5P5qZmZmZmck/NDMzMzMz0z+amZmZmZnZPwAAAAAAAOA/NDMzMzMz4z9nZmZmZmbmP5qZmZmZmek/zczMzMzM7D8AAAAAAADwP5qZmZmZmfE/NDMzMzMz8z/NzMzMzMz0P2dmZmZmZvY/AAAAAAAA+D+amZmZmZn5PzQzMzMzM/s/zczMzMzM/D9nZmZmZmb+PwAAAAAAAABAzczMzMzMAECamZmZmZkBQGdmZmZmZgJANDMzMzMzA0AAAAAAAAAEQM3MzMzMzARAmpmZmZmZBUBnZmZmZmYGQDQzMzMzMwdAAAAAAAAACEDNzMzMzMwIQJqZmZmZmQlAZ2ZmZmZmCkA0MzMzMzMLQAAAAAAAAAxAzczMzMzMDECamZmZmZkNQGdmZmZmZg5ANDMzMzMzD0AAAAAAAAAQQGdmZmZmZhBAzczMzMzMEEAzMzMzMzMRQJqZmZmZmRFAAAAAAAAAEkBnZmZmZmYSQM3MzMzMzBJA",
            "dtype": "f8"
           },
           "y": {
            "bdata": "AAAAAAAAAAB8FK5H4XqEP3wUrkfheqQ/DNejcD0Ktz98FK5H4XrEPwAAAAAAANA/DNejcD0K1z9ej8L1KFzfP3wUrkfheuQ/7FG4HoXr6T8AAAAAAADwP12PwvUoXPM/DNejcD0K9z8L16NwPQr7P16PwvUoXP8/AAAAAAAAAkB8FK5H4XoEQCCF61G4HgdA7FG4HoXrCUDiehSuR+EMQAAAAAAAABBApHA9CtejEUBdj8L1KFwTQCpcj8L1KBVADNejcD0KF0AAAAAAAAAZQAvXo3A9ChtAKlyPwvUoHUBej8L1KFwfQFO4HoXr0SBAAAAAAAAAIkC5HoXrUTgjQHwUrkfheiRASeF6FK7HJUAghetRuB4nQAAAAAAAgChA7FG4HoXrKUDiehSuR2ErQOJ6FK5H4SxA7VG4HoVrLkAAAAAAAAAwQJHC9ShczzBApHA9CtejMUA9CtejcH0yQF2PwvUoXDNAAAAAAABANEAqXI/C9Sg1QNijcD0KFzZA",
            "dtype": "f8"
           }
          }
         ]
        },
        {
         "data": [
          {
           "mode": "lines+markers",
           "type": "scatter",
           "x": {
            "bdata": "AAAAAAAAAACamZmZmZm5P5qZmZmZmck/NDMzMzMz0z+amZmZmZnZPwAAAAAAAOA/NDMzMzMz4z9nZmZmZmbmP5qZmZmZmek/zczMzMzM7D8AAAAAAADwP5qZmZmZmfE/NDMzMzMz8z/NzMzMzMz0P2dmZmZmZvY/AAAAAAAA+D+amZmZmZn5PzQzMzMzM/s/zczMzMzM/D9nZmZmZmb+PwAAAAAAAABAzczMzMzMAECamZmZmZkBQGdmZmZmZgJANDMzMzMzA0AAAAAAAAAEQM3MzMzMzARAmpmZmZmZBUBnZmZmZmYGQDQzMzMzMwdAAAAAAAAACEDNzMzMzMwIQJqZmZmZmQlAZ2ZmZmZmCkA0MzMzMzMLQAAAAAAAAAxAzczMzMzMDECamZmZmZkNQGdmZmZmZg5ANDMzMzMzD0AAAAAAAAAQQGdmZmZmZhBAzczMzMzMEEAzMzMzMzMRQJqZmZmZmRFAAAAAAAAAEkBnZmZmZmYSQM3MzMzMzBJANDMzMzMzE0A=",
            "dtype": "f8"
           },
           "y": {
            "bdata": "AAAAAAAAAAB8FK5H4XqEP3wUrkfheqQ/DNejcD0Ktz98FK5H4XrEPwAAAAAAANA/DNejcD0K1z9ej8L1KFzfP3wUrkfheuQ/7FG4HoXr6T8AAAAAAADwP12PwvUoXPM/DNejcD0K9z8L16NwPQr7P16PwvUoXP8/AAAAAAAAAkB8FK5H4XoEQCCF61G4HgdA7FG4HoXrCUDiehSuR+EMQAAAAAAAABBApHA9CtejEUBdj8L1KFwTQCpcj8L1KBVADNejcD0KF0AAAAAAAAAZQAvXo3A9ChtAKlyPwvUoHUBej8L1KFwfQFO4HoXr0SBAAAAAAAAAIkC5HoXrUTgjQHwUrkfheiRASeF6FK7HJUAghetRuB4nQAAAAAAAgChA7FG4HoXrKUDiehSuR2ErQOJ6FK5H4SxA7VG4HoVrLkAAAAAAAAAwQJHC9ShczzBApHA9CtejMUA9CtejcH0yQF2PwvUoXDNAAAAAAABANEAqXI/C9Sg1QNijcD0KFzZADNejcD0KN0A=",
            "dtype": "f8"
           }
          }
         ]
        },
        {
         "data": [
          {
           "mode": "lines+markers",
           "type": "scatter",
           "x": {
            "bdata": "AAAAAAAAAACamZmZmZm5P5qZmZmZmck/NDMzMzMz0z+amZmZmZnZPwAAAAAAAOA/NDMzMzMz4z9nZmZmZmbmP5qZmZmZmek/zczMzMzM7D8AAAAAAADwP5qZmZmZmfE/NDMzMzMz8z/NzMzMzMz0P2dmZmZmZvY/AAAAAAAA+D+amZmZmZn5PzQzMzMzM/s/zczMzMzM/D9nZmZmZmb+PwAAAAAAAABAzczMzMzMAECamZmZmZkBQGdmZmZmZgJANDMzMzMzA0AAAAAAAAAEQM3MzMzMzARAmpmZmZmZBUBnZmZmZmYGQDQzMzMzMwdAAAAAAAAACEDNzMzMzMwIQJqZmZmZmQlAZ2ZmZmZmCkA0MzMzMzMLQAAAAAAAAAxAzczMzMzMDECamZmZmZkNQGdmZmZmZg5ANDMzMzMzD0AAAAAAAAAQQGdmZmZmZhBAzczMzMzMEEAzMzMzMzMRQJqZmZmZmRFAAAAAAAAAEkBnZmZmZmYSQM3MzMzMzBJANDMzMzMzE0CamZmZmZkTQA==",
            "dtype": "f8"
           },
           "y": {
            "bdata": "AAAAAAAAAAB8FK5H4XqEP3wUrkfheqQ/DNejcD0Ktz98FK5H4XrEPwAAAAAAANA/DNejcD0K1z9ej8L1KFzfP3wUrkfheuQ/7FG4HoXr6T8AAAAAAADwP12PwvUoXPM/DNejcD0K9z8L16NwPQr7P16PwvUoXP8/AAAAAAAAAkB8FK5H4XoEQCCF61G4HgdA7FG4HoXrCUDiehSuR+EMQAAAAAAAABBApHA9CtejEUBdj8L1KFwTQCpcj8L1KBVADNejcD0KF0AAAAAAAAAZQAvXo3A9ChtAKlyPwvUoHUBej8L1KFwfQFO4HoXr0SBAAAAAAAAAIkC5HoXrUTgjQHwUrkfheiRASeF6FK7HJUAghetRuB4nQAAAAAAAgChA7FG4HoXrKUDiehSuR2ErQOJ6FK5H4SxA7VG4HoVrLkAAAAAAAAAwQJHC9ShczzBApHA9CtejMUA9CtejcH0yQF2PwvUoXDNAAAAAAABANEAqXI/C9Sg1QNijcD0KFzZADNejcD0KN0DE9ShcjwI4QA==",
            "dtype": "f8"
           }
          }
         ]
        }
       ],
       "layout": {
        "legend": {
         "orientation": "h",
         "x": 0.5,
         "xanchor": "center"
        },
        "margin": {
         "b": 0,
         "l": 0,
         "r": 0,
         "t": 0
        },
        "template": {
         "data": {
          "bar": [
           {
            "error_x": {
             "color": "#2a3f5f"
            },
            "error_y": {
             "color": "#2a3f5f"
            },
            "marker": {
             "line": {
              "color": "#E5ECF6",
              "width": 0.5
             },
             "pattern": {
              "fillmode": "overlay",
              "size": 10,
              "solidity": 0.2
             }
            },
            "type": "bar"
           }
          ],
          "barpolar": [
           {
            "marker": {
             "line": {
              "color": "#E5ECF6",
              "width": 0.5
             },
             "pattern": {
              "fillmode": "overlay",
              "size": 10,
              "solidity": 0.2
             }
            },
            "type": "barpolar"
           }
          ],
          "carpet": [
           {
            "aaxis": {
             "endlinecolor": "#2a3f5f",
             "gridcolor": "white",
             "linecolor": "white",
             "minorgridcolor": "white",
             "startlinecolor": "#2a3f5f"
            },
            "baxis": {
             "endlinecolor": "#2a3f5f",
             "gridcolor": "white",
             "linecolor": "white",
             "minorgridcolor": "white",
             "startlinecolor": "#2a3f5f"
            },
            "type": "carpet"
           }
          ],
          "choropleth": [
           {
            "colorbar": {
             "outlinewidth": 0,
             "ticks": ""
            },
            "type": "choropleth"
           }
          ],
          "contour": [
           {
            "colorbar": {
             "outlinewidth": 0,
             "ticks": ""
            },
            "colorscale": [
             [
              0,
              "#0d0887"
             ],
             [
              0.1111111111111111,
              "#46039f"
             ],
             [
              0.2222222222222222,
              "#7201a8"
             ],
             [
              0.3333333333333333,
              "#9c179e"
             ],
             [
              0.4444444444444444,
              "#bd3786"
             ],
             [
              0.5555555555555556,
              "#d8576b"
             ],
             [
              0.6666666666666666,
              "#ed7953"
             ],
             [
              0.7777777777777778,
              "#fb9f3a"
             ],
             [
              0.8888888888888888,
              "#fdca26"
             ],
             [
              1,
              "#f0f921"
             ]
            ],
            "type": "contour"
           }
          ],
          "contourcarpet": [
           {
            "colorbar": {
             "outlinewidth": 0,
             "ticks": ""
            },
            "type": "contourcarpet"
           }
          ],
          "heatmap": [
           {
            "colorbar": {
             "outlinewidth": 0,
             "ticks": ""
            },
            "colorscale": [
             [
              0,
              "#0d0887"
             ],
             [
              0.1111111111111111,
              "#46039f"
             ],
             [
              0.2222222222222222,
              "#7201a8"
             ],
             [
              0.3333333333333333,
              "#9c179e"
             ],
             [
              0.4444444444444444,
              "#bd3786"
             ],
             [
              0.5555555555555556,
              "#d8576b"
             ],
             [
              0.6666666666666666,
              "#ed7953"
             ],
             [
              0.7777777777777778,
              "#fb9f3a"
             ],
             [
              0.8888888888888888,
              "#fdca26"
             ],
             [
              1,
              "#f0f921"
             ]
            ],
            "type": "heatmap"
           }
          ],
          "histogram": [
           {
            "marker": {
             "pattern": {
              "fillmode": "overlay",
              "size": 10,
              "solidity": 0.2
             }
            },
            "type": "histogram"
           }
          ],
          "histogram2d": [
           {
            "colorbar": {
             "outlinewidth": 0,
             "ticks": ""
            },
            "colorscale": [
             [
              0,
              "#0d0887"
             ],
             [
              0.1111111111111111,
              "#46039f"
             ],
             [
              0.2222222222222222,
              "#7201a8"
             ],
             [
              0.3333333333333333,
              "#9c179e"
             ],
             [
              0.4444444444444444,
              "#bd3786"
             ],
             [
              0.5555555555555556,
              "#d8576b"
             ],
             [
              0.6666666666666666,
              "#ed7953"
             ],
             [
              0.7777777777777778,
              "#fb9f3a"
             ],
             [
              0.8888888888888888,
              "#fdca26"
             ],
             [
              1,
              "#f0f921"
             ]
            ],
            "type": "histogram2d"
           }
          ],
          "histogram2dcontour": [
           {
            "colorbar": {
             "outlinewidth": 0,
             "ticks": ""
            },
            "colorscale": [
             [
              0,
              "#0d0887"
             ],
             [
              0.1111111111111111,
              "#46039f"
             ],
             [
              0.2222222222222222,
              "#7201a8"
             ],
             [
              0.3333333333333333,
              "#9c179e"
             ],
             [
              0.4444444444444444,
              "#bd3786"
             ],
             [
              0.5555555555555556,
              "#d8576b"
             ],
             [
              0.6666666666666666,
              "#ed7953"
             ],
             [
              0.7777777777777778,
              "#fb9f3a"
             ],
             [
              0.8888888888888888,
              "#fdca26"
             ],
             [
              1,
              "#f0f921"
             ]
            ],
            "type": "histogram2dcontour"
           }
          ],
          "mesh3d": [
           {
            "colorbar": {
             "outlinewidth": 0,
             "ticks": ""
            },
            "type": "mesh3d"
           }
          ],
          "parcoords": [
           {
            "line": {
             "colorbar": {
              "outlinewidth": 0,
              "ticks": ""
             }
            },
            "type": "parcoords"
           }
          ],
          "pie": [
           {
            "automargin": true,
            "type": "pie"
           }
          ],
          "scatter": [
           {
            "fillpattern": {
             "fillmode": "overlay",
             "size": 10,
             "solidity": 0.2
            },
            "type": "scatter"
           }
          ],
          "scatter3d": [
           {
            "line": {
             "colorbar": {
              "outlinewidth": 0,
              "ticks": ""
             }
            },
            "marker": {
             "colorbar": {
              "outlinewidth": 0,
              "ticks": ""
             }
            },
            "type": "scatter3d"
           }
          ],
          "scattercarpet": [
           {
            "marker": {
             "colorbar": {
              "outlinewidth": 0,
              "ticks": ""
             }
            },
            "type": "scattercarpet"
           }
          ],
          "scattergeo": [
           {
            "marker": {
             "colorbar": {
              "outlinewidth": 0,
              "ticks": ""
             }
            },
            "type": "scattergeo"
           }
          ],
          "scattergl": [
           {
            "marker": {
             "colorbar": {
              "outlinewidth": 0,
              "ticks": ""
             }
            },
            "type": "scattergl"
           }
          ],
          "scattermap": [
           {
            "marker": {
             "colorbar": {
              "outlinewidth": 0,
              "ticks": ""
             }
            },
            "type": "scattermap"
           }
          ],
          "scattermapbox": [
           {
            "marker": {
             "colorbar": {
              "outlinewidth": 0,
              "ticks": ""
             }
            },
            "type": "scattermapbox"
           }
          ],
          "scatterpolar": [
           {
            "marker": {
             "colorbar": {
              "outlinewidth": 0,
              "ticks": ""
             }
            },
            "type": "scatterpolar"
           }
          ],
          "scatterpolargl": [
           {
            "marker": {
             "colorbar": {
              "outlinewidth": 0,
              "ticks": ""
             }
            },
            "type": "scatterpolargl"
           }
          ],
          "scatterternary": [
           {
            "marker": {
             "colorbar": {
              "outlinewidth": 0,
              "ticks": ""
             }
            },
            "type": "scatterternary"
           }
          ],
          "surface": [
           {
            "colorbar": {
             "outlinewidth": 0,
             "ticks": ""
            },
            "colorscale": [
             [
              0,
              "#0d0887"
             ],
             [
              0.1111111111111111,
              "#46039f"
             ],
             [
              0.2222222222222222,
              "#7201a8"
             ],
             [
              0.3333333333333333,
              "#9c179e"
             ],
             [
              0.4444444444444444,
              "#bd3786"
             ],
             [
              0.5555555555555556,
              "#d8576b"
             ],
             [
              0.6666666666666666,
              "#ed7953"
             ],
             [
              0.7777777777777778,
              "#fb9f3a"
             ],
             [
              0.8888888888888888,
              "#fdca26"
             ],
             [
              1,
              "#f0f921"
             ]
            ],
            "type": "surface"
           }
          ],
          "table": [
           {
            "cells": {
             "fill": {
              "color": "#EBF0F8"
             },
             "line": {
              "color": "white"
             }
            },
            "header": {
             "fill": {
              "color": "#C8D4E3"
             },
             "line": {
              "color": "white"
             }
            },
            "type": "table"
           }
          ]
         },
         "layout": {
          "annotationdefaults": {
           "arrowcolor": "#2a3f5f",
           "arrowhead": 0,
           "arrowwidth": 1
          },
          "autotypenumbers": "strict",
          "coloraxis": {
           "colorbar": {
            "outlinewidth": 0,
            "ticks": ""
           }
          },
          "colorscale": {
           "diverging": [
            [
             0,
             "#8e0152"
            ],
            [
             0.1,
             "#c51b7d"
            ],
            [
             0.2,
             "#de77ae"
            ],
            [
             0.3,
             "#f1b6da"
            ],
            [
             0.4,
             "#fde0ef"
            ],
            [
             0.5,
             "#f7f7f7"
            ],
            [
             0.6,
             "#e6f5d0"
            ],
            [
             0.7,
             "#b8e186"
            ],
            [
             0.8,
             "#7fbc41"
            ],
            [
             0.9,
             "#4d9221"
            ],
            [
             1,
             "#276419"
            ]
           ],
           "sequential": [
            [
             0,
             "#0d0887"
            ],
            [
             0.1111111111111111,
             "#46039f"
            ],
            [
             0.2222222222222222,
             "#7201a8"
            ],
            [
             0.3333333333333333,
             "#9c179e"
            ],
            [
             0.4444444444444444,
             "#bd3786"
            ],
            [
             0.5555555555555556,
             "#d8576b"
            ],
            [
             0.6666666666666666,
             "#ed7953"
            ],
            [
             0.7777777777777778,
             "#fb9f3a"
            ],
            [
             0.8888888888888888,
             "#fdca26"
            ],
            [
             1,
             "#f0f921"
            ]
           ],
           "sequentialminus": [
            [
             0,
             "#0d0887"
            ],
            [
             0.1111111111111111,
             "#46039f"
            ],
            [
             0.2222222222222222,
             "#7201a8"
            ],
            [
             0.3333333333333333,
             "#9c179e"
            ],
            [
             0.4444444444444444,
             "#bd3786"
            ],
            [
             0.5555555555555556,
             "#d8576b"
            ],
            [
             0.6666666666666666,
             "#ed7953"
            ],
            [
             0.7777777777777778,
             "#fb9f3a"
            ],
            [
             0.8888888888888888,
             "#fdca26"
            ],
            [
             1,
             "#f0f921"
            ]
           ]
          },
          "colorway": [
           "#636efa",
           "#EF553B",
           "#00cc96",
           "#ab63fa",
           "#FFA15A",
           "#19d3f3",
           "#FF6692",
           "#B6E880",
           "#FF97FF",
           "#FECB52"
          ],
          "font": {
           "color": "#2a3f5f"
          },
          "geo": {
           "bgcolor": "white",
           "lakecolor": "white",
           "landcolor": "#E5ECF6",
           "showlakes": true,
           "showland": true,
           "subunitcolor": "white"
          },
          "hoverlabel": {
           "align": "left"
          },
          "hovermode": "closest",
          "mapbox": {
           "style": "light"
          },
          "paper_bgcolor": "white",
          "plot_bgcolor": "#E5ECF6",
          "polar": {
           "angularaxis": {
            "gridcolor": "white",
            "linecolor": "white",
            "ticks": ""
           },
           "bgcolor": "#E5ECF6",
           "radialaxis": {
            "gridcolor": "white",
            "linecolor": "white",
            "ticks": ""
           }
          },
          "scene": {
           "xaxis": {
            "backgroundcolor": "#E5ECF6",
            "gridcolor": "white",
            "gridwidth": 2,
            "linecolor": "white",
            "showbackground": true,
            "ticks": "",
            "zerolinecolor": "white"
           },
           "yaxis": {
            "backgroundcolor": "#E5ECF6",
            "gridcolor": "white",
            "gridwidth": 2,
            "linecolor": "white",
            "showbackground": true,
            "ticks": "",
            "zerolinecolor": "white"
           },
           "zaxis": {
            "backgroundcolor": "#E5ECF6",
            "gridcolor": "white",
            "gridwidth": 2,
            "linecolor": "white",
            "showbackground": true,
            "ticks": "",
            "zerolinecolor": "white"
           }
          },
          "shapedefaults": {
           "line": {
            "color": "#2a3f5f"
           }
          },
          "ternary": {
           "aaxis": {
            "gridcolor": "white",
            "linecolor": "white",
            "ticks": ""
           },
           "baxis": {
            "gridcolor": "white",
            "linecolor": "white",
            "ticks": ""
           },
           "bgcolor": "#E5ECF6",
           "caxis": {
            "gridcolor": "white",
            "linecolor": "white",
            "ticks": ""
           }
          },
          "title": {
           "x": 0.05
          },
          "xaxis": {
           "automargin": true,
           "gridcolor": "white",
           "linecolor": "white",
           "ticks": "",
           "title": {
            "standoff": 15
           },
           "zerolinecolor": "white",
           "zerolinewidth": 2
          },
          "yaxis": {
           "automargin": true,
           "gridcolor": "white",
           "linecolor": "white",
           "ticks": "",
           "title": {
            "standoff": 15
           },
           "zerolinecolor": "white",
           "zerolinewidth": 2
          }
         }
        },
        "updatemenus": [
         {
          "buttons": [
           {
            "args": [
             null
            ],
            "label": "Play",
            "method": "animate"
           }
          ],
          "type": "buttons"
         }
        ]
       }
      }
     },
     "metadata": {},
     "output_type": "display_data"
    }
   ],
   "source": [
    "fig = go.Figure(data=go.Scatter(x=[x[0]], y=[f(x[0])], mode='lines+markers',  name='f(x)=x<sup>2</sup>'),\n",
    "                frames=frames,            layout=dict(legend_orientation=\"h\",\n",
    "                            legend=dict(x=.5, xanchor=\"center\"),\n",
    "                            updatemenus=[dict(type=\"buttons\", buttons=[dict(label=\"Play\", method=\"animate\", args=[None])])],\n",
    "                            margin=dict(l=0, r=0, t=0, b=0)))    \n",
    "\n",
    "fig.show()"
   ]
  },
  {
   "cell_type": "code",
   "execution_count": null,
   "metadata": {},
   "outputs": [],
   "source": []
  }
 ],
 "metadata": {
  "kernelspec": {
   "display_name": "Python 3",
   "language": "python",
   "name": "python3"
  },
  "language_info": {
   "codemirror_mode": {
    "name": "ipython",
    "version": 3
   },
   "file_extension": ".py",
   "mimetype": "text/x-python",
   "name": "python",
   "nbconvert_exporter": "python",
   "pygments_lexer": "ipython3",
   "version": "3.13.2"
  }
 },
 "nbformat": 4,
 "nbformat_minor": 2
}
