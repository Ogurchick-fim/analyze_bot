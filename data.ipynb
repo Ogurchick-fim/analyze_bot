{
 "cells": [
  {
   "cell_type": "code",
   "execution_count": 7,
   "metadata": {},
   "outputs": [],
   "source": [
    "import sqlite3\n",
    "import pandas as pd\n",
    "import numpy as np\n",
    "import matplotlib.pyplot as plt\n",
    "import seaborn as sns"
   ]
  },
  {
   "cell_type": "code",
   "execution_count": 8,
   "metadata": {},
   "outputs": [],
   "source": [
    "\n",
    "conn= sqlite3.connect('telegram_bot.db')\n",
    "df = pd.read_sql_query(\"SELECT * FROM Messages\", conn)\n",
    "\n",
    "df.to_csv('output.csv', index=False)\n",
    "\n",
    "conn.close()"
   ]
  },
  {
   "cell_type": "code",
   "execution_count": 9,
   "metadata": {},
   "outputs": [],
   "source": [
    "df = pd.read_csv('output.csv')"
   ]
  },
  {
   "cell_type": "code",
   "execution_count": 10,
   "metadata": {},
   "outputs": [
    {
     "data": {
      "text/html": [
       "<div>\n",
       "<style scoped>\n",
       "    .dataframe tbody tr th:only-of-type {\n",
       "        vertical-align: middle;\n",
       "    }\n",
       "\n",
       "    .dataframe tbody tr th {\n",
       "        vertical-align: top;\n",
       "    }\n",
       "\n",
       "    .dataframe thead th {\n",
       "        text-align: right;\n",
       "    }\n",
       "</style>\n",
       "<table border=\"1\" class=\"dataframe\">\n",
       "  <thead>\n",
       "    <tr style=\"text-align: right;\">\n",
       "      <th></th>\n",
       "      <th>id</th>\n",
       "      <th>chat_id</th>\n",
       "      <th>user_id</th>\n",
       "      <th>content</th>\n",
       "      <th>timestamp</th>\n",
       "    </tr>\n",
       "  </thead>\n",
       "  <tbody>\n",
       "    <tr>\n",
       "      <th>0</th>\n",
       "      <td>1</td>\n",
       "      <td>779345437</td>\n",
       "      <td>779345437</td>\n",
       "      <td>сука</td>\n",
       "      <td>2025-03-15T17:27:04.984519</td>\n",
       "    </tr>\n",
       "    <tr>\n",
       "      <th>1</th>\n",
       "      <td>2</td>\n",
       "      <td>779345437</td>\n",
       "      <td>779345437</td>\n",
       "      <td>ааа</td>\n",
       "      <td>2025-03-15T17:27:08.699008</td>\n",
       "    </tr>\n",
       "    <tr>\n",
       "      <th>2</th>\n",
       "      <td>3</td>\n",
       "      <td>779345437</td>\n",
       "      <td>779345437</td>\n",
       "      <td>блядь у меня проблема ментальные</td>\n",
       "      <td>2025-03-15T17:27:14.049697</td>\n",
       "    </tr>\n",
       "    <tr>\n",
       "      <th>3</th>\n",
       "      <td>4</td>\n",
       "      <td>1043727495</td>\n",
       "      <td>1043727495</td>\n",
       "      <td>i have mental problem with someone</td>\n",
       "      <td>2025-03-15T17:27:15.972644</td>\n",
       "    </tr>\n",
       "    <tr>\n",
       "      <th>4</th>\n",
       "      <td>5</td>\n",
       "      <td>779345437</td>\n",
       "      <td>779345437</td>\n",
       "      <td>гойда</td>\n",
       "      <td>2025-03-15T18:03:20.933122</td>\n",
       "    </tr>\n",
       "  </tbody>\n",
       "</table>\n",
       "</div>"
      ],
      "text/plain": [
       "   id     chat_id     user_id                             content  \\\n",
       "0   1   779345437   779345437                                сука   \n",
       "1   2   779345437   779345437                                 ааа   \n",
       "2   3   779345437   779345437    блядь у меня проблема ментальные   \n",
       "3   4  1043727495  1043727495  i have mental problem with someone   \n",
       "4   5   779345437   779345437                               гойда   \n",
       "\n",
       "                    timestamp  \n",
       "0  2025-03-15T17:27:04.984519  \n",
       "1  2025-03-15T17:27:08.699008  \n",
       "2  2025-03-15T17:27:14.049697  \n",
       "3  2025-03-15T17:27:15.972644  \n",
       "4  2025-03-15T18:03:20.933122  "
      ]
     },
     "execution_count": 10,
     "metadata": {},
     "output_type": "execute_result"
    }
   ],
   "source": [
    "df.head()"
   ]
  },
  {
   "cell_type": "code",
   "execution_count": 11,
   "metadata": {},
   "outputs": [],
   "source": [
    "df['timestamp'] = pd.to_datetime(df['timestamp']) "
   ]
  },
  {
   "cell_type": "code",
   "execution_count": 12,
   "metadata": {},
   "outputs": [],
   "source": [
    "df.set_index('timestamp', inplace=True)"
   ]
  },
  {
   "cell_type": "code",
   "execution_count": 13,
   "metadata": {},
   "outputs": [],
   "source": [
    "df.drop(['id'], axis=1, inplace=True)"
   ]
  },
  {
   "cell_type": "code",
   "execution_count": 14,
   "metadata": {},
   "outputs": [
    {
     "data": {
      "text/html": [
       "<div>\n",
       "<style scoped>\n",
       "    .dataframe tbody tr th:only-of-type {\n",
       "        vertical-align: middle;\n",
       "    }\n",
       "\n",
       "    .dataframe tbody tr th {\n",
       "        vertical-align: top;\n",
       "    }\n",
       "\n",
       "    .dataframe thead th {\n",
       "        text-align: right;\n",
       "    }\n",
       "</style>\n",
       "<table border=\"1\" class=\"dataframe\">\n",
       "  <thead>\n",
       "    <tr style=\"text-align: right;\">\n",
       "      <th></th>\n",
       "      <th>chat_id</th>\n",
       "      <th>user_id</th>\n",
       "      <th>content</th>\n",
       "    </tr>\n",
       "    <tr>\n",
       "      <th>timestamp</th>\n",
       "      <th></th>\n",
       "      <th></th>\n",
       "      <th></th>\n",
       "    </tr>\n",
       "  </thead>\n",
       "  <tbody>\n",
       "    <tr>\n",
       "      <th>2025-03-15 17:27:15.972644</th>\n",
       "      <td>1043727495</td>\n",
       "      <td>1043727495</td>\n",
       "      <td>i have mental problem with someone</td>\n",
       "    </tr>\n",
       "    <tr>\n",
       "      <th>2025-03-15 18:11:04.661931</th>\n",
       "      <td>1043727495</td>\n",
       "      <td>1043727495</td>\n",
       "      <td>okay, ihave ,mental health</td>\n",
       "    </tr>\n",
       "    <tr>\n",
       "      <th>2025-03-15 18:17:35.187859</th>\n",
       "      <td>1043727495</td>\n",
       "      <td>1043727495</td>\n",
       "      <td>Hello, I’m writing this message to share my ex...</td>\n",
       "    </tr>\n",
       "    <tr>\n",
       "      <th>2025-03-15 18:19:34.469275</th>\n",
       "      <td>1043727495</td>\n",
       "      <td>1043727495</td>\n",
       "      <td>hello</td>\n",
       "    </tr>\n",
       "    <tr>\n",
       "      <th>2025-03-15 18:21:42.412825</th>\n",
       "      <td>1043727495</td>\n",
       "      <td>1043727495</td>\n",
       "      <td>hello suka</td>\n",
       "    </tr>\n",
       "    <tr>\n",
       "      <th>2025-03-15 18:29:42.714502</th>\n",
       "      <td>1043727495</td>\n",
       "      <td>1043727495</td>\n",
       "      <td>hello world</td>\n",
       "    </tr>\n",
       "    <tr>\n",
       "      <th>2025-03-15 18:34:48.063486</th>\n",
       "      <td>1043727495</td>\n",
       "      <td>1043727495</td>\n",
       "      <td>privet</td>\n",
       "    </tr>\n",
       "    <tr>\n",
       "      <th>2025-03-15 18:34:59.118998</th>\n",
       "      <td>1043727495</td>\n",
       "      <td>1043727495</td>\n",
       "      <td>sad</td>\n",
       "    </tr>\n",
       "    <tr>\n",
       "      <th>2025-03-15 18:41:04.948124</th>\n",
       "      <td>1043727495</td>\n",
       "      <td>1043727495</td>\n",
       "      <td>i have a problem</td>\n",
       "    </tr>\n",
       "    <tr>\n",
       "      <th>2025-03-15 18:42:17.451558</th>\n",
       "      <td>1043727495</td>\n",
       "      <td>1043727495</td>\n",
       "      <td>do you remeber history of our chat&amp;</td>\n",
       "    </tr>\n",
       "    <tr>\n",
       "      <th>2025-03-15 18:42:52.399000</th>\n",
       "      <td>1043727495</td>\n",
       "      <td>1043727495</td>\n",
       "      <td>nigga</td>\n",
       "    </tr>\n",
       "    <tr>\n",
       "      <th>2025-03-15 23:02:49.378804</th>\n",
       "      <td>1043727495</td>\n",
       "      <td>1043727495</td>\n",
       "      <td>i have a problem</td>\n",
       "    </tr>\n",
       "    <tr>\n",
       "      <th>2025-03-15 23:03:00.774222</th>\n",
       "      <td>1043727495</td>\n",
       "      <td>1043727495</td>\n",
       "      <td>i afraid of women</td>\n",
       "    </tr>\n",
       "    <tr>\n",
       "      <th>2025-03-15 23:03:19.370715</th>\n",
       "      <td>1043727495</td>\n",
       "      <td>1043727495</td>\n",
       "      <td>how can i sovel this problem &amp;</td>\n",
       "    </tr>\n",
       "    <tr>\n",
       "      <th>2025-03-15 23:33:37.563411</th>\n",
       "      <td>1043727495</td>\n",
       "      <td>1043727495</td>\n",
       "      <td>i have some problem</td>\n",
       "    </tr>\n",
       "    <tr>\n",
       "      <th>2025-03-15 23:33:40.060781</th>\n",
       "      <td>1043727495</td>\n",
       "      <td>1043727495</td>\n",
       "      <td>to</td>\n",
       "    </tr>\n",
       "    <tr>\n",
       "      <th>2025-03-15 23:33:42.309378</th>\n",
       "      <td>1043727495</td>\n",
       "      <td>1043727495</td>\n",
       "      <td>yo</td>\n",
       "    </tr>\n",
       "    <tr>\n",
       "      <th>2025-03-15 23:33:44.475173</th>\n",
       "      <td>1043727495</td>\n",
       "      <td>1043727495</td>\n",
       "      <td>yo</td>\n",
       "    </tr>\n",
       "    <tr>\n",
       "      <th>2025-03-15 23:33:46.404095</th>\n",
       "      <td>1043727495</td>\n",
       "      <td>1043727495</td>\n",
       "      <td>bro</td>\n",
       "    </tr>\n",
       "    <tr>\n",
       "      <th>2025-03-15 23:33:48.317846</th>\n",
       "      <td>1043727495</td>\n",
       "      <td>1043727495</td>\n",
       "      <td>bro</td>\n",
       "    </tr>\n",
       "    <tr>\n",
       "      <th>2025-03-15 23:33:51.206897</th>\n",
       "      <td>1043727495</td>\n",
       "      <td>1043727495</td>\n",
       "      <td>bro</td>\n",
       "    </tr>\n",
       "    <tr>\n",
       "      <th>2025-03-16 00:33:33.112076</th>\n",
       "      <td>1043727495</td>\n",
       "      <td>1043727495</td>\n",
       "      <td>i have solve my problems , i have mental stabi...</td>\n",
       "    </tr>\n",
       "    <tr>\n",
       "      <th>2025-03-16 00:34:24.664821</th>\n",
       "      <td>1043727495</td>\n",
       "      <td>1043727495</td>\n",
       "      <td>ladimir Vladimirovich Putin is a Russian polit...</td>\n",
       "    </tr>\n",
       "    <tr>\n",
       "      <th>2025-03-16 00:35:52.734356</th>\n",
       "      <td>1043727495</td>\n",
       "      <td>1043727495</td>\n",
       "      <td>bro i dont need a mental problesms</td>\n",
       "    </tr>\n",
       "    <tr>\n",
       "      <th>2025-03-16 00:36:08.074717</th>\n",
       "      <td>1043727495</td>\n",
       "      <td>1043727495</td>\n",
       "      <td>i don't need a help</td>\n",
       "    </tr>\n",
       "    <tr>\n",
       "      <th>2025-03-16 00:39:16.275542</th>\n",
       "      <td>1043727495</td>\n",
       "      <td>1043727495</td>\n",
       "      <td>i feel very nice today</td>\n",
       "    </tr>\n",
       "    <tr>\n",
       "      <th>2025-03-16 00:47:10.436994</th>\n",
       "      <td>1043727495</td>\n",
       "      <td>1043727495</td>\n",
       "      <td>у меня проблема</td>\n",
       "    </tr>\n",
       "    <tr>\n",
       "      <th>2025-03-16 00:47:23.816201</th>\n",
       "      <td>1043727495</td>\n",
       "      <td>1043727495</td>\n",
       "      <td>менде проблема бар</td>\n",
       "    </tr>\n",
       "    <tr>\n",
       "      <th>2025-03-16 00:47:40.992823</th>\n",
       "      <td>1043727495</td>\n",
       "      <td>1043727495</td>\n",
       "      <td>сен кыргызча суйлоснбу ?</td>\n",
       "    </tr>\n",
       "    <tr>\n",
       "      <th>2025-03-16 00:48:11.819362</th>\n",
       "      <td>1043727495</td>\n",
       "      <td>1043727495</td>\n",
       "      <td>мени ити башка дуйнодо кетти</td>\n",
       "    </tr>\n",
       "    <tr>\n",
       "      <th>2025-03-16 00:48:30.642977</th>\n",
       "      <td>1043727495</td>\n",
       "      <td>1043727495</td>\n",
       "      <td>мен орусча тушнобойтам</td>\n",
       "    </tr>\n",
       "    <tr>\n",
       "      <th>2025-03-18 12:26:40.791925</th>\n",
       "      <td>1043727495</td>\n",
       "      <td>1043727495</td>\n",
       "      <td>bro, i have a problem</td>\n",
       "    </tr>\n",
       "    <tr>\n",
       "      <th>2025-03-19 18:14:10.954150</th>\n",
       "      <td>1043727495</td>\n",
       "      <td>1043727495</td>\n",
       "      <td>bro, i have a problem</td>\n",
       "    </tr>\n",
       "    <tr>\n",
       "      <th>2025-03-19 18:14:26.127419</th>\n",
       "      <td>1043727495</td>\n",
       "      <td>1043727495</td>\n",
       "      <td>am i. bitch &amp;</td>\n",
       "    </tr>\n",
       "    <tr>\n",
       "      <th>2025-03-19 18:14:36.951433</th>\n",
       "      <td>1043727495</td>\n",
       "      <td>1043727495</td>\n",
       "      <td>okey</td>\n",
       "    </tr>\n",
       "  </tbody>\n",
       "</table>\n",
       "</div>"
      ],
      "text/plain": [
       "                               chat_id     user_id  \\\n",
       "timestamp                                            \n",
       "2025-03-15 17:27:15.972644  1043727495  1043727495   \n",
       "2025-03-15 18:11:04.661931  1043727495  1043727495   \n",
       "2025-03-15 18:17:35.187859  1043727495  1043727495   \n",
       "2025-03-15 18:19:34.469275  1043727495  1043727495   \n",
       "2025-03-15 18:21:42.412825  1043727495  1043727495   \n",
       "2025-03-15 18:29:42.714502  1043727495  1043727495   \n",
       "2025-03-15 18:34:48.063486  1043727495  1043727495   \n",
       "2025-03-15 18:34:59.118998  1043727495  1043727495   \n",
       "2025-03-15 18:41:04.948124  1043727495  1043727495   \n",
       "2025-03-15 18:42:17.451558  1043727495  1043727495   \n",
       "2025-03-15 18:42:52.399000  1043727495  1043727495   \n",
       "2025-03-15 23:02:49.378804  1043727495  1043727495   \n",
       "2025-03-15 23:03:00.774222  1043727495  1043727495   \n",
       "2025-03-15 23:03:19.370715  1043727495  1043727495   \n",
       "2025-03-15 23:33:37.563411  1043727495  1043727495   \n",
       "2025-03-15 23:33:40.060781  1043727495  1043727495   \n",
       "2025-03-15 23:33:42.309378  1043727495  1043727495   \n",
       "2025-03-15 23:33:44.475173  1043727495  1043727495   \n",
       "2025-03-15 23:33:46.404095  1043727495  1043727495   \n",
       "2025-03-15 23:33:48.317846  1043727495  1043727495   \n",
       "2025-03-15 23:33:51.206897  1043727495  1043727495   \n",
       "2025-03-16 00:33:33.112076  1043727495  1043727495   \n",
       "2025-03-16 00:34:24.664821  1043727495  1043727495   \n",
       "2025-03-16 00:35:52.734356  1043727495  1043727495   \n",
       "2025-03-16 00:36:08.074717  1043727495  1043727495   \n",
       "2025-03-16 00:39:16.275542  1043727495  1043727495   \n",
       "2025-03-16 00:47:10.436994  1043727495  1043727495   \n",
       "2025-03-16 00:47:23.816201  1043727495  1043727495   \n",
       "2025-03-16 00:47:40.992823  1043727495  1043727495   \n",
       "2025-03-16 00:48:11.819362  1043727495  1043727495   \n",
       "2025-03-16 00:48:30.642977  1043727495  1043727495   \n",
       "2025-03-18 12:26:40.791925  1043727495  1043727495   \n",
       "2025-03-19 18:14:10.954150  1043727495  1043727495   \n",
       "2025-03-19 18:14:26.127419  1043727495  1043727495   \n",
       "2025-03-19 18:14:36.951433  1043727495  1043727495   \n",
       "\n",
       "                                                                      content  \n",
       "timestamp                                                                      \n",
       "2025-03-15 17:27:15.972644                 i have mental problem with someone  \n",
       "2025-03-15 18:11:04.661931                         okay, ihave ,mental health  \n",
       "2025-03-15 18:17:35.187859  Hello, I’m writing this message to share my ex...  \n",
       "2025-03-15 18:19:34.469275                                              hello  \n",
       "2025-03-15 18:21:42.412825                                         hello suka  \n",
       "2025-03-15 18:29:42.714502                                        hello world  \n",
       "2025-03-15 18:34:48.063486                                             privet  \n",
       "2025-03-15 18:34:59.118998                                                sad  \n",
       "2025-03-15 18:41:04.948124                                   i have a problem  \n",
       "2025-03-15 18:42:17.451558                do you remeber history of our chat&  \n",
       "2025-03-15 18:42:52.399000                                              nigga  \n",
       "2025-03-15 23:02:49.378804                                   i have a problem  \n",
       "2025-03-15 23:03:00.774222                                  i afraid of women  \n",
       "2025-03-15 23:03:19.370715                     how can i sovel this problem &  \n",
       "2025-03-15 23:33:37.563411                                i have some problem  \n",
       "2025-03-15 23:33:40.060781                                                 to  \n",
       "2025-03-15 23:33:42.309378                                                 yo  \n",
       "2025-03-15 23:33:44.475173                                                 yo  \n",
       "2025-03-15 23:33:46.404095                                                bro  \n",
       "2025-03-15 23:33:48.317846                                                bro  \n",
       "2025-03-15 23:33:51.206897                                                bro  \n",
       "2025-03-16 00:33:33.112076  i have solve my problems , i have mental stabi...  \n",
       "2025-03-16 00:34:24.664821  ladimir Vladimirovich Putin is a Russian polit...  \n",
       "2025-03-16 00:35:52.734356                 bro i dont need a mental problesms  \n",
       "2025-03-16 00:36:08.074717                                i don't need a help  \n",
       "2025-03-16 00:39:16.275542                             i feel very nice today  \n",
       "2025-03-16 00:47:10.436994                                    у меня проблема  \n",
       "2025-03-16 00:47:23.816201                                 менде проблема бар  \n",
       "2025-03-16 00:47:40.992823                           сен кыргызча суйлоснбу ?  \n",
       "2025-03-16 00:48:11.819362                       мени ити башка дуйнодо кетти  \n",
       "2025-03-16 00:48:30.642977                             мен орусча тушнобойтам  \n",
       "2025-03-18 12:26:40.791925                              bro, i have a problem  \n",
       "2025-03-19 18:14:10.954150                              bro, i have a problem  \n",
       "2025-03-19 18:14:26.127419                                      am i. bitch &  \n",
       "2025-03-19 18:14:36.951433                                               okey  "
      ]
     },
     "execution_count": 14,
     "metadata": {},
     "output_type": "execute_result"
    }
   ],
   "source": [
    "df[df['user_id']==1043727495]"
   ]
  },
  {
   "cell_type": "code",
   "execution_count": 15,
   "metadata": {},
   "outputs": [
    {
     "data": {
      "image/png": "[encoded data removed]",
      "text/plain": [
       "<Figure size 1000x600 with 1 Axes>"
      ]
     },
     "metadata": {},
     "output_type": "display_data"
    }
   ],
   "source": [
    "message_counts = df[df['user_id']==1043727495].resample('D').size()\n",
    "def addlabels(x,y):\n",
    "    for i in range(len(x)):\n",
    "        plt.text(i, y[i], y[i], ha = 'center')\n",
    "# Plotting the bar chart\n",
    "plt.figure(figsize=(10, 6))\n",
    "x = message_counts.index.strftime('%Y-%m-%d')\n",
    "y=message_counts.values\n",
    "plt.bar(x, y)\n",
    "plt.bar(x, y)\n",
    "     \n",
    "    # calling the function to add value labels\n",
    "addlabels(x, y)\n",
    "\n",
    "plt.xlabel('Date (Year-Month-Day)')\n",
    "plt.ylabel('Count of Messages')\n",
    "plt.title('Count of Messages per Day')\n",
    "plt.xticks(rotation=45)  # Rotate date labels for better readability\n",
    "plt.tight_layout()\n",
    "plt.show()"
   ]
  },
  {
   "cell_type": "code",
   "execution_count": 16,
   "metadata": {},
   "outputs": [
    {
     "data": {
      "text/plain": [
       "array([21, 10,  0,  1,  3])"
      ]
     },
     "execution_count": 16,
     "metadata": {},
     "output_type": "execute_result"
    }
   ],
   "source": [
    "message_counts.values"
   ]
  },
  {
   "cell_type": "code",
   "execution_count": 17,
   "metadata": {},
   "outputs": [
    {
     "data": {
      "application/vnd.plotly.v1+json": {
       "config": {
        "plotlyServerURL": "https://plot.ly"
       },
       "data": [
        {
         "hovertemplate": "x=%{x}<br>y=%{y}<extra></extra>",
         "legendgroup": "",
         "line": {
          "color": "#636efa",
          "dash": "solid"
         },
         "marker": {
          "symbol": "circle"
         },
         "mode": "lines+markers",
         "name": "",
         "orientation": "v",
         "showlegend": false,
         "type": "scatter",
         "x": [
          "2025-03-15",
          "2025-03-16",
          "2025-03-17",
          "2025-03-18",
          "2025-03-19"
         ],
         "xaxis": "x",
         "y": {
          "bdata": "FQoAAQM=",
          "dtype": "i1"
         },
         "yaxis": "y"
        }
       ],
       "layout": {
        "legend": {
         "tracegroupgap": 0
        },
        "template": {
         "data": {
          "bar": [
           {
            "error_x": {
             "color": "#2a3f5f"
            },
            "error_y": {
             "color": "#2a3f5f"
            },
            "marker": {
             "line": {
              "color": "#E5ECF6",
              "width": 0.5
             },
             "pattern": {
              "fillmode": "overlay",
              "size": 10,
              "solidity": 0.2
             }
            },
            "type": "bar"
           }
          ],
          "barpolar": [
           {
            "marker": {
             "line": {
              "color": "#E5ECF6",
              "width": 0.5
             },
             "pattern": {
              "fillmode": "overlay",
              "size": 10,
              "solidity": 0.2
             }
            },
            "type": "barpolar"
           }
          ],
          "carpet": [
           {
            "aaxis": {
             "endlinecolor": "#2a3f5f",
             "gridcolor": "white",
             "linecolor": "white",
             "minorgridcolor": "white",
             "startlinecolor": "#2a3f5f"
            },
            "baxis": {
             "endlinecolor": "#2a3f5f",
             "gridcolor": "white",
             "linecolor": "white",
             "minorgridcolor": "white",
             "startlinecolor": "#2a3f5f"
            },
            "type": "carpet"
           }
          ],
          "choropleth": [
           {
            "colorbar": {
             "outlinewidth": 0,
             "ticks": ""
            },
            "type": "choropleth"
           }
          ],
          "contour": [
           {
            "colorbar": {
             "outlinewidth": 0,
             "ticks": ""
            },
            "colorscale": [
             [
              0,
              "#0d0887"
             ],
             [
              0.1111111111111111,
              "#46039f"
             ],
             [
              0.2222222222222222,
              "#7201a8"
             ],
             [
              0.3333333333333333,
              "#9c179e"
             ],
             [
              0.4444444444444444,
              "#bd3786"
             ],
             [
              0.5555555555555556,
              "#d8576b"
             ],
             [
              0.6666666666666666,
              "#ed7953"
             ],
             [
              0.7777777777777778,
              "#fb9f3a"
             ],
             [
              0.8888888888888888,
              "#fdca26"
             ],
             [
              1,
              "#f0f921"
             ]
            ],
            "type": "contour"
           }
          ],
          "contourcarpet": [
           {
            "colorbar": {
             "outlinewidth": 0,
             "ticks": ""
            },
            "type": "contourcarpet"
           }
          ],
          "heatmap": [
           {
            "colorbar": {
             "outlinewidth": 0,
             "ticks": ""
            },
            "colorscale": [
             [
              0,
              "#0d0887"
             ],
             [
              0.1111111111111111,
              "#46039f"
             ],
             [
              0.2222222222222222,
              "#7201a8"
             ],
             [
              0.3333333333333333,
              "#9c179e"
             ],
             [
              0.4444444444444444,
              "#bd3786"
             ],
             [
              0.5555555555555556,
              "#d8576b"
             ],
             [
              0.6666666666666666,
              "#ed7953"
             ],
             [
              0.7777777777777778,
              "#fb9f3a"
             ],
             [
              0.8888888888888888,
              "#fdca26"
             ],
             [
              1,
              "#f0f921"
             ]
            ],
            "type": "heatmap"
           }
          ],
          "histogram": [
           {
            "marker": {
             "pattern": {
              "fillmode": "overlay",
              "size": 10,
              "solidity": 0.2
             }
            },
            "type": "histogram"
           }
          ],
          "histogram2d": [
           {
            "colorbar": {
             "outlinewidth": 0,
             "ticks": ""
            },
            "colorscale": [
             [
              0,
              "#0d0887"
             ],
             [
              0.1111111111111111,
              "#46039f"
             ],
             [
              0.2222222222222222,
              "#7201a8"
             ],
             [
              0.3333333333333333,
              "#9c179e"
             ],
             [
              0.4444444444444444,
              "#bd3786"
             ],
             [
              0.5555555555555556,
              "#d8576b"
             ],
             [
              0.6666666666666666,
              "#ed7953"
             ],
             [
              0.7777777777777778,
              "#fb9f3a"
             ],
             [
              0.8888888888888888,
              "#fdca26"
             ],
             [
              1,
              "#f0f921"
             ]
            ],
            "type": "histogram2d"
           }
          ],
          "histogram2dcontour": [
           {
            "colorbar": {
             "outlinewidth": 0,
             "ticks": ""
            },
            "colorscale": [
             [
              0,
              "#0d0887"
             ],
             [
              0.1111111111111111,
              "#46039f"
             ],
             [
              0.2222222222222222,
              "#7201a8"
             ],
             [
              0.3333333333333333,
              "#9c179e"
             ],
             [
              0.4444444444444444,
              "#bd3786"
             ],
             [
              0.5555555555555556,
              "#d8576b"
             ],
             [
              0.6666666666666666,
              "#ed7953"
             ],
             [
              0.7777777777777778,
              "#fb9f3a"
             ],
             [
              0.8888888888888888,
              "#fdca26"
             ],
             [
              1,
              "#f0f921"
             ]
            ],
            "type": "histogram2dcontour"
           }
          ],
          "mesh3d": [
           {
            "colorbar": {
             "outlinewidth": 0,
             "ticks": ""
            },
            "type": "mesh3d"
           }
          ],
          "parcoords": [
           {
            "line": {
             "colorbar": {
              "outlinewidth": 0,
              "ticks": ""
             }
            },
            "type": "parcoords"
           }
          ],
          "pie": [
           {
            "automargin": true,
            "type": "pie"
           }
          ],
          "scatter": [
           {
            "fillpattern": {
             "fillmode": "overlay",
             "size": 10,
             "solidity": 0.2
            },
            "type": "scatter"
           }
          ],
          "scatter3d": [
           {
            "line": {
             "colorbar": {
              "outlinewidth": 0,
              "ticks": ""
             }
            },
            "marker": {
             "colorbar": {
              "outlinewidth": 0,
              "ticks": ""
             }
            },
            "type": "scatter3d"
           }
          ],
          "scattercarpet": [
           {
            "marker": {
             "colorbar": {
              "outlinewidth": 0,
              "ticks": ""
             }
            },
            "type": "scattercarpet"
           }
          ],
          "scattergeo": [
           {
            "marker": {
             "colorbar": {
              "outlinewidth": 0,
              "ticks": ""
             }
            },
            "type": "scattergeo"
           }
          ],
          "scattergl": [
           {
            "marker": {
             "colorbar": {
              "outlinewidth": 0,
              "ticks": ""
             }
            },
            "type": "scattergl"
           }
          ],
          "scattermap": [
           {
            "marker": {
             "colorbar": {
              "outlinewidth": 0,
              "ticks": ""
             }
            },
            "type": "scattermap"
           }
          ],
          "scattermapbox": [
           {
            "marker": {
             "colorbar": {
              "outlinewidth": 0,
              "ticks": ""
             }
            },
            "type": "scattermapbox"
           }
          ],
          "scatterpolar": [
           {
            "marker": {
             "colorbar": {
              "outlinewidth": 0,
              "ticks": ""
             }
            },
            "type": "scatterpolar"
           }
          ],
          "scatterpolargl": [
           {
            "marker": {
             "colorbar": {
              "outlinewidth": 0,
              "ticks": ""
             }
            },
            "type": "scatterpolargl"
           }
          ],
          "scatterternary": [
           {
            "marker": {
             "colorbar": {
              "outlinewidth": 0,
              "ticks": ""
             }
            },
            "type": "scatterternary"
           }
          ],
          "surface": [
           {
            "colorbar": {
             "outlinewidth": 0,
             "ticks": ""
            },
            "colorscale": [
             [
              0,
              "#0d0887"
             ],
             [
              0.1111111111111111,
              "#46039f"
             ],
             [
              0.2222222222222222,
              "#7201a8"
             ],
             [
              0.3333333333333333,
              "#9c179e"
             ],
             [
              0.4444444444444444,
              "#bd3786"
             ],
             [
              0.5555555555555556,
              "#d8576b"
             ],
             [
              0.6666666666666666,
              "#ed7953"
             ],
             [
              0.7777777777777778,
              "#fb9f3a"
             ],
             [
              0.8888888888888888,
              "#fdca26"
             ],
             [
              1,
              "#f0f921"
             ]
            ],
            "type": "surface"
           }
          ],
          "table": [
           {
            "cells": {
             "fill": {
              "color": "#EBF0F8"
             },
             "line": {
              "color": "white"
             }
            },
            "header": {
             "fill": {
              "color": "#C8D4E3"
             },
             "line": {
              "color": "white"
             }
            },
            "type": "table"
           }
          ]
         },
         "layout": {
          "annotationdefaults": {
           "arrowcolor": "#2a3f5f",
           "arrowhead": 0,
           "arrowwidth": 1
          },
          "autotypenumbers": "strict",
          "coloraxis": {
           "colorbar": {
            "outlinewidth": 0,
            "ticks": ""
           }
          },
          "colorscale": {
           "diverging": [
            [
             0,
             "#8e0152"
            ],
            [
             0.1,
             "#c51b7d"
            ],
            [
             0.2,
             "#de77ae"
            ],
            [
             0.3,
             "#f1b6da"
            ],
            [
             0.4,
             "#fde0ef"
            ],
            [
             0.5,
             "#f7f7f7"
            ],
            [
             0.6,
             "#e6f5d0"
            ],
            [
             0.7,
             "#b8e186"
            ],
            [
             0.8,
             "#7fbc41"
            ],
            [
             0.9,
             "#4d9221"
            ],
            [
             1,
             "#276419"
            ]
           ],
           "sequential": [
            [
             0,
             "#0d0887"
            ],
            [
             0.1111111111111111,
             "#46039f"
            ],
            [
             0.2222222222222222,
             "#7201a8"
            ],
            [
             0.3333333333333333,
             "#9c179e"
            ],
            [
             0.4444444444444444,
             "#bd3786"
            ],
            [
             0.5555555555555556,
             "#d8576b"
            ],
            [
             0.6666666666666666,
             "#ed7953"
            ],
            [
             0.7777777777777778,
             "#fb9f3a"
            ],
            [
             0.8888888888888888,
             "#fdca26"
            ],
            [
             1,
             "#f0f921"
            ]
           ],
           "sequentialminus": [
            [
             0,
             "#0d0887"
            ],
            [
             0.1111111111111111,
             "#46039f"
            ],
            [
             0.2222222222222222,
             "#7201a8"
            ],
            [
             0.3333333333333333,
             "#9c179e"
            ],
            [
             0.4444444444444444,
             "#bd3786"
            ],
            [
             0.5555555555555556,
             "#d8576b"
            ],
            [
             0.6666666666666666,
             "#ed7953"
            ],
            [
             0.7777777777777778,
             "#fb9f3a"
            ],
            [
             0.8888888888888888,
             "#fdca26"
            ],
            [
             1,
             "#f0f921"
            ]
           ]
          },
          "colorway": [
           "#636efa",
           "#EF553B",
           "#00cc96",
           "#ab63fa",
           "#FFA15A",
           "#19d3f3",
           "#FF6692",
           "#B6E880",
           "#FF97FF",
           "#FECB52"
          ],
          "font": {
           "color": "#2a3f5f"
          },
          "geo": {
           "bgcolor": "white",
           "lakecolor": "white",
           "landcolor": "#E5ECF6",
           "showlakes": true,
           "showland": true,
           "subunitcolor": "white"
          },
          "hoverlabel": {
           "align": "left"
          },
          "hovermode": "closest",
          "mapbox": {
           "style": "light"
          },
          "paper_bgcolor": "white",
          "plot_bgcolor": "#E5ECF6",
          "polar": {
           "angularaxis": {
            "gridcolor": "white",
            "linecolor": "white",
            "ticks": ""
           },
           "bgcolor": "#E5ECF6",
           "radialaxis": {
            "gridcolor": "white",
            "linecolor": "white",
            "ticks": ""
           }
          },
          "scene": {
           "xaxis": {
            "backgroundcolor": "#E5ECF6",
            "gridcolor": "white",
            "gridwidth": 2,
            "linecolor": "white",
            "showbackground": true,
            "ticks": "",
            "zerolinecolor": "white"
           },
           "yaxis": {
            "backgroundcolor": "#E5ECF6",
            "gridcolor": "white",
            "gridwidth": 2,
            "linecolor": "white",
            "showbackground": true,
            "ticks": "",
            "zerolinecolor": "white"
           },
           "zaxis": {
            "backgroundcolor": "#E5ECF6",
            "gridcolor": "white",
            "gridwidth": 2,
            "linecolor": "white",
            "showbackground": true,
            "ticks": "",
            "zerolinecolor": "white"
           }
          },
          "shapedefaults": {
           "line": {
            "color": "#2a3f5f"
           }
          },
          "ternary": {
           "aaxis": {
            "gridcolor": "white",
            "linecolor": "white",
            "ticks": ""
           },
           "baxis": {
            "gridcolor": "white",
            "linecolor": "white",
            "ticks": ""
           },
           "bgcolor": "#E5ECF6",
           "caxis": {
            "gridcolor": "white",
            "linecolor": "white",
            "ticks": ""
           }
          },
          "title": {
           "x": 0.05
          },
          "xaxis": {
           "automargin": true,
           "gridcolor": "white",
           "linecolor": "white",
           "ticks": "",
           "title": {
            "standoff": 15
           },
           "zerolinecolor": "white",
           "zerolinewidth": 2
          },
          "yaxis": {
           "automargin": true,
           "gridcolor": "white",
           "linecolor": "white",
           "ticks": "",
           "title": {
            "standoff": 15
           },
           "zerolinecolor": "white",
           "zerolinewidth": 2
          }
         }
        },
        "title": {
         "text": "Count messages"
        },
        "xaxis": {
         "anchor": "y",
         "domain": [
          0,
          1
         ],
         "title": {
          "text": "x"
         }
        },
        "yaxis": {
         "anchor": "x",
         "domain": [
          0,
          1
         ],
         "title": {
          "text": "y"
         }
        }
       }
      }
     },
     "metadata": {},
     "output_type": "display_data"
    },
    {
     "data": {
      "text/plain": [
       "<Figure size 1000x600 with 0 Axes>"
      ]
     },
     "metadata": {},
     "output_type": "display_data"
    }
   ],
   "source": [
    "# Import packages\n",
    "from dash import Dash, html, dash_table, dcc\n",
    "import pandas as pd\n",
    "import plotly.express as px\n",
    "\n",
    "# Incorporate data\n",
    "message_counts = df[df['user_id']==1043727495].resample('D').size()\n",
    "def addlabels(x,y):\n",
    "    for i in range(len(x)):\n",
    "        plt.text(i, y[i], y[i], ha = 'center')\n",
    "# Plotting the bar chart\n",
    "plt.figure(figsize=(10, 6))\n",
    "x = message_counts.index.strftime('%Y-%m-%d')\n",
    "y=message_counts.values\n",
    "fig = px.line( x=x, y=y, title='Count messages',markers=True)\n",
    "fig.show()\n",
    "\n"
   ]
  },
  {
   "cell_type": "code",
   "execution_count": 18,
   "metadata": {},
   "outputs": [
    {
     "data": {
      "text/html": [
       "\n",
       "        <iframe\n",
       "            width=\"100%\"\n",
       "            height=\"650\"\n",
       "            src=\"http://127.0.0.1:8050/\"\n",
       "            frameborder=\"0\"\n",
       "            allowfullscreen\n",
       "            \n",
       "        ></iframe>\n",
       "        "
      ],
      "text/plain": [
       "<IPython.lib.display.IFrame at 0x123f5e120>"
      ]
     },
     "metadata": {},
     "output_type": "display_data"
    },
    {
     "name": "stdout",
     "output_type": "stream",
     "text": [
      "---------------------------------------------------------------------------\n",
      "KeyError                                  Traceback (most recent call last)\n",
      "File /Library/Frameworks/Python.framework/Versions/3.13/lib/python3.13/site-packages/pandas/core/indexes/base.py:3805, in Index.get_loc(\n",
      "    self=Index(['date', 'frequency'], dtype='object'),\n",
      "    key='user_id'\n",
      ")\n",
      "   3804 try:\n",
      "-> 3805     return self._engine.get_loc(casted_key)\n",
      "        casted_key = 'user_id'\n",
      "        self = Index(['date', 'frequency'], dtype='object')\n",
      "   3806 except KeyError as err:\n",
      "\n",
      "File index.pyx:167, in pandas._libs.index.IndexEngine.get_loc()\n",
      "\n",
      "File index.pyx:196, in pandas._libs.index.IndexEngine.get_loc()\n",
      "\n",
      "File pandas/_libs/hashtable_class_helper.pxi:7081, in pandas._libs.hashtable.PyObjectHashTable.get_item()\n",
      "\n",
      "File pandas/_libs/hashtable_class_helper.pxi:7089, in pandas._libs.hashtable.PyObjectHashTable.get_item()\n",
      "\n",
      "KeyError: 'user_id'\n",
      "\n",
      "The above exception was the direct cause of the following exception:\n",
      "\n",
      "KeyError                                  Traceback (most recent call last)\n",
      "Cell In[18], line 22, in update_graph(n_clicks=0)\n",
      "     16 @app.callback(\n",
      "     17     Output(\"message-chart\", \"figure\"),\n",
      "     18     Input(\"update-button\", \"n_clicks\")\n",
      "     19 )\n",
      "     20 def update_graph(n_clicks):\n",
      "     21     # Filter data for the specific user and compute daily message counts\n",
      "---> 22     message_counts = df[df['user_id'] == 1043727495].resample('D').size()\n",
      "        message_counts = timestamp\n",
      "2025-03-15    21\n",
      "2025-03-16    10\n",
      "2025-03-17     0\n",
      "2025-03-18     1\n",
      "2025-03-19     3\n",
      "Freq: D, dtype: int64\n",
      "        df =          date  frequency\n",
      "0  15/03/2025         21\n",
      "1  16/03/2025         10\n",
      "2  18/03/2025          1\n",
      "3  19/03/2025          3\n",
      "     24     # Convert the index to string for better x-axis formatting\n",
      "     25     x = message_counts.index.strftime('%Y-%m-%d')\n",
      "\n",
      "File /Library/Frameworks/Python.framework/Versions/3.13/lib/python3.13/site-packages/pandas/core/frame.py:4102, in DataFrame.__getitem__(\n",
      "    self=         date  frequency\n",
      "0  15/03/2025         2...2  18/03/2025          1\n",
      "3  19/03/2025          3,\n",
      "    key='user_id'\n",
      ")\n",
      "   4100 if self.columns.nlevels > 1:\n",
      "   4101     return self._getitem_multilevel(key)\n",
      "-> 4102 indexer = self.columns.get_loc(key)\n",
      "        key = 'user_id'\n",
      "        self =          date  frequency\n",
      "0  15/03/2025         21\n",
      "1  16/03/2025         10\n",
      "2  18/03/2025          1\n",
      "3  19/03/2025          3\n",
      "   4103 if is_integer(indexer):\n",
      "   4104     indexer = [indexer]\n",
      "\n",
      "File /Library/Frameworks/Python.framework/Versions/3.13/lib/python3.13/site-packages/pandas/core/indexes/base.py:3812, in Index.get_loc(\n",
      "    self=Index(['date', 'frequency'], dtype='object'),\n",
      "    key='user_id'\n",
      ")\n",
      "   3807     if isinstance(casted_key, slice) or (\n",
      "   3808         isinstance(casted_key, abc.Iterable)\n",
      "   3809         and any(isinstance(x, slice) for x in casted_key)\n",
      "   3810     ):\n",
      "   3811         raise InvalidIndexError(key)\n",
      "-> 3812     raise KeyError(key) from err\n",
      "        key = 'user_id'\n",
      "   3813 except TypeError:\n",
      "   3814     # If we have a listlike key, _check_indexing_error will raise\n",
      "   3815     #  InvalidIndexError. Otherwise we fall through and re-raise\n",
      "   3816     #  the TypeError.\n",
      "   3817     self._check_indexing_error(key)\n",
      "\n",
      "KeyError: 'user_id'\n",
      "\n"
     ]
    },
    {
     "name": "stderr",
     "output_type": "stream",
     "text": [
      "Exception in thread Thread-4 (<lambda>):\n",
      "Traceback (most recent call last):\n",
      "  File \u001b[35m\"/Library/Frameworks/Python.framework/Versions/3.13/lib/python3.13/threading.py\"\u001b[0m, line \u001b[35m1041\u001b[0m, in \u001b[35m_bootstrap_inner\u001b[0m\n",
      "    \u001b[31mself.run\u001b[0m\u001b[1;31m()\u001b[0m\n",
      "    \u001b[31m~~~~~~~~\u001b[0m\u001b[1;31m^^\u001b[0m\n",
      "  File \u001b[35m\"/Library/Frameworks/Python.framework/Versions/3.13/lib/python3.13/site-packages/ipykernel/ipkernel.py\"\u001b[0m, line \u001b[35m766\u001b[0m, in \u001b[35mrun_closure\u001b[0m\n",
      "    \u001b[31m_threading_Thread_run\u001b[0m\u001b[1;31m(self)\u001b[0m\n",
      "    \u001b[31m~~~~~~~~~~~~~~~~~~~~~\u001b[0m\u001b[1;31m^^^^^^\u001b[0m\n",
      "  File \u001b[35m\"/Library/Frameworks/Python.framework/Versions/3.13/lib/python3.13/threading.py\"\u001b[0m, line \u001b[35m992\u001b[0m, in \u001b[35mrun\u001b[0m\n",
      "    \u001b[31mself._target\u001b[0m\u001b[1;31m(*self._args, **self._kwargs)\u001b[0m\n",
      "    \u001b[31m~~~~~~~~~~~~\u001b[0m\u001b[1;31m^^^^^^^^^^^^^^^^^^^^^^^^^^^^^\u001b[0m\n",
      "  File \u001b[35m\"/Library/Frameworks/Python.framework/Versions/3.13/lib/python3.13/site-packages/dash/dash.py\"\u001b[0m, line \u001b[35m1927\u001b[0m, in \u001b[35m<lambda>\u001b[0m\n",
      "    target=lambda: \u001b[31m_watch.watch\u001b[0m\u001b[1;31m(\u001b[0m\n",
      "                   \u001b[31m~~~~~~~~~~~~\u001b[0m\u001b[1;31m^\u001b[0m\n",
      "        \u001b[1;31m[self.config.assets_folder] + component_packages_dist,\u001b[0m\n",
      "        \u001b[1;31m^^^^^^^^^^^^^^^^^^^^^^^^^^^^^^^^^^^^^^^^^^^^^^^^^^^^^^\u001b[0m\n",
      "        \u001b[1;31mself._on_assets_change,\u001b[0m\n",
      "        \u001b[1;31m^^^^^^^^^^^^^^^^^^^^^^^\u001b[0m\n",
      "        \u001b[1;31msleep_time=dev_tools.hot_reload_watch_interval,\u001b[0m\n",
      "        \u001b[1;31m^^^^^^^^^^^^^^^^^^^^^^^^^^^^^^^^^^^^^^^^^^^^^^^\u001b[0m\n",
      "    \u001b[1;31m)\u001b[0m\n",
      "    \u001b[1;31m^\u001b[0m\n",
      "  File \u001b[35m\"/Library/Frameworks/Python.framework/Versions/3.13/lib/python3.13/site-packages/dash/_watch.py\"\u001b[0m, line \u001b[35m35\u001b[0m, in \u001b[35mwatch\u001b[0m\n",
      "    \u001b[31mwalk\u001b[0m\u001b[1;31m()\u001b[0m\n",
      "    \u001b[31m~~~~\u001b[0m\u001b[1;31m^^\u001b[0m\n",
      "  File \u001b[35m\"/Library/Frameworks/Python.framework/Versions/3.13/lib/python3.13/site-packages/dash/_watch.py\"\u001b[0m, line \u001b[35m20\u001b[0m, in \u001b[35mwalk\u001b[0m\n",
      "    info = os.stat(path)\n",
      "\u001b[1;35mFileNotFoundError\u001b[0m: \u001b[35m[Errno 2] No such file or directory: '/Library/Frameworks/Python.framework/Versions/3.13/lib/python3.13/site-packages/dash/html/__pycache__/Progress.cpython-313.pyc.4384074096'\u001b[0m\n"
     ]
    },
    {
     "name": "stdout",
     "output_type": "stream",
     "text": [
      "---------------------------------------------------------------------------\n",
      "KeyError                                  Traceback (most recent call last)\n",
      "File /Library/Frameworks/Python.framework/Versions/3.13/lib/python3.13/site-packages/pandas/core/indexes/base.py:3805, in Index.get_loc(\n",
      "    self=Index(['timestamp', 'date_iso'], dtype='object'),\n",
      "    key='user_id'\n",
      ")\n",
      "   3804 try:\n",
      "-> 3805     return self._engine.get_loc(casted_key)\n",
      "        casted_key = 'user_id'\n",
      "        self = Index(['timestamp', 'date_iso'], dtype='object')\n",
      "   3806 except KeyError as err:\n",
      "\n",
      "File index.pyx:167, in pandas._libs.index.IndexEngine.get_loc()\n",
      "\n",
      "File index.pyx:196, in pandas._libs.index.IndexEngine.get_loc()\n",
      "\n",
      "File pandas/_libs/hashtable_class_helper.pxi:7081, in pandas._libs.hashtable.PyObjectHashTable.get_item()\n",
      "\n",
      "File pandas/_libs/hashtable_class_helper.pxi:7089, in pandas._libs.hashtable.PyObjectHashTable.get_item()\n",
      "\n",
      "KeyError: 'user_id'\n",
      "\n",
      "The above exception was the direct cause of the following exception:\n",
      "\n",
      "KeyError                                  Traceback (most recent call last)\n",
      "Cell In[18], line 22, in update_graph(n_clicks=0)\n",
      "     16 @app.callback(\n",
      "     17     Output(\"message-chart\", \"figure\"),\n",
      "     18     Input(\"update-button\", \"n_clicks\")\n",
      "     19 )\n",
      "     20 def update_graph(n_clicks):\n",
      "     21     # Filter data for the specific user and compute daily message counts\n",
      "---> 22     message_counts = df[df['user_id'] == 1043727495].resample('D').size()\n",
      "        message_counts = timestamp\n",
      "2025-03-15    21\n",
      "2025-03-16    10\n",
      "2025-03-17     0\n",
      "2025-03-18     1\n",
      "2025-03-19     3\n",
      "Freq: D, dtype: int64\n",
      "        df =                    timestamp    date_iso\n",
      "0 2025-03-15 17:27:04.984519  2025-03-15\n",
      "1 2025-03-15 17:27:08.699008  2025-03-15\n",
      "2 2025-03-15 17:27:14.049697  2025-03-15\n",
      "3 2025-03-15 18:03:20.933122  2025-03-15\n",
      "4 2025-03-15 18:03:43.084590  2025-03-15\n",
      "5 2025-03-15 18:03:46.845586  2025-03-15\n",
      "6 2025-03-15 18:04:00.395606  2025-03-15\n",
      "7 2025-03-15 18:16:04.873397  2025-03-15\n",
      "8 2025-03-15 18:29:28.687003  2025-03-15\n",
      "9 2025-03-20 14:00:53.533507  2025-03-20\n",
      "     24     # Convert the index to string for better x-axis formatting\n",
      "     25     x = message_counts.index.strftime('%Y-%m-%d')\n",
      "\n",
      "File /Library/Frameworks/Python.framework/Versions/3.13/lib/python3.13/site-packages/pandas/core/frame.py:4102, in DataFrame.__getitem__(\n",
      "    self=                   timestamp    date_iso\n",
      "0 2025-...25-03-15\n",
      "9 2025-03-20 14:00:53.533507  2025-03-20,\n",
      "    key='user_id'\n",
      ")\n",
      "   4100 if self.columns.nlevels > 1:\n",
      "   4101     return self._getitem_multilevel(key)\n",
      "-> 4102 indexer = self.columns.get_loc(key)\n",
      "        key = 'user_id'\n",
      "        self =                    timestamp    date_iso\n",
      "0 2025-03-15 17:27:04.984519  2025-03-15\n",
      "1 2025-03-15 17:27:08.699008  2025-03-15\n",
      "2 2025-03-15 17:27:14.049697  2025-03-15\n",
      "3 2025-03-15 18:03:20.933122  2025-03-15\n",
      "4 2025-03-15 18:03:43.084590  2025-03-15\n",
      "5 2025-03-15 18:03:46.845586  2025-03-15\n",
      "6 2025-03-15 18:04:00.395606  2025-03-15\n",
      "7 2025-03-15 18:16:04.873397  2025-03-15\n",
      "8 2025-03-15 18:29:28.687003  2025-03-15\n",
      "9 2025-03-20 14:00:53.533507  2025-03-20\n",
      "   4103 if is_integer(indexer):\n",
      "   4104     indexer = [indexer]\n",
      "\n",
      "File /Library/Frameworks/Python.framework/Versions/3.13/lib/python3.13/site-packages/pandas/core/indexes/base.py:3812, in Index.get_loc(\n",
      "    self=Index(['timestamp', 'date_iso'], dtype='object'),\n",
      "    key='user_id'\n",
      ")\n",
      "   3807     if isinstance(casted_key, slice) or (\n",
      "   3808         isinstance(casted_key, abc.Iterable)\n",
      "   3809         and any(isinstance(x, slice) for x in casted_key)\n",
      "   3810     ):\n",
      "   3811         raise InvalidIndexError(key)\n",
      "-> 3812     raise KeyError(key) from err\n",
      "        key = 'user_id'\n",
      "   3813 except TypeError:\n",
      "   3814     # If we have a listlike key, _check_indexing_error will raise\n",
      "   3815     #  InvalidIndexError. Otherwise we fall through and re-raise\n",
      "   3816     #  the TypeError.\n",
      "   3817     self._check_indexing_error(key)\n",
      "\n",
      "KeyError: 'user_id'\n",
      "\n"
     ]
    }
   ],
   "source": [
    "from dash import Dash, html, dcc, Input, Output\n",
    "import pandas as pd\n",
    "import plotly.express as px\n",
    "\n",
    "\n",
    "# Create the Dash app instance\n",
    "app = Dash(__name__)\n",
    "\n",
    "# Layout: A button and a graph component\n",
    "app.layout = html.Div([\n",
    "    html.Button(\"Update Graph\", id=\"update-button\", n_clicks=0),\n",
    "    dcc.Graph(id=\"message-chart\")\n",
    "])\n",
    "\n",
    "# Callback: When the button is clicked, update the chart.\n",
    "@app.callback(\n",
    "    Output(\"message-chart\", \"figure\"),\n",
    "    Input(\"update-button\", \"n_clicks\")\n",
    ")\n",
    "def update_graph(n_clicks):\n",
    "    # Filter data for the specific user and compute daily message counts\n",
    "    message_counts = df[df['user_id'] == 1043727495].resample('D').size()\n",
    "    \n",
    "    # Convert the index to string for better x-axis formatting\n",
    "    x = message_counts.index.strftime('%Y-%m-%d')\n",
    "    y = message_counts.values\n",
    "    \n",
    "    # Create a Plotly Express line chart with markers\n",
    "    fig = px.line(x=x, y=y, title='Count messages', markers=True)\n",
    "    return fig\n",
    "\n",
    "if __name__ == '__main__':\n",
    "    app.run(debug=True)"
   ]
  },
  {
   "cell_type": "code",
   "execution_count": 26,
   "metadata": {},
   "outputs": [
    {
     "data": {
      "application/vnd.plotly.v1+json": {
       "config": {
        "plotlyServerURL": "https://plot.ly"
       },
       "data": [
        {
         "hovertemplate": "Date=%{x}<br>Frequency=%{y}<extra></extra>",
         "legendgroup": "",
         "marker": {
          "color": "#636efa",
          "pattern": {
           "shape": ""
          }
         },
         "name": "",
         "orientation": "v",
         "showlegend": false,
         "textposition": "auto",
         "type": "bar",
         "x": [
          "15/03/2025",
          "16/03/2025",
          "17/03/2025",
          "18/03/2025",
          "19/03/2025",
          "20/03/2025"
         ],
         "xaxis": "x",
         "y": {
          "bdata": "AAAAAAAAIkAAAAAAAAAAAAAAAAAAAAAAAAAAAAAAAAAAAAAAAAAAAAAAAAAAAPA/",
          "dtype": "f8"
         },
         "yaxis": "y"
        }
       ],
       "layout": {
        "barmode": "relative",
        "legend": {
         "tracegroupgap": 0
        },
        "template": {
         "data": {
          "bar": [
           {
            "error_x": {
             "color": "#2a3f5f"
            },
            "error_y": {
             "color": "#2a3f5f"
            },
            "marker": {
             "line": {
              "color": "#E5ECF6",
              "width": 0.5
             },
             "pattern": {
              "fillmode": "overlay",
              "size": 10,
              "solidity": 0.2
             }
            },
            "type": "bar"
           }
          ],
          "barpolar": [
           {
            "marker": {
             "line": {
              "color": "#E5ECF6",
              "width": 0.5
             },
             "pattern": {
              "fillmode": "overlay",
              "size": 10,
              "solidity": 0.2
             }
            },
            "type": "barpolar"
           }
          ],
          "carpet": [
           {
            "aaxis": {
             "endlinecolor": "#2a3f5f",
             "gridcolor": "white",
             "linecolor": "white",
             "minorgridcolor": "white",
             "startlinecolor": "#2a3f5f"
            },
            "baxis": {
             "endlinecolor": "#2a3f5f",
             "gridcolor": "white",
             "linecolor": "white",
             "minorgridcolor": "white",
             "startlinecolor": "#2a3f5f"
            },
            "type": "carpet"
           }
          ],
          "choropleth": [
           {
            "colorbar": {
             "outlinewidth": 0,
             "ticks": ""
            },
            "type": "choropleth"
           }
          ],
          "contour": [
           {
            "colorbar": {
             "outlinewidth": 0,
             "ticks": ""
            },
            "colorscale": [
             [
              0,
              "#0d0887"
             ],
             [
              0.1111111111111111,
              "#46039f"
             ],
             [
              0.2222222222222222,
              "#7201a8"
             ],
             [
              0.3333333333333333,
              "#9c179e"
             ],
             [
              0.4444444444444444,
              "#bd3786"
             ],
             [
              0.5555555555555556,
              "#d8576b"
             ],
             [
              0.6666666666666666,
              "#ed7953"
             ],
             [
              0.7777777777777778,
              "#fb9f3a"
             ],
             [
              0.8888888888888888,
              "#fdca26"
             ],
             [
              1,
              "#f0f921"
             ]
            ],
            "type": "contour"
           }
          ],
          "contourcarpet": [
           {
            "colorbar": {
             "outlinewidth": 0,
             "ticks": ""
            },
            "type": "contourcarpet"
           }
          ],
          "heatmap": [
           {
            "colorbar": {
             "outlinewidth": 0,
             "ticks": ""
            },
            "colorscale": [
             [
              0,
              "#0d0887"
             ],
             [
              0.1111111111111111,
              "#46039f"
             ],
             [
              0.2222222222222222,
              "#7201a8"
             ],
             [
              0.3333333333333333,
              "#9c179e"
             ],
             [
              0.4444444444444444,
              "#bd3786"
             ],
             [
              0.5555555555555556,
              "#d8576b"
             ],
             [
              0.6666666666666666,
              "#ed7953"
             ],
             [
              0.7777777777777778,
              "#fb9f3a"
             ],
             [
              0.8888888888888888,
              "#fdca26"
             ],
             [
              1,
              "#f0f921"
             ]
            ],
            "type": "heatmap"
           }
          ],
          "histogram": [
           {
            "marker": {
             "pattern": {
              "fillmode": "overlay",
              "size": 10,
              "solidity": 0.2
             }
            },
            "type": "histogram"
           }
          ],
          "histogram2d": [
           {
            "colorbar": {
             "outlinewidth": 0,
             "ticks": ""
            },
            "colorscale": [
             [
              0,
              "#0d0887"
             ],
             [
              0.1111111111111111,
              "#46039f"
             ],
             [
              0.2222222222222222,
              "#7201a8"
             ],
             [
              0.3333333333333333,
              "#9c179e"
             ],
             [
              0.4444444444444444,
              "#bd3786"
             ],
             [
              0.5555555555555556,
              "#d8576b"
             ],
             [
              0.6666666666666666,
              "#ed7953"
             ],
             [
              0.7777777777777778,
              "#fb9f3a"
             ],
             [
              0.8888888888888888,
              "#fdca26"
             ],
             [
              1,
              "#f0f921"
             ]
            ],
            "type": "histogram2d"
           }
          ],
          "histogram2dcontour": [
           {
            "colorbar": {
             "outlinewidth": 0,
             "ticks": ""
            },
            "colorscale": [
             [
              0,
              "#0d0887"
             ],
             [
              0.1111111111111111,
              "#46039f"
             ],
             [
              0.2222222222222222,
              "#7201a8"
             ],
             [
              0.3333333333333333,
              "#9c179e"
             ],
             [
              0.4444444444444444,
              "#bd3786"
             ],
             [
              0.5555555555555556,
              "#d8576b"
             ],
             [
              0.6666666666666666,
              "#ed7953"
             ],
             [
              0.7777777777777778,
              "#fb9f3a"
             ],
             [
              0.8888888888888888,
              "#fdca26"
             ],
             [
              1,
              "#f0f921"
             ]
            ],
            "type": "histogram2dcontour"
           }
          ],
          "mesh3d": [
           {
            "colorbar": {
             "outlinewidth": 0,
             "ticks": ""
            },
            "type": "mesh3d"
           }
          ],
          "parcoords": [
           {
            "line": {
             "colorbar": {
              "outlinewidth": 0,
              "ticks": ""
             }
            },
            "type": "parcoords"
           }
          ],
          "pie": [
           {
            "automargin": true,
            "type": "pie"
           }
          ],
          "scatter": [
           {
            "fillpattern": {
             "fillmode": "overlay",
             "size": 10,
             "solidity": 0.2
            },
            "type": "scatter"
           }
          ],
          "scatter3d": [
           {
            "line": {
             "colorbar": {
              "outlinewidth": 0,
              "ticks": ""
             }
            },
            "marker": {
             "colorbar": {
              "outlinewidth": 0,
              "ticks": ""
             }
            },
            "type": "scatter3d"
           }
          ],
          "scattercarpet": [
           {
            "marker": {
             "colorbar": {
              "outlinewidth": 0,
              "ticks": ""
             }
            },
            "type": "scattercarpet"
           }
          ],
          "scattergeo": [
           {
            "marker": {
             "colorbar": {
              "outlinewidth": 0,
              "ticks": ""
             }
            },
            "type": "scattergeo"
           }
          ],
          "scattergl": [
           {
            "marker": {
             "colorbar": {
              "outlinewidth": 0,
              "ticks": ""
             }
            },
            "type": "scattergl"
           }
          ],
          "scattermap": [
           {
            "marker": {
             "colorbar": {
              "outlinewidth": 0,
              "ticks": ""
             }
            },
            "type": "scattermap"
           }
          ],
          "scattermapbox": [
           {
            "marker": {
             "colorbar": {
              "outlinewidth": 0,
              "ticks": ""
             }
            },
            "type": "scattermapbox"
           }
          ],
          "scatterpolar": [
           {
            "marker": {
             "colorbar": {
              "outlinewidth": 0,
              "ticks": ""
             }
            },
            "type": "scatterpolar"
           }
          ],
          "scatterpolargl": [
           {
            "marker": {
             "colorbar": {
              "outlinewidth": 0,
              "ticks": ""
             }
            },
            "type": "scatterpolargl"
           }
          ],
          "scatterternary": [
           {
            "marker": {
             "colorbar": {
              "outlinewidth": 0,
              "ticks": ""
             }
            },
            "type": "scatterternary"
           }
          ],
          "surface": [
           {
            "colorbar": {
             "outlinewidth": 0,
             "ticks": ""
            },
            "colorscale": [
             [
              0,
              "#0d0887"
             ],
             [
              0.1111111111111111,
              "#46039f"
             ],
             [
              0.2222222222222222,
              "#7201a8"
             ],
             [
              0.3333333333333333,
              "#9c179e"
             ],
             [
              0.4444444444444444,
              "#bd3786"
             ],
             [
              0.5555555555555556,
              "#d8576b"
             ],
             [
              0.6666666666666666,
              "#ed7953"
             ],
             [
              0.7777777777777778,
              "#fb9f3a"
             ],
             [
              0.8888888888888888,
              "#fdca26"
             ],
             [
              1,
              "#f0f921"
             ]
            ],
            "type": "surface"
           }
          ],
          "table": [
           {
            "cells": {
             "fill": {
              "color": "#EBF0F8"
             },
             "line": {
              "color": "white"
             }
            },
            "header": {
             "fill": {
              "color": "#C8D4E3"
             },
             "line": {
              "color": "white"
             }
            },
            "type": "table"
           }
          ]
         },
         "layout": {
          "annotationdefaults": {
           "arrowcolor": "#2a3f5f",
           "arrowhead": 0,
           "arrowwidth": 1
          },
          "autotypenumbers": "strict",
          "coloraxis": {
           "colorbar": {
            "outlinewidth": 0,
            "ticks": ""
           }
          },
          "colorscale": {
           "diverging": [
            [
             0,
             "#8e0152"
            ],
            [
             0.1,
             "#c51b7d"
            ],
            [
             0.2,
             "#de77ae"
            ],
            [
             0.3,
             "#f1b6da"
            ],
            [
             0.4,
             "#fde0ef"
            ],
            [
             0.5,
             "#f7f7f7"
            ],
            [
             0.6,
             "#e6f5d0"
            ],
            [
             0.7,
             "#b8e186"
            ],
            [
             0.8,
             "#7fbc41"
            ],
            [
             0.9,
             "#4d9221"
            ],
            [
             1,
             "#276419"
            ]
           ],
           "sequential": [
            [
             0,
             "#0d0887"
            ],
            [
             0.1111111111111111,
             "#46039f"
            ],
            [
             0.2222222222222222,
             "#7201a8"
            ],
            [
             0.3333333333333333,
             "#9c179e"
            ],
            [
             0.4444444444444444,
             "#bd3786"
            ],
            [
             0.5555555555555556,
             "#d8576b"
            ],
            [
             0.6666666666666666,
             "#ed7953"
            ],
            [
             0.7777777777777778,
             "#fb9f3a"
            ],
            [
             0.8888888888888888,
             "#fdca26"
            ],
            [
             1,
             "#f0f921"
            ]
           ],
           "sequentialminus": [
            [
             0,
             "#0d0887"
            ],
            [
             0.1111111111111111,
             "#46039f"
            ],
            [
             0.2222222222222222,
             "#7201a8"
            ],
            [
             0.3333333333333333,
             "#9c179e"
            ],
            [
             0.4444444444444444,
             "#bd3786"
            ],
            [
             0.5555555555555556,
             "#d8576b"
            ],
            [
             0.6666666666666666,
             "#ed7953"
            ],
            [
             0.7777777777777778,
             "#fb9f3a"
            ],
            [
             0.8888888888888888,
             "#fdca26"
            ],
            [
             1,
             "#f0f921"
            ]
           ]
          },
          "colorway": [
           "#636efa",
           "#EF553B",
           "#00cc96",
           "#ab63fa",
           "#FFA15A",
           "#19d3f3",
           "#FF6692",
           "#B6E880",
           "#FF97FF",
           "#FECB52"
          ],
          "font": {
           "color": "#2a3f5f"
          },
          "geo": {
           "bgcolor": "white",
           "lakecolor": "white",
           "landcolor": "#E5ECF6",
           "showlakes": true,
           "showland": true,
           "subunitcolor": "white"
          },
          "hoverlabel": {
           "align": "left"
          },
          "hovermode": "closest",
          "mapbox": {
           "style": "light"
          },
          "paper_bgcolor": "white",
          "plot_bgcolor": "#E5ECF6",
          "polar": {
           "angularaxis": {
            "gridcolor": "white",
            "linecolor": "white",
            "ticks": ""
           },
           "bgcolor": "#E5ECF6",
           "radialaxis": {
            "gridcolor": "white",
            "linecolor": "white",
            "ticks": ""
           }
          },
          "scene": {
           "xaxis": {
            "backgroundcolor": "#E5ECF6",
            "gridcolor": "white",
            "gridwidth": 2,
            "linecolor": "white",
            "showbackground": true,
            "ticks": "",
            "zerolinecolor": "white"
           },
           "yaxis": {
            "backgroundcolor": "#E5ECF6",
            "gridcolor": "white",
            "gridwidth": 2,
            "linecolor": "white",
            "showbackground": true,
            "ticks": "",
            "zerolinecolor": "white"
           },
           "zaxis": {
            "backgroundcolor": "#E5ECF6",
            "gridcolor": "white",
            "gridwidth": 2,
            "linecolor": "white",
            "showbackground": true,
            "ticks": "",
            "zerolinecolor": "white"
           }
          },
          "shapedefaults": {
           "line": {
            "color": "#2a3f5f"
           }
          },
          "ternary": {
           "aaxis": {
            "gridcolor": "white",
            "linecolor": "white",
            "ticks": ""
           },
           "baxis": {
            "gridcolor": "white",
            "linecolor": "white",
            "ticks": ""
           },
           "bgcolor": "#E5ECF6",
           "caxis": {
            "gridcolor": "white",
            "linecolor": "white",
            "ticks": ""
           }
          },
          "title": {
           "x": 0.05
          },
          "xaxis": {
           "automargin": true,
           "gridcolor": "white",
           "linecolor": "white",
           "ticks": "",
           "title": {
            "standoff": 15
           },
           "zerolinecolor": "white",
           "zerolinewidth": 2
          },
          "yaxis": {
           "automargin": true,
           "gridcolor": "white",
           "linecolor": "white",
           "ticks": "",
           "title": {
            "standoff": 15
           },
           "zerolinecolor": "white",
           "zerolinewidth": 2
          }
         }
        },
        "title": {
         "text": "Message Frequency by Date"
        },
        "xaxis": {
         "anchor": "y",
         "domain": [
          0,
          1
         ],
         "title": {
          "text": "Date"
         }
        },
        "yaxis": {
         "anchor": "x",
         "domain": [
          0,
          1
         ],
         "title": {
          "text": "Frequency"
         }
        }
       }
      }
     },
     "metadata": {},
     "output_type": "display_data"
    }
   ],
   "source": [
    "import sqlite3\n",
    "import pandas as pd\n",
    "import plotly.express as px\n",
    "\n",
    "# Connect to the SQLite database\n",
    "conn = sqlite3.connect(\"telegram_bot.db\")\n",
    "\n",
    "# Query: we use an intermediate date format (YYYY-MM-DD) for proper sorting\n",
    "query = \"\"\"\n",
    "    SELECT strftime('%Y-%m-%d', timestamp) AS date, \n",
    "           COUNT(*) AS frequency\n",
    "    FROM Messages\n",
    "    WHERE user_id = ?\n",
    "    GROUP BY date;\n",
    "\"\"\"\n",
    "user_id = 779345437\n",
    "\n",
    "# Load the data into a DataFrame\n",
    "df = pd.read_sql_query(query, conn, params=(user_id,))\n",
    "\n",
    "# Convert 'date' column to datetime\n",
    "df['date'] = pd.to_datetime(df['date'])\n",
    "\n",
    "# Create a complete date range from the earliest to the latest date in the data\n",
    "full_date_range = pd.date_range(start=df['date'].min(), end=df['date'].max(), freq='D')\n",
    "df_full = pd.DataFrame(full_date_range, columns=['date'])\n",
    "\n",
    "# Merge the query results with the full date range, filling missing frequencies with 0\n",
    "df_merged = pd.merge(df_full, df, on='date', how='left')\n",
    "df_merged['frequency'] = df_merged['frequency'].fillna(0)\n",
    "\n",
    "# Convert date to the desired display format (day/month/year)\n",
    "df_merged['date_str'] = df_merged['date'].dt.strftime('%d/%m/%Y')\n",
    "\n",
    "# Create a bar chart using Plotly Express\n",
    "fig = px.bar(df_merged, x='date_str', y='frequency', \n",
    "             title=\"Message Frequency by Date\",\n",
    "             labels={'date_str': 'Date', 'frequency': 'Frequency'})\n",
    "fig.show()"
   ]
  },
  {
   "cell_type": "code",
   "execution_count": 27,
   "metadata": {},
   "outputs": [
    {
     "data": {
      "application/vnd.plotly.v1+json": {
       "config": {
        "plotlyServerURL": "https://plot.ly"
       },
       "data": [
        {
         "customdata": [
          [
           "17:27:04, 17:27:08, 17:27:14, 18:03:20, 18:03:43, 18:03:46, 18:04:00, 18:16:04, 18:29:28"
          ],
          [
           ""
          ],
          [
           ""
          ],
          [
           ""
          ],
          [
           ""
          ],
          [
           "14:00:53"
          ]
         ],
         "hovertemplate": "Date=%{x}<br>Number of Messages=%{y}<br>times=%{customdata[0]}<extra></extra>",
         "legendgroup": "",
         "marker": {
          "color": "#636efa",
          "pattern": {
           "shape": ""
          }
         },
         "name": "",
         "orientation": "v",
         "showlegend": false,
         "textposition": "auto",
         "type": "bar",
         "x": [
          "15/03/2025",
          "16/03/2025",
          "17/03/2025",
          "18/03/2025",
          "19/03/2025",
          "20/03/2025"
         ],
         "xaxis": "x",
         "y": {
          "bdata": "AAAAAAAAIkAAAAAAAAAAAAAAAAAAAAAAAAAAAAAAAAAAAAAAAAAAAAAAAAAAAPA/",
          "dtype": "f8"
         },
         "yaxis": "y"
        }
       ],
       "layout": {
        "barmode": "relative",
        "legend": {
         "tracegroupgap": 0
        },
        "template": {
         "data": {
          "bar": [
           {
            "error_x": {
             "color": "#2a3f5f"
            },
            "error_y": {
             "color": "#2a3f5f"
            },
            "marker": {
             "line": {
              "color": "#E5ECF6",
              "width": 0.5
             },
             "pattern": {
              "fillmode": "overlay",
              "size": 10,
              "solidity": 0.2
             }
            },
            "type": "bar"
           }
          ],
          "barpolar": [
           {
            "marker": {
             "line": {
              "color": "#E5ECF6",
              "width": 0.5
             },
             "pattern": {
              "fillmode": "overlay",
              "size": 10,
              "solidity": 0.2
             }
            },
            "type": "barpolar"
           }
          ],
          "carpet": [
           {
            "aaxis": {
             "endlinecolor": "#2a3f5f",
             "gridcolor": "white",
             "linecolor": "white",
             "minorgridcolor": "white",
             "startlinecolor": "#2a3f5f"
            },
            "baxis": {
             "endlinecolor": "#2a3f5f",
             "gridcolor": "white",
             "linecolor": "white",
             "minorgridcolor": "white",
             "startlinecolor": "#2a3f5f"
            },
            "type": "carpet"
           }
          ],
          "choropleth": [
           {
            "colorbar": {
             "outlinewidth": 0,
             "ticks": ""
            },
            "type": "choropleth"
           }
          ],
          "contour": [
           {
            "colorbar": {
             "outlinewidth": 0,
             "ticks": ""
            },
            "colorscale": [
             [
              0,
              "#0d0887"
             ],
             [
              0.1111111111111111,
              "#46039f"
             ],
             [
              0.2222222222222222,
              "#7201a8"
             ],
             [
              0.3333333333333333,
              "#9c179e"
             ],
             [
              0.4444444444444444,
              "#bd3786"
             ],
             [
              0.5555555555555556,
              "#d8576b"
             ],
             [
              0.6666666666666666,
              "#ed7953"
             ],
             [
              0.7777777777777778,
              "#fb9f3a"
             ],
             [
              0.8888888888888888,
              "#fdca26"
             ],
             [
              1,
              "#f0f921"
             ]
            ],
            "type": "contour"
           }
          ],
          "contourcarpet": [
           {
            "colorbar": {
             "outlinewidth": 0,
             "ticks": ""
            },
            "type": "contourcarpet"
           }
          ],
          "heatmap": [
           {
            "colorbar": {
             "outlinewidth": 0,
             "ticks": ""
            },
            "colorscale": [
             [
              0,
              "#0d0887"
             ],
             [
              0.1111111111111111,
              "#46039f"
             ],
             [
              0.2222222222222222,
              "#7201a8"
             ],
             [
              0.3333333333333333,
              "#9c179e"
             ],
             [
              0.4444444444444444,
              "#bd3786"
             ],
             [
              0.5555555555555556,
              "#d8576b"
             ],
             [
              0.6666666666666666,
              "#ed7953"
             ],
             [
              0.7777777777777778,
              "#fb9f3a"
             ],
             [
              0.8888888888888888,
              "#fdca26"
             ],
             [
              1,
              "#f0f921"
             ]
            ],
            "type": "heatmap"
           }
          ],
          "histogram": [
           {
            "marker": {
             "pattern": {
              "fillmode": "overlay",
              "size": 10,
              "solidity": 0.2
             }
            },
            "type": "histogram"
           }
          ],
          "histogram2d": [
           {
            "colorbar": {
             "outlinewidth": 0,
             "ticks": ""
            },
            "colorscale": [
             [
              0,
              "#0d0887"
             ],
             [
              0.1111111111111111,
              "#46039f"
             ],
             [
              0.2222222222222222,
              "#7201a8"
             ],
             [
              0.3333333333333333,
              "#9c179e"
             ],
             [
              0.4444444444444444,
              "#bd3786"
             ],
             [
              0.5555555555555556,
              "#d8576b"
             ],
             [
              0.6666666666666666,
              "#ed7953"
             ],
             [
              0.7777777777777778,
              "#fb9f3a"
             ],
             [
              0.8888888888888888,
              "#fdca26"
             ],
             [
              1,
              "#f0f921"
             ]
            ],
            "type": "histogram2d"
           }
          ],
          "histogram2dcontour": [
           {
            "colorbar": {
             "outlinewidth": 0,
             "ticks": ""
            },
            "colorscale": [
             [
              0,
              "#0d0887"
             ],
             [
              0.1111111111111111,
              "#46039f"
             ],
             [
              0.2222222222222222,
              "#7201a8"
             ],
             [
              0.3333333333333333,
              "#9c179e"
             ],
             [
              0.4444444444444444,
              "#bd3786"
             ],
             [
              0.5555555555555556,
              "#d8576b"
             ],
             [
              0.6666666666666666,
              "#ed7953"
             ],
             [
              0.7777777777777778,
              "#fb9f3a"
             ],
             [
              0.8888888888888888,
              "#fdca26"
             ],
             [
              1,
              "#f0f921"
             ]
            ],
            "type": "histogram2dcontour"
           }
          ],
          "mesh3d": [
           {
            "colorbar": {
             "outlinewidth": 0,
             "ticks": ""
            },
            "type": "mesh3d"
           }
          ],
          "parcoords": [
           {
            "line": {
             "colorbar": {
              "outlinewidth": 0,
              "ticks": ""
             }
            },
            "type": "parcoords"
           }
          ],
          "pie": [
           {
            "automargin": true,
            "type": "pie"
           }
          ],
          "scatter": [
           {
            "fillpattern": {
             "fillmode": "overlay",
             "size": 10,
             "solidity": 0.2
            },
            "type": "scatter"
           }
          ],
          "scatter3d": [
           {
            "line": {
             "colorbar": {
              "outlinewidth": 0,
              "ticks": ""
             }
            },
            "marker": {
             "colorbar": {
              "outlinewidth": 0,
              "ticks": ""
             }
            },
            "type": "scatter3d"
           }
          ],
          "scattercarpet": [
           {
            "marker": {
             "colorbar": {
              "outlinewidth": 0,
              "ticks": ""
             }
            },
            "type": "scattercarpet"
           }
          ],
          "scattergeo": [
           {
            "marker": {
             "colorbar": {
              "outlinewidth": 0,
              "ticks": ""
             }
            },
            "type": "scattergeo"
           }
          ],
          "scattergl": [
           {
            "marker": {
             "colorbar": {
              "outlinewidth": 0,
              "ticks": ""
             }
            },
            "type": "scattergl"
           }
          ],
          "scattermap": [
           {
            "marker": {
             "colorbar": {
              "outlinewidth": 0,
              "ticks": ""
             }
            },
            "type": "scattermap"
           }
          ],
          "scattermapbox": [
           {
            "marker": {
             "colorbar": {
              "outlinewidth": 0,
              "ticks": ""
             }
            },
            "type": "scattermapbox"
           }
          ],
          "scatterpolar": [
           {
            "marker": {
             "colorbar": {
              "outlinewidth": 0,
              "ticks": ""
             }
            },
            "type": "scatterpolar"
           }
          ],
          "scatterpolargl": [
           {
            "marker": {
             "colorbar": {
              "outlinewidth": 0,
              "ticks": ""
             }
            },
            "type": "scatterpolargl"
           }
          ],
          "scatterternary": [
           {
            "marker": {
             "colorbar": {
              "outlinewidth": 0,
              "ticks": ""
             }
            },
            "type": "scatterternary"
           }
          ],
          "surface": [
           {
            "colorbar": {
             "outlinewidth": 0,
             "ticks": ""
            },
            "colorscale": [
             [
              0,
              "#0d0887"
             ],
             [
              0.1111111111111111,
              "#46039f"
             ],
             [
              0.2222222222222222,
              "#7201a8"
             ],
             [
              0.3333333333333333,
              "#9c179e"
             ],
             [
              0.4444444444444444,
              "#bd3786"
             ],
             [
              0.5555555555555556,
              "#d8576b"
             ],
             [
              0.6666666666666666,
              "#ed7953"
             ],
             [
              0.7777777777777778,
              "#fb9f3a"
             ],
             [
              0.8888888888888888,
              "#fdca26"
             ],
             [
              1,
              "#f0f921"
             ]
            ],
            "type": "surface"
           }
          ],
          "table": [
           {
            "cells": {
             "fill": {
              "color": "#EBF0F8"
             },
             "line": {
              "color": "white"
             }
            },
            "header": {
             "fill": {
              "color": "#C8D4E3"
             },
             "line": {
              "color": "white"
             }
            },
            "type": "table"
           }
          ]
         },
         "layout": {
          "annotationdefaults": {
           "arrowcolor": "#2a3f5f",
           "arrowhead": 0,
           "arrowwidth": 1
          },
          "autotypenumbers": "strict",
          "coloraxis": {
           "colorbar": {
            "outlinewidth": 0,
            "ticks": ""
           }
          },
          "colorscale": {
           "diverging": [
            [
             0,
             "#8e0152"
            ],
            [
             0.1,
             "#c51b7d"
            ],
            [
             0.2,
             "#de77ae"
            ],
            [
             0.3,
             "#f1b6da"
            ],
            [
             0.4,
             "#fde0ef"
            ],
            [
             0.5,
             "#f7f7f7"
            ],
            [
             0.6,
             "#e6f5d0"
            ],
            [
             0.7,
             "#b8e186"
            ],
            [
             0.8,
             "#7fbc41"
            ],
            [
             0.9,
             "#4d9221"
            ],
            [
             1,
             "#276419"
            ]
           ],
           "sequential": [
            [
             0,
             "#0d0887"
            ],
            [
             0.1111111111111111,
             "#46039f"
            ],
            [
             0.2222222222222222,
             "#7201a8"
            ],
            [
             0.3333333333333333,
             "#9c179e"
            ],
            [
             0.4444444444444444,
             "#bd3786"
            ],
            [
             0.5555555555555556,
             "#d8576b"
            ],
            [
             0.6666666666666666,
             "#ed7953"
            ],
            [
             0.7777777777777778,
             "#fb9f3a"
            ],
            [
             0.8888888888888888,
             "#fdca26"
            ],
            [
             1,
             "#f0f921"
            ]
           ],
           "sequentialminus": [
            [
             0,
             "#0d0887"
            ],
            [
             0.1111111111111111,
             "#46039f"
            ],
            [
             0.2222222222222222,
             "#7201a8"
            ],
            [
             0.3333333333333333,
             "#9c179e"
            ],
            [
             0.4444444444444444,
             "#bd3786"
            ],
            [
             0.5555555555555556,
             "#d8576b"
            ],
            [
             0.6666666666666666,
             "#ed7953"
            ],
            [
             0.7777777777777778,
             "#fb9f3a"
            ],
            [
             0.8888888888888888,
             "#fdca26"
            ],
            [
             1,
             "#f0f921"
            ]
           ]
          },
          "colorway": [
           "#636efa",
           "#EF553B",
           "#00cc96",
           "#ab63fa",
           "#FFA15A",
           "#19d3f3",
           "#FF6692",
           "#B6E880",
           "#FF97FF",
           "#FECB52"
          ],
          "font": {
           "color": "#2a3f5f"
          },
          "geo": {
           "bgcolor": "white",
           "lakecolor": "white",
           "landcolor": "#E5ECF6",
           "showlakes": true,
           "showland": true,
           "subunitcolor": "white"
          },
          "hoverlabel": {
           "align": "left"
          },
          "hovermode": "closest",
          "mapbox": {
           "style": "light"
          },
          "paper_bgcolor": "white",
          "plot_bgcolor": "#E5ECF6",
          "polar": {
           "angularaxis": {
            "gridcolor": "white",
            "linecolor": "white",
            "ticks": ""
           },
           "bgcolor": "#E5ECF6",
           "radialaxis": {
            "gridcolor": "white",
            "linecolor": "white",
            "ticks": ""
           }
          },
          "scene": {
           "xaxis": {
            "backgroundcolor": "#E5ECF6",
            "gridcolor": "white",
            "gridwidth": 2,
            "linecolor": "white",
            "showbackground": true,
            "ticks": "",
            "zerolinecolor": "white"
           },
           "yaxis": {
            "backgroundcolor": "#E5ECF6",
            "gridcolor": "white",
            "gridwidth": 2,
            "linecolor": "white",
            "showbackground": true,
            "ticks": "",
            "zerolinecolor": "white"
           },
           "zaxis": {
            "backgroundcolor": "#E5ECF6",
            "gridcolor": "white",
            "gridwidth": 2,
            "linecolor": "white",
            "showbackground": true,
            "ticks": "",
            "zerolinecolor": "white"
           }
          },
          "shapedefaults": {
           "line": {
            "color": "#2a3f5f"
           }
          },
          "ternary": {
           "aaxis": {
            "gridcolor": "white",
            "linecolor": "white",
            "ticks": ""
           },
           "baxis": {
            "gridcolor": "white",
            "linecolor": "white",
            "ticks": ""
           },
           "bgcolor": "#E5ECF6",
           "caxis": {
            "gridcolor": "white",
            "linecolor": "white",
            "ticks": ""
           }
          },
          "title": {
           "x": 0.05
          },
          "xaxis": {
           "automargin": true,
           "gridcolor": "white",
           "linecolor": "white",
           "ticks": "",
           "title": {
            "standoff": 15
           },
           "zerolinecolor": "white",
           "zerolinewidth": 2
          },
          "yaxis": {
           "automargin": true,
           "gridcolor": "white",
           "linecolor": "white",
           "ticks": "",
           "title": {
            "standoff": 15
           },
           "zerolinecolor": "white",
           "zerolinewidth": 2
          }
         }
        },
        "title": {
         "text": "Daily Message Count"
        },
        "xaxis": {
         "anchor": "y",
         "domain": [
          0,
          1
         ],
         "title": {
          "text": "Date (DD/MM/YYYY)"
         }
        },
        "yaxis": {
         "anchor": "x",
         "domain": [
          0,
          1
         ],
         "title": {
          "text": "Number of Messages"
         }
        }
       }
      }
     },
     "metadata": {},
     "output_type": "display_data"
    }
   ],
   "source": [
    "query = \"\"\"\n",
    "        SELECT timestamp\n",
    "        FROM Messages\n",
    "        WHERE user_id = ?\n",
    "        ORDER BY timestamp ASC\n",
    "    \"\"\"\n",
    "df = pd.read_sql_query(query, conn, params=(user_id,))\n",
    "conn.close()\n",
    "    \n",
    "    # Convert the 'timestamp' column from string to datetime objects.\n",
    "df['timestamp'] = pd.to_datetime(df['timestamp'])\n",
    "    \n",
    "    # Create a new column with date in ISO format (YYYY-MM-DD) for grouping and sorting.\n",
    "df['date_iso'] = df['timestamp'].dt.strftime(\"%Y-%m-%d\")\n",
    "    \n",
    "    # Group by the ISO date and count the number of messages per day.\n",
    "daily_counts = df.groupby('date_iso').size().reset_index(name='count')\n",
    "    \n",
    "    # For each day, concatenate the exact times (HH:MM:SS) of messages sent for hover info.\n",
    "times_per_day = df.groupby('date_iso')['timestamp'].apply(\n",
    "        lambda x: \", \".join(x.dt.strftime(\"%H:%M:%S\"))\n",
    "    ).reset_index(name='times')\n",
    "    \n",
    "    # Merge the frequency counts with the times info.\n",
    "daily_counts = pd.merge(daily_counts, times_per_day, on='date_iso')\n",
    "    \n",
    "    # Convert the 'date_iso' column to datetime for proper date range generation.\n",
    "daily_counts['date_iso'] = pd.to_datetime(daily_counts['date_iso'])\n",
    "    \n",
    "    # Create a complete date range from the earliest to the latest date in the data.\n",
    "full_date_range = pd.date_range(start=daily_counts['date_iso'].min(),\n",
    "                                    end=daily_counts['date_iso'].max(),\n",
    "                                    freq='D')\n",
    "df_full = pd.DataFrame(full_date_range, columns=['date_iso'])\n",
    "    \n",
    "    # Merge the complete date range with the aggregated data, filling missing records.\n",
    "df_merged = pd.merge(df_full, daily_counts, on='date_iso', how='left')\n",
    "df_merged['count'] = df_merged['count'].fillna(0)\n",
    "df_merged['times'] = df_merged['times'].fillna(\"\")\n",
    "    \n",
    "    # Convert the date to the desired display format (day/month/year).\n",
    "df_merged['date_str'] = df_merged['date_iso'].dt.strftime('%d/%m/%Y')\n",
    "    \n",
    "    # Create a bar chart using Plotly Express.\n",
    "fig = px.bar(\n",
    "        df_merged,\n",
    "        x='date_str',\n",
    "        y='count',\n",
    "        title=\"Daily Message Count\",\n",
    "        labels={'date_str': 'Date', 'count': 'Number of Messages'},\n",
    "        hover_data={'times': True}\n",
    "    )\n",
    "fig.update_layout(\n",
    "        xaxis_title=\"Date (DD/MM/YYYY)\",\n",
    "        yaxis_title=\"Number of Messages\"\n",
    "    )\n",
    "    \n",
    "    # Return the figure as a JSON objec"
   ]
  },
  {
   "cell_type": "code",
   "execution_count": null,
   "metadata": {},
   "outputs": [],
   "source": []
  },
  {
   "cell_type": "code",
   "execution_count": null,
   "metadata": {},
   "outputs": [],
   "source": [
    "    "
   ]
  }
 ],
 "metadata": {
  "kernelspec": {
   "display_name": "Python 3",
   "language": "python",
   "name": "python3"
  },
  "language_info": {
   "codemirror_mode": {
    "name": "ipython",
    "version": 3
   },
   "file_extension": ".py",
   "mimetype": "text/x-python",
   "name": "python",
   "nbconvert_exporter": "python",
   "pygments_lexer": "ipython3",
   "version": "3.13.2"
  }
 },
 "nbformat": 4,
 "nbformat_minor": 2
}
